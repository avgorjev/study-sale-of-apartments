{
 "cells": [
  {
   "cell_type": "markdown",
   "metadata": {
    "toc": true
   },
   "source": [
    "<h1>Содержание<span class=\"tocSkip\"></span></h1>\n",
    "<div class=\"toc\"><ul class=\"toc-item\"><li><span><a href=\"#Изучение-данных-из-файла\" data-toc-modified-id=\"Изучение-данных-из-файла-1\"><span class=\"toc-item-num\">1&nbsp;&nbsp;</span>Изучение данных из файла</a></span><ul class=\"toc-item\"><li><span><a href=\"#Анализ-базы-данных\" data-toc-modified-id=\"Анализ-базы-данных-1.1\"><span class=\"toc-item-num\">1.1&nbsp;&nbsp;</span>Анализ базы данных</a></span></li><li><span><a href=\"#Вывод\" data-toc-modified-id=\"Вывод-1.2\"><span class=\"toc-item-num\">1.2&nbsp;&nbsp;</span>Вывод</a></span></li></ul></li><li><span><a href=\"#Предобработка-данных\" data-toc-modified-id=\"Предобработка-данных-2\"><span class=\"toc-item-num\">2&nbsp;&nbsp;</span>Предобработка данных</a></span><ul class=\"toc-item\"><li><span><a href=\"#Заполнение-пропущенных-значений\" data-toc-modified-id=\"Заполнение-пропущенных-значений-2.1\"><span class=\"toc-item-num\">2.1&nbsp;&nbsp;</span>Заполнение пропущенных значений</a></span></li><li><span><a href=\"#Проверка-на-наличие-дубликатов\" data-toc-modified-id=\"Проверка-на-наличие-дубликатов-2.2\"><span class=\"toc-item-num\">2.2&nbsp;&nbsp;</span>Проверка на наличие дубликатов</a></span></li><li><span><a href=\"#Вывод\" data-toc-modified-id=\"Вывод-2.3\"><span class=\"toc-item-num\">2.3&nbsp;&nbsp;</span>Вывод</a></span></li></ul></li><li><span><a href=\"#Расчёты-и-добавление-результатов-в-таблицу\" data-toc-modified-id=\"Расчёты-и-добавление-результатов-в-таблицу-3\"><span class=\"toc-item-num\">3&nbsp;&nbsp;</span>Расчёты и добавление результатов в таблицу</a></span><ul class=\"toc-item\"><li><span><a href=\"#Включение-дополнительных-полей\" data-toc-modified-id=\"Включение-дополнительных-полей-3.1\"><span class=\"toc-item-num\">3.1&nbsp;&nbsp;</span>Включение дополнительных полей</a></span></li><li><span><a href=\"#Вывод\" data-toc-modified-id=\"Вывод-3.2\"><span class=\"toc-item-num\">3.2&nbsp;&nbsp;</span>Вывод</a></span></li></ul></li><li><span><a href=\"#Исследовательский-анализ-данных\" data-toc-modified-id=\"Исследовательский-анализ-данных-4\"><span class=\"toc-item-num\">4&nbsp;&nbsp;</span>Исследовательский анализ данных</a></span><ul class=\"toc-item\"><li><span><a href=\"#Построение-диаграмм\" data-toc-modified-id=\"Построение-диаграмм-4.1\"><span class=\"toc-item-num\">4.1&nbsp;&nbsp;</span>Построение диаграмм</a></span></li><li><span><a href=\"#Анализ-времени-продажи-квартир\" data-toc-modified-id=\"Анализ-времени-продажи-квартир-4.2\"><span class=\"toc-item-num\">4.2&nbsp;&nbsp;</span>Анализ времени продажи квартир</a></span></li><li><span><a href=\"#Анализ-факторов-стоимости-квартир\" data-toc-modified-id=\"Анализ-факторов-стоимости-квартир-4.3\"><span class=\"toc-item-num\">4.3&nbsp;&nbsp;</span>Анализ факторов стоимости квартир</a></span></li><li><span><a href=\"#Анализ-стоимости-жилья-в-населенных-пунктах\" data-toc-modified-id=\"Анализ-стоимости-жилья-в-населенных-пунктах-4.4\"><span class=\"toc-item-num\">4.4&nbsp;&nbsp;</span>Анализ стоимости жилья в населенных пунктах</a></span></li><li><span><a href=\"#Предложение-в-Санкт-Петербурге\" data-toc-modified-id=\"Предложение-в-Санкт-Петербурге-4.5\"><span class=\"toc-item-num\">4.5&nbsp;&nbsp;</span>Предложение в Санкт-Петербурге</a></span></li><li><span><a href=\"#Анализ-сегмента-центрального-района-Санкт-Петербурга\" data-toc-modified-id=\"Анализ-сегмента-центрального-района-Санкт-Петербурга-4.6\"><span class=\"toc-item-num\">4.6&nbsp;&nbsp;</span>Анализ сегмента центрального района Санкт-Петербурга</a></span></li></ul></li><li><span><a href=\"#-Комментарий-ревьюера-3\" data-toc-modified-id=\"-Комментарий-ревьюера-3-5\"><span class=\"toc-item-num\">5&nbsp;&nbsp;</span> Комментарий ревьюера 3</a></span></li><li><span><a href=\"#-Комментарий-ревьюера-3\" data-toc-modified-id=\"-Комментарий-ревьюера-3-6\"><span class=\"toc-item-num\">6&nbsp;&nbsp;</span> Комментарий ревьюера 3</a></span></li><li><span><a href=\"#-Комментарий-ревьюера-3\" data-toc-modified-id=\"-Комментарий-ревьюера-3-7\"><span class=\"toc-item-num\">7&nbsp;&nbsp;</span> Комментарий ревьюера 3</a></span></li><li><span><a href=\"#Общий-вывод\" data-toc-modified-id=\"Общий-вывод-8\"><span class=\"toc-item-num\">8&nbsp;&nbsp;</span>Общий вывод</a></span></li><li><span><a href=\"#Чек-лист-готовности-проекта\" data-toc-modified-id=\"Чек-лист-готовности-проекта-9\"><span class=\"toc-item-num\">9&nbsp;&nbsp;</span>Чек-лист готовности проекта</a></span></li></ul></div>"
   ]
  },
  {
   "cell_type": "markdown",
   "metadata": {},
   "source": [
    "# Исследование объявлений о продаже квартир\n",
    "\n",
    "На основании данных сервиса Яндекс.Недвижимость — архив объявлений о продаже квартир в Санкт-Петербурге и соседних населённых пунктах за несколько лет необходимо определять рыночную стоимость объектов недвижимости. Выявленные параметры позволят построить автоматизированную систему, которая отследит аномалии и мошенническую деятельность. \n",
    "\n",
    "По каждой квартире на продажу доступны два вида данных. Первые вписаны пользователем, вторые получены автоматически на основе картографических данных. Например, расстояние до центра, аэропорта, ближайшего парка и водоёма. "
   ]
  },
  {
   "cell_type": "markdown",
   "metadata": {},
   "source": [
    "## Изучение данных из файла"
   ]
  },
  {
   "cell_type": "markdown",
   "metadata": {},
   "source": [
    "### Анализ базы данных"
   ]
  },
  {
   "cell_type": "code",
   "execution_count": 2,
   "metadata": {},
   "outputs": [
    {
     "name": "stdout",
     "output_type": "stream",
     "text": [
      "<class 'pandas.core.frame.DataFrame'>\n",
      "RangeIndex: 23699 entries, 0 to 23698\n",
      "Data columns (total 22 columns):\n",
      "total_images            23699 non-null int64\n",
      "last_price              23699 non-null float64\n",
      "total_area              23699 non-null float64\n",
      "first_day_exposition    23699 non-null object\n",
      "rooms                   23699 non-null int64\n",
      "ceiling_height          14504 non-null float64\n",
      "floors_total            23613 non-null float64\n",
      "living_area             21796 non-null float64\n",
      "floor                   23699 non-null int64\n",
      "is_apartment            2775 non-null object\n",
      "studio                  23699 non-null bool\n",
      "open_plan               23699 non-null bool\n",
      "kitchen_area            21421 non-null float64\n",
      "balcony                 12180 non-null float64\n",
      "locality_name           23650 non-null object\n",
      "airports_nearest        18157 non-null float64\n",
      "cityCenters_nearest     18180 non-null float64\n",
      "parks_around3000        18181 non-null float64\n",
      "parks_nearest           8079 non-null float64\n",
      "ponds_around3000        18181 non-null float64\n",
      "ponds_nearest           9110 non-null float64\n",
      "days_exposition         20518 non-null float64\n",
      "dtypes: bool(2), float64(14), int64(3), object(3)\n",
      "memory usage: 3.7+ MB\n"
     ]
    }
   ],
   "source": [
    "import pandas as pd \n",
    "data = pd.read_csv('/datasets/real_estate_data.csv', sep = '\\t') #  Импортируем дазу данных\n",
    "data.info()  #  Считываем общую информацию по базе данных"
   ]
  },
  {
   "cell_type": "markdown",
   "metadata": {},
   "source": [
    "База данных содержит 23699 записей, 22 поля; имеются незаполненные данные"
   ]
  },
  {
   "cell_type": "code",
   "execution_count": 3,
   "metadata": {},
   "outputs": [
    {
     "data": {
      "text/html": [
       "<div>\n",
       "<style scoped>\n",
       "    .dataframe tbody tr th:only-of-type {\n",
       "        vertical-align: middle;\n",
       "    }\n",
       "\n",
       "    .dataframe tbody tr th {\n",
       "        vertical-align: top;\n",
       "    }\n",
       "\n",
       "    .dataframe thead th {\n",
       "        text-align: right;\n",
       "    }\n",
       "</style>\n",
       "<table border=\"1\" class=\"dataframe\">\n",
       "  <thead>\n",
       "    <tr style=\"text-align: right;\">\n",
       "      <th></th>\n",
       "      <th>total_images</th>\n",
       "      <th>last_price</th>\n",
       "      <th>total_area</th>\n",
       "      <th>rooms</th>\n",
       "      <th>ceiling_height</th>\n",
       "      <th>floors_total</th>\n",
       "      <th>living_area</th>\n",
       "      <th>floor</th>\n",
       "      <th>kitchen_area</th>\n",
       "      <th>balcony</th>\n",
       "      <th>airports_nearest</th>\n",
       "      <th>cityCenters_nearest</th>\n",
       "      <th>parks_around3000</th>\n",
       "      <th>parks_nearest</th>\n",
       "      <th>ponds_around3000</th>\n",
       "      <th>ponds_nearest</th>\n",
       "      <th>days_exposition</th>\n",
       "    </tr>\n",
       "  </thead>\n",
       "  <tbody>\n",
       "    <tr>\n",
       "      <td>count</td>\n",
       "      <td>23699.000000</td>\n",
       "      <td>2.369900e+04</td>\n",
       "      <td>23699.000000</td>\n",
       "      <td>23699.000000</td>\n",
       "      <td>14504.000000</td>\n",
       "      <td>23613.000000</td>\n",
       "      <td>21796.000000</td>\n",
       "      <td>23699.000000</td>\n",
       "      <td>21421.000000</td>\n",
       "      <td>12180.000000</td>\n",
       "      <td>18157.000000</td>\n",
       "      <td>18180.000000</td>\n",
       "      <td>18181.000000</td>\n",
       "      <td>8079.000000</td>\n",
       "      <td>18181.000000</td>\n",
       "      <td>9110.000000</td>\n",
       "      <td>20518.000000</td>\n",
       "    </tr>\n",
       "    <tr>\n",
       "      <td>mean</td>\n",
       "      <td>9.858475</td>\n",
       "      <td>6.541549e+06</td>\n",
       "      <td>60.348651</td>\n",
       "      <td>2.070636</td>\n",
       "      <td>2.771499</td>\n",
       "      <td>10.673824</td>\n",
       "      <td>34.457852</td>\n",
       "      <td>5.892358</td>\n",
       "      <td>10.569807</td>\n",
       "      <td>1.150082</td>\n",
       "      <td>28793.672193</td>\n",
       "      <td>14191.277833</td>\n",
       "      <td>0.611408</td>\n",
       "      <td>490.804555</td>\n",
       "      <td>0.770255</td>\n",
       "      <td>517.980900</td>\n",
       "      <td>180.888634</td>\n",
       "    </tr>\n",
       "    <tr>\n",
       "      <td>std</td>\n",
       "      <td>5.682529</td>\n",
       "      <td>1.088701e+07</td>\n",
       "      <td>35.654083</td>\n",
       "      <td>1.078405</td>\n",
       "      <td>1.261056</td>\n",
       "      <td>6.597173</td>\n",
       "      <td>22.030445</td>\n",
       "      <td>4.885249</td>\n",
       "      <td>5.905438</td>\n",
       "      <td>1.071300</td>\n",
       "      <td>12630.880622</td>\n",
       "      <td>8608.386210</td>\n",
       "      <td>0.802074</td>\n",
       "      <td>342.317995</td>\n",
       "      <td>0.938346</td>\n",
       "      <td>277.720643</td>\n",
       "      <td>219.727988</td>\n",
       "    </tr>\n",
       "    <tr>\n",
       "      <td>min</td>\n",
       "      <td>0.000000</td>\n",
       "      <td>1.219000e+04</td>\n",
       "      <td>12.000000</td>\n",
       "      <td>0.000000</td>\n",
       "      <td>1.000000</td>\n",
       "      <td>1.000000</td>\n",
       "      <td>2.000000</td>\n",
       "      <td>1.000000</td>\n",
       "      <td>1.300000</td>\n",
       "      <td>0.000000</td>\n",
       "      <td>0.000000</td>\n",
       "      <td>181.000000</td>\n",
       "      <td>0.000000</td>\n",
       "      <td>1.000000</td>\n",
       "      <td>0.000000</td>\n",
       "      <td>13.000000</td>\n",
       "      <td>1.000000</td>\n",
       "    </tr>\n",
       "    <tr>\n",
       "      <td>25%</td>\n",
       "      <td>6.000000</td>\n",
       "      <td>3.400000e+06</td>\n",
       "      <td>40.000000</td>\n",
       "      <td>1.000000</td>\n",
       "      <td>2.520000</td>\n",
       "      <td>5.000000</td>\n",
       "      <td>18.600000</td>\n",
       "      <td>2.000000</td>\n",
       "      <td>7.000000</td>\n",
       "      <td>0.000000</td>\n",
       "      <td>18585.000000</td>\n",
       "      <td>9238.000000</td>\n",
       "      <td>0.000000</td>\n",
       "      <td>288.000000</td>\n",
       "      <td>0.000000</td>\n",
       "      <td>294.000000</td>\n",
       "      <td>45.000000</td>\n",
       "    </tr>\n",
       "    <tr>\n",
       "      <td>50%</td>\n",
       "      <td>9.000000</td>\n",
       "      <td>4.650000e+06</td>\n",
       "      <td>52.000000</td>\n",
       "      <td>2.000000</td>\n",
       "      <td>2.650000</td>\n",
       "      <td>9.000000</td>\n",
       "      <td>30.000000</td>\n",
       "      <td>4.000000</td>\n",
       "      <td>9.100000</td>\n",
       "      <td>1.000000</td>\n",
       "      <td>26726.000000</td>\n",
       "      <td>13098.500000</td>\n",
       "      <td>0.000000</td>\n",
       "      <td>455.000000</td>\n",
       "      <td>1.000000</td>\n",
       "      <td>502.000000</td>\n",
       "      <td>95.000000</td>\n",
       "    </tr>\n",
       "    <tr>\n",
       "      <td>75%</td>\n",
       "      <td>14.000000</td>\n",
       "      <td>6.800000e+06</td>\n",
       "      <td>69.900000</td>\n",
       "      <td>3.000000</td>\n",
       "      <td>2.800000</td>\n",
       "      <td>16.000000</td>\n",
       "      <td>42.300000</td>\n",
       "      <td>8.000000</td>\n",
       "      <td>12.000000</td>\n",
       "      <td>2.000000</td>\n",
       "      <td>37273.000000</td>\n",
       "      <td>16293.000000</td>\n",
       "      <td>1.000000</td>\n",
       "      <td>612.000000</td>\n",
       "      <td>1.000000</td>\n",
       "      <td>729.000000</td>\n",
       "      <td>232.000000</td>\n",
       "    </tr>\n",
       "    <tr>\n",
       "      <td>max</td>\n",
       "      <td>50.000000</td>\n",
       "      <td>7.630000e+08</td>\n",
       "      <td>900.000000</td>\n",
       "      <td>19.000000</td>\n",
       "      <td>100.000000</td>\n",
       "      <td>60.000000</td>\n",
       "      <td>409.700000</td>\n",
       "      <td>33.000000</td>\n",
       "      <td>112.000000</td>\n",
       "      <td>5.000000</td>\n",
       "      <td>84869.000000</td>\n",
       "      <td>65968.000000</td>\n",
       "      <td>3.000000</td>\n",
       "      <td>3190.000000</td>\n",
       "      <td>3.000000</td>\n",
       "      <td>1344.000000</td>\n",
       "      <td>1580.000000</td>\n",
       "    </tr>\n",
       "  </tbody>\n",
       "</table>\n",
       "</div>"
      ],
      "text/plain": [
       "       total_images    last_price    total_area         rooms  ceiling_height  \\\n",
       "count  23699.000000  2.369900e+04  23699.000000  23699.000000    14504.000000   \n",
       "mean       9.858475  6.541549e+06     60.348651      2.070636        2.771499   \n",
       "std        5.682529  1.088701e+07     35.654083      1.078405        1.261056   \n",
       "min        0.000000  1.219000e+04     12.000000      0.000000        1.000000   \n",
       "25%        6.000000  3.400000e+06     40.000000      1.000000        2.520000   \n",
       "50%        9.000000  4.650000e+06     52.000000      2.000000        2.650000   \n",
       "75%       14.000000  6.800000e+06     69.900000      3.000000        2.800000   \n",
       "max       50.000000  7.630000e+08    900.000000     19.000000      100.000000   \n",
       "\n",
       "       floors_total   living_area         floor  kitchen_area       balcony  \\\n",
       "count  23613.000000  21796.000000  23699.000000  21421.000000  12180.000000   \n",
       "mean      10.673824     34.457852      5.892358     10.569807      1.150082   \n",
       "std        6.597173     22.030445      4.885249      5.905438      1.071300   \n",
       "min        1.000000      2.000000      1.000000      1.300000      0.000000   \n",
       "25%        5.000000     18.600000      2.000000      7.000000      0.000000   \n",
       "50%        9.000000     30.000000      4.000000      9.100000      1.000000   \n",
       "75%       16.000000     42.300000      8.000000     12.000000      2.000000   \n",
       "max       60.000000    409.700000     33.000000    112.000000      5.000000   \n",
       "\n",
       "       airports_nearest  cityCenters_nearest  parks_around3000  parks_nearest  \\\n",
       "count      18157.000000         18180.000000      18181.000000    8079.000000   \n",
       "mean       28793.672193         14191.277833          0.611408     490.804555   \n",
       "std        12630.880622          8608.386210          0.802074     342.317995   \n",
       "min            0.000000           181.000000          0.000000       1.000000   \n",
       "25%        18585.000000          9238.000000          0.000000     288.000000   \n",
       "50%        26726.000000         13098.500000          0.000000     455.000000   \n",
       "75%        37273.000000         16293.000000          1.000000     612.000000   \n",
       "max        84869.000000         65968.000000          3.000000    3190.000000   \n",
       "\n",
       "       ponds_around3000  ponds_nearest  days_exposition  \n",
       "count      18181.000000    9110.000000     20518.000000  \n",
       "mean           0.770255     517.980900       180.888634  \n",
       "std            0.938346     277.720643       219.727988  \n",
       "min            0.000000      13.000000         1.000000  \n",
       "25%            0.000000     294.000000        45.000000  \n",
       "50%            1.000000     502.000000        95.000000  \n",
       "75%            1.000000     729.000000       232.000000  \n",
       "max            3.000000    1344.000000      1580.000000  "
      ]
     },
     "execution_count": 3,
     "metadata": {},
     "output_type": "execute_result"
    }
   ],
   "source": [
    "data.describe()"
   ]
  },
  {
   "cell_type": "code",
   "execution_count": 4,
   "metadata": {
    "scrolled": true
   },
   "outputs": [
    {
     "data": {
      "text/html": [
       "<div>\n",
       "<style scoped>\n",
       "    .dataframe tbody tr th:only-of-type {\n",
       "        vertical-align: middle;\n",
       "    }\n",
       "\n",
       "    .dataframe tbody tr th {\n",
       "        vertical-align: top;\n",
       "    }\n",
       "\n",
       "    .dataframe thead th {\n",
       "        text-align: right;\n",
       "    }\n",
       "</style>\n",
       "<table border=\"1\" class=\"dataframe\">\n",
       "  <thead>\n",
       "    <tr style=\"text-align: right;\">\n",
       "      <th></th>\n",
       "      <th>total_images</th>\n",
       "      <th>last_price</th>\n",
       "      <th>total_area</th>\n",
       "      <th>first_day_exposition</th>\n",
       "      <th>rooms</th>\n",
       "      <th>ceiling_height</th>\n",
       "      <th>floors_total</th>\n",
       "      <th>living_area</th>\n",
       "      <th>floor</th>\n",
       "      <th>is_apartment</th>\n",
       "      <th>...</th>\n",
       "      <th>kitchen_area</th>\n",
       "      <th>balcony</th>\n",
       "      <th>locality_name</th>\n",
       "      <th>airports_nearest</th>\n",
       "      <th>cityCenters_nearest</th>\n",
       "      <th>parks_around3000</th>\n",
       "      <th>parks_nearest</th>\n",
       "      <th>ponds_around3000</th>\n",
       "      <th>ponds_nearest</th>\n",
       "      <th>days_exposition</th>\n",
       "    </tr>\n",
       "  </thead>\n",
       "  <tbody>\n",
       "    <tr>\n",
       "      <td>0</td>\n",
       "      <td>20</td>\n",
       "      <td>13000000.0</td>\n",
       "      <td>108.0</td>\n",
       "      <td>2019-03-07T00:00:00</td>\n",
       "      <td>3</td>\n",
       "      <td>2.70</td>\n",
       "      <td>16.0</td>\n",
       "      <td>51.0</td>\n",
       "      <td>8</td>\n",
       "      <td>NaN</td>\n",
       "      <td>...</td>\n",
       "      <td>25.0</td>\n",
       "      <td>NaN</td>\n",
       "      <td>Санкт-Петербург</td>\n",
       "      <td>18863.0</td>\n",
       "      <td>16028.0</td>\n",
       "      <td>1.0</td>\n",
       "      <td>482.0</td>\n",
       "      <td>2.0</td>\n",
       "      <td>755.0</td>\n",
       "      <td>NaN</td>\n",
       "    </tr>\n",
       "    <tr>\n",
       "      <td>1</td>\n",
       "      <td>7</td>\n",
       "      <td>3350000.0</td>\n",
       "      <td>40.4</td>\n",
       "      <td>2018-12-04T00:00:00</td>\n",
       "      <td>1</td>\n",
       "      <td>NaN</td>\n",
       "      <td>11.0</td>\n",
       "      <td>18.6</td>\n",
       "      <td>1</td>\n",
       "      <td>NaN</td>\n",
       "      <td>...</td>\n",
       "      <td>11.0</td>\n",
       "      <td>2.0</td>\n",
       "      <td>посёлок Шушары</td>\n",
       "      <td>12817.0</td>\n",
       "      <td>18603.0</td>\n",
       "      <td>0.0</td>\n",
       "      <td>NaN</td>\n",
       "      <td>0.0</td>\n",
       "      <td>NaN</td>\n",
       "      <td>81.0</td>\n",
       "    </tr>\n",
       "    <tr>\n",
       "      <td>2</td>\n",
       "      <td>10</td>\n",
       "      <td>5196000.0</td>\n",
       "      <td>56.0</td>\n",
       "      <td>2015-08-20T00:00:00</td>\n",
       "      <td>2</td>\n",
       "      <td>NaN</td>\n",
       "      <td>5.0</td>\n",
       "      <td>34.3</td>\n",
       "      <td>4</td>\n",
       "      <td>NaN</td>\n",
       "      <td>...</td>\n",
       "      <td>8.3</td>\n",
       "      <td>0.0</td>\n",
       "      <td>Санкт-Петербург</td>\n",
       "      <td>21741.0</td>\n",
       "      <td>13933.0</td>\n",
       "      <td>1.0</td>\n",
       "      <td>90.0</td>\n",
       "      <td>2.0</td>\n",
       "      <td>574.0</td>\n",
       "      <td>558.0</td>\n",
       "    </tr>\n",
       "    <tr>\n",
       "      <td>3</td>\n",
       "      <td>0</td>\n",
       "      <td>64900000.0</td>\n",
       "      <td>159.0</td>\n",
       "      <td>2015-07-24T00:00:00</td>\n",
       "      <td>3</td>\n",
       "      <td>NaN</td>\n",
       "      <td>14.0</td>\n",
       "      <td>NaN</td>\n",
       "      <td>9</td>\n",
       "      <td>NaN</td>\n",
       "      <td>...</td>\n",
       "      <td>NaN</td>\n",
       "      <td>0.0</td>\n",
       "      <td>Санкт-Петербург</td>\n",
       "      <td>28098.0</td>\n",
       "      <td>6800.0</td>\n",
       "      <td>2.0</td>\n",
       "      <td>84.0</td>\n",
       "      <td>3.0</td>\n",
       "      <td>234.0</td>\n",
       "      <td>424.0</td>\n",
       "    </tr>\n",
       "    <tr>\n",
       "      <td>4</td>\n",
       "      <td>2</td>\n",
       "      <td>10000000.0</td>\n",
       "      <td>100.0</td>\n",
       "      <td>2018-06-19T00:00:00</td>\n",
       "      <td>2</td>\n",
       "      <td>3.03</td>\n",
       "      <td>14.0</td>\n",
       "      <td>32.0</td>\n",
       "      <td>13</td>\n",
       "      <td>NaN</td>\n",
       "      <td>...</td>\n",
       "      <td>41.0</td>\n",
       "      <td>NaN</td>\n",
       "      <td>Санкт-Петербург</td>\n",
       "      <td>31856.0</td>\n",
       "      <td>8098.0</td>\n",
       "      <td>2.0</td>\n",
       "      <td>112.0</td>\n",
       "      <td>1.0</td>\n",
       "      <td>48.0</td>\n",
       "      <td>121.0</td>\n",
       "    </tr>\n",
       "  </tbody>\n",
       "</table>\n",
       "<p>5 rows × 22 columns</p>\n",
       "</div>"
      ],
      "text/plain": [
       "   total_images  last_price  total_area first_day_exposition  rooms  \\\n",
       "0            20  13000000.0       108.0  2019-03-07T00:00:00      3   \n",
       "1             7   3350000.0        40.4  2018-12-04T00:00:00      1   \n",
       "2            10   5196000.0        56.0  2015-08-20T00:00:00      2   \n",
       "3             0  64900000.0       159.0  2015-07-24T00:00:00      3   \n",
       "4             2  10000000.0       100.0  2018-06-19T00:00:00      2   \n",
       "\n",
       "   ceiling_height  floors_total  living_area  floor is_apartment  ...  \\\n",
       "0            2.70          16.0         51.0      8          NaN  ...   \n",
       "1             NaN          11.0         18.6      1          NaN  ...   \n",
       "2             NaN           5.0         34.3      4          NaN  ...   \n",
       "3             NaN          14.0          NaN      9          NaN  ...   \n",
       "4            3.03          14.0         32.0     13          NaN  ...   \n",
       "\n",
       "   kitchen_area  balcony    locality_name  airports_nearest  \\\n",
       "0          25.0      NaN  Санкт-Петербург           18863.0   \n",
       "1          11.0      2.0   посёлок Шушары           12817.0   \n",
       "2           8.3      0.0  Санкт-Петербург           21741.0   \n",
       "3           NaN      0.0  Санкт-Петербург           28098.0   \n",
       "4          41.0      NaN  Санкт-Петербург           31856.0   \n",
       "\n",
       "  cityCenters_nearest  parks_around3000  parks_nearest  ponds_around3000  \\\n",
       "0             16028.0               1.0          482.0               2.0   \n",
       "1             18603.0               0.0            NaN               0.0   \n",
       "2             13933.0               1.0           90.0               2.0   \n",
       "3              6800.0               2.0           84.0               3.0   \n",
       "4              8098.0               2.0          112.0               1.0   \n",
       "\n",
       "   ponds_nearest  days_exposition  \n",
       "0          755.0              NaN  \n",
       "1            NaN             81.0  \n",
       "2          574.0            558.0  \n",
       "3          234.0            424.0  \n",
       "4           48.0            121.0  \n",
       "\n",
       "[5 rows x 22 columns]"
      ]
     },
     "execution_count": 4,
     "metadata": {},
     "output_type": "execute_result"
    }
   ],
   "source": [
    "data.head() #  Вызываем первые 5 записи таблицы"
   ]
  },
  {
   "cell_type": "markdown",
   "metadata": {},
   "source": [
    "### Вывод"
   ]
  },
  {
   "cell_type": "markdown",
   "metadata": {},
   "source": [
    "Предположение о наличии незаполненных полей подтверждается, имеются поля, в которым целесообразно для дальнейших операций заменить тип данных (first_day_exposition, floors_total и пр.)"
   ]
  },
  {
   "cell_type": "markdown",
   "metadata": {},
   "source": [
    "## Предобработка данных"
   ]
  },
  {
   "cell_type": "markdown",
   "metadata": {},
   "source": [
    "### Заполнение пропущенных значений"
   ]
  },
  {
   "cell_type": "markdown",
   "metadata": {},
   "source": [
    "Столбец is_apartment подразумевает два варианта ответа, поэтому наиболее подходящим типом данных для него является булев"
   ]
  },
  {
   "cell_type": "code",
   "execution_count": 5,
   "metadata": {},
   "outputs": [
    {
     "data": {
      "text/plain": [
       "array([nan, False, True], dtype=object)"
      ]
     },
     "execution_count": 5,
     "metadata": {},
     "output_type": "execute_result"
    }
   ],
   "source": [
    "data['is_apartment'].unique() #  Исследуем поле is_apartment на наличие всех возможных значений"
   ]
  },
  {
   "cell_type": "markdown",
   "metadata": {},
   "source": [
    "Заполним пропущенные данные значением False"
   ]
  },
  {
   "cell_type": "code",
   "execution_count": 6,
   "metadata": {},
   "outputs": [
    {
     "name": "stdout",
     "output_type": "stream",
     "text": [
      "<class 'pandas.core.frame.DataFrame'>\n",
      "RangeIndex: 23699 entries, 0 to 23698\n",
      "Data columns (total 22 columns):\n",
      "total_images            23699 non-null int64\n",
      "last_price              23699 non-null float64\n",
      "total_area              23699 non-null float64\n",
      "first_day_exposition    23699 non-null object\n",
      "rooms                   23699 non-null int64\n",
      "ceiling_height          14504 non-null float64\n",
      "floors_total            23613 non-null float64\n",
      "living_area             21796 non-null float64\n",
      "floor                   23699 non-null int64\n",
      "is_apartment            23699 non-null bool\n",
      "studio                  23699 non-null bool\n",
      "open_plan               23699 non-null bool\n",
      "kitchen_area            21421 non-null float64\n",
      "balcony                 12180 non-null float64\n",
      "locality_name           23650 non-null object\n",
      "airports_nearest        18157 non-null float64\n",
      "cityCenters_nearest     18180 non-null float64\n",
      "parks_around3000        18181 non-null float64\n",
      "parks_nearest           8079 non-null float64\n",
      "ponds_around3000        18181 non-null float64\n",
      "ponds_nearest           9110 non-null float64\n",
      "days_exposition         20518 non-null float64\n",
      "dtypes: bool(3), float64(14), int64(3), object(2)\n",
      "memory usage: 3.5+ MB\n"
     ]
    }
   ],
   "source": [
    "data['is_apartment'] = data['is_apartment'].fillna(value = False) #  Заполняем пропущенные значения методом fillna()\n",
    "data.info()"
   ]
  },
  {
   "cell_type": "markdown",
   "metadata": {},
   "source": [
    "Пропущенные данные в столбцах kitchen_area, balcony, parks_around3000, ponds_around3000 целесообразно заполнить нулями"
   ]
  },
  {
   "cell_type": "code",
   "execution_count": 7,
   "metadata": {},
   "outputs": [
    {
     "name": "stdout",
     "output_type": "stream",
     "text": [
      "<class 'pandas.core.frame.DataFrame'>\n",
      "RangeIndex: 23699 entries, 0 to 23698\n",
      "Data columns (total 22 columns):\n",
      "total_images            23699 non-null int64\n",
      "last_price              23699 non-null float64\n",
      "total_area              23699 non-null float64\n",
      "first_day_exposition    23699 non-null object\n",
      "rooms                   23699 non-null int64\n",
      "ceiling_height          14504 non-null float64\n",
      "floors_total            23613 non-null float64\n",
      "living_area             21796 non-null float64\n",
      "floor                   23699 non-null int64\n",
      "is_apartment            23699 non-null bool\n",
      "studio                  23699 non-null bool\n",
      "open_plan               23699 non-null bool\n",
      "kitchen_area            23699 non-null float64\n",
      "balcony                 23699 non-null float64\n",
      "locality_name           23650 non-null object\n",
      "airports_nearest        18157 non-null float64\n",
      "cityCenters_nearest     18180 non-null float64\n",
      "parks_around3000        23699 non-null float64\n",
      "parks_nearest           8079 non-null float64\n",
      "ponds_around3000        23699 non-null float64\n",
      "ponds_nearest           9110 non-null float64\n",
      "days_exposition         20518 non-null float64\n",
      "dtypes: bool(3), float64(14), int64(3), object(2)\n",
      "memory usage: 3.5+ MB\n"
     ]
    }
   ],
   "source": [
    "data['kitchen_area'] = data['kitchen_area'].fillna(value = 0)\n",
    "data['balcony'] = data['balcony'].fillna(value = 0)\n",
    "data['parks_around3000'] = data['parks_around3000'].fillna(value = 0)\n",
    "data['ponds_around3000'] = data['ponds_around3000'].fillna(value = 0)\n",
    "data.info()"
   ]
  },
  {
   "cell_type": "code",
   "execution_count": 8,
   "metadata": {},
   "outputs": [
    {
     "name": "stdout",
     "output_type": "stream",
     "text": [
      "<class 'pandas.core.frame.DataFrame'>\n",
      "RangeIndex: 23699 entries, 0 to 23698\n",
      "Data columns (total 22 columns):\n",
      "total_images            23699 non-null int64\n",
      "last_price              23699 non-null float64\n",
      "total_area              23699 non-null float64\n",
      "first_day_exposition    23699 non-null object\n",
      "rooms                   23699 non-null int64\n",
      "ceiling_height          23699 non-null float64\n",
      "floors_total            23613 non-null float64\n",
      "living_area             21796 non-null float64\n",
      "floor                   23699 non-null int64\n",
      "is_apartment            23699 non-null bool\n",
      "studio                  23699 non-null bool\n",
      "open_plan               23699 non-null bool\n",
      "kitchen_area            23699 non-null float64\n",
      "balcony                 23699 non-null float64\n",
      "locality_name           23650 non-null object\n",
      "airports_nearest        18157 non-null float64\n",
      "cityCenters_nearest     18180 non-null float64\n",
      "parks_around3000        23699 non-null float64\n",
      "parks_nearest           8079 non-null float64\n",
      "ponds_around3000        23699 non-null float64\n",
      "ponds_nearest           9110 non-null float64\n",
      "days_exposition         20518 non-null float64\n",
      "dtypes: bool(3), float64(14), int64(3), object(2)\n",
      "memory usage: 3.5+ MB\n"
     ]
    }
   ],
   "source": [
    "ceiling_median = data['ceiling_height'].median()\n",
    "data['ceiling_height'] = data['ceiling_height'].fillna(value = ceiling_median)\n",
    "data.info()"
   ]
  },
  {
   "cell_type": "markdown",
   "metadata": {},
   "source": [
    "Прежде всего следует преобразовать данные в столбце first_day_exposition в формат datetime"
   ]
  },
  {
   "cell_type": "code",
   "execution_count": 9,
   "metadata": {},
   "outputs": [
    {
     "name": "stdout",
     "output_type": "stream",
     "text": [
      "<class 'pandas.core.frame.DataFrame'>\n",
      "RangeIndex: 23699 entries, 0 to 23698\n",
      "Data columns (total 22 columns):\n",
      "total_images            23699 non-null int64\n",
      "last_price              23699 non-null float64\n",
      "total_area              23699 non-null float64\n",
      "first_day_exposition    23699 non-null datetime64[ns]\n",
      "rooms                   23699 non-null int64\n",
      "ceiling_height          23699 non-null float64\n",
      "floors_total            23613 non-null float64\n",
      "living_area             21796 non-null float64\n",
      "floor                   23699 non-null int64\n",
      "is_apartment            23699 non-null bool\n",
      "studio                  23699 non-null bool\n",
      "open_plan               23699 non-null bool\n",
      "kitchen_area            23699 non-null float64\n",
      "balcony                 23699 non-null float64\n",
      "locality_name           23650 non-null object\n",
      "airports_nearest        18157 non-null float64\n",
      "cityCenters_nearest     18180 non-null float64\n",
      "parks_around3000        23699 non-null float64\n",
      "parks_nearest           8079 non-null float64\n",
      "ponds_around3000        23699 non-null float64\n",
      "ponds_nearest           9110 non-null float64\n",
      "days_exposition         20518 non-null float64\n",
      "dtypes: bool(3), datetime64[ns](1), float64(14), int64(3), object(1)\n",
      "memory usage: 3.5+ MB\n"
     ]
    }
   ],
   "source": [
    "data['first_day_exposition'] = pd.to_datetime(data['first_day_exposition'], format = '%Y-%m-%dT%H:%M:%S')\n",
    "#  Для преобразования поля передаем в pandas формат его заполнения данными о дате \n",
    "data['days_exposition'] = data['days_exposition'].round() #  Округляем данные до целого числа методом round()\n",
    "data.info()"
   ]
  },
  {
   "cell_type": "markdown",
   "metadata": {},
   "source": [
    "Данные в столбцах floors_total, balcony, parks_around3000, ponds_around3000, days_exposition \n",
    "подразумевают цельночисленные значения"
   ]
  },
  {
   "cell_type": "code",
   "execution_count": 10,
   "metadata": {},
   "outputs": [
    {
     "name": "stdout",
     "output_type": "stream",
     "text": [
      "<class 'pandas.core.frame.DataFrame'>\n",
      "RangeIndex: 23699 entries, 0 to 23698\n",
      "Data columns (total 22 columns):\n",
      "total_images            23699 non-null int64\n",
      "last_price              23699 non-null float64\n",
      "total_area              23699 non-null float64\n",
      "first_day_exposition    23699 non-null datetime64[ns]\n",
      "rooms                   23699 non-null int64\n",
      "ceiling_height          23699 non-null float64\n",
      "floors_total            23613 non-null float64\n",
      "living_area             21796 non-null float64\n",
      "floor                   23699 non-null int64\n",
      "is_apartment            23699 non-null bool\n",
      "studio                  23699 non-null bool\n",
      "open_plan               23699 non-null bool\n",
      "kitchen_area            23699 non-null float64\n",
      "balcony                 23699 non-null int64\n",
      "locality_name           23650 non-null object\n",
      "airports_nearest        18157 non-null float64\n",
      "cityCenters_nearest     18180 non-null float64\n",
      "parks_around3000        23699 non-null int64\n",
      "parks_nearest           8079 non-null float64\n",
      "ponds_around3000        23699 non-null int64\n",
      "ponds_nearest           9110 non-null float64\n",
      "days_exposition         20518 non-null float64\n",
      "dtypes: bool(3), datetime64[ns](1), float64(11), int64(6), object(1)\n",
      "memory usage: 3.5+ MB\n"
     ]
    }
   ],
   "source": [
    "data['balcony'] = data['balcony'].astype('int') #  Преобразуем поле к типу Целое число методом astype()\n",
    "data['parks_around3000'] = data['parks_around3000'].astype('int')\n",
    "data['ponds_around3000'] = data['ponds_around3000'].astype('int')\n",
    "data.info()"
   ]
  },
  {
   "cell_type": "markdown",
   "metadata": {},
   "source": [
    "### Проверка на наличие дубликатов"
   ]
  },
  {
   "cell_type": "code",
   "execution_count": 11,
   "metadata": {},
   "outputs": [
    {
     "data": {
      "text/plain": [
       "0"
      ]
     },
     "execution_count": 11,
     "metadata": {},
     "output_type": "execute_result"
    }
   ],
   "source": [
    "data.duplicated().sum() #  проверяем выборку на наличие дубликатов"
   ]
  },
  {
   "cell_type": "markdown",
   "metadata": {},
   "source": [
    "Дубликаты отсутствуют"
   ]
  },
  {
   "cell_type": "markdown",
   "metadata": {},
   "source": [
    "### Вывод"
   ]
  },
  {
   "cell_type": "markdown",
   "metadata": {},
   "source": [
    "Проведено преобразование типов данных 4 полей в целях более эффективной их обработки, данные в отдельных полях заполнены значениями с учетом предположения о том,\n",
    "отсутствие признаков свидетельствует об отсутствии объекта (наличие балкона, пруда поблизости и т.д.), наличие дубликатов не выявлено. Отдельные незаполненные данные оставлены незаполненными для сохранения объема выборки"
   ]
  },
  {
   "cell_type": "markdown",
   "metadata": {},
   "source": [
    "## Расчёты и добавление результатов в таблицу"
   ]
  },
  {
   "cell_type": "markdown",
   "metadata": {},
   "source": [
    "### Включение дополнительных полей"
   ]
  },
  {
   "cell_type": "code",
   "execution_count": 12,
   "metadata": {},
   "outputs": [
    {
     "data": {
      "text/html": [
       "<div>\n",
       "<style scoped>\n",
       "    .dataframe tbody tr th:only-of-type {\n",
       "        vertical-align: middle;\n",
       "    }\n",
       "\n",
       "    .dataframe tbody tr th {\n",
       "        vertical-align: top;\n",
       "    }\n",
       "\n",
       "    .dataframe thead th {\n",
       "        text-align: right;\n",
       "    }\n",
       "</style>\n",
       "<table border=\"1\" class=\"dataframe\">\n",
       "  <thead>\n",
       "    <tr style=\"text-align: right;\">\n",
       "      <th></th>\n",
       "      <th>total_images</th>\n",
       "      <th>last_price</th>\n",
       "      <th>total_area</th>\n",
       "      <th>first_day_exposition</th>\n",
       "      <th>rooms</th>\n",
       "      <th>ceiling_height</th>\n",
       "      <th>floors_total</th>\n",
       "      <th>living_area</th>\n",
       "      <th>floor</th>\n",
       "      <th>is_apartment</th>\n",
       "      <th>...</th>\n",
       "      <th>ponds_around3000</th>\n",
       "      <th>ponds_nearest</th>\n",
       "      <th>days_exposition</th>\n",
       "      <th>price_square_meter</th>\n",
       "      <th>day_of_week</th>\n",
       "      <th>month</th>\n",
       "      <th>year</th>\n",
       "      <th>floor_type</th>\n",
       "      <th>living_ratio</th>\n",
       "      <th>kitchen_ratio</th>\n",
       "    </tr>\n",
       "  </thead>\n",
       "  <tbody>\n",
       "    <tr>\n",
       "      <td>23689</td>\n",
       "      <td>13</td>\n",
       "      <td>3550000.0</td>\n",
       "      <td>35.30</td>\n",
       "      <td>2018-02-28</td>\n",
       "      <td>1</td>\n",
       "      <td>2.86</td>\n",
       "      <td>15.0</td>\n",
       "      <td>16.3</td>\n",
       "      <td>4</td>\n",
       "      <td>False</td>\n",
       "      <td>...</td>\n",
       "      <td>2</td>\n",
       "      <td>652.0</td>\n",
       "      <td>29.0</td>\n",
       "      <td>100566.57</td>\n",
       "      <td>2</td>\n",
       "      <td>2</td>\n",
       "      <td>2018</td>\n",
       "      <td>другой</td>\n",
       "      <td>0.462</td>\n",
       "      <td>0.258</td>\n",
       "    </tr>\n",
       "    <tr>\n",
       "      <td>23690</td>\n",
       "      <td>3</td>\n",
       "      <td>5500000.0</td>\n",
       "      <td>52.00</td>\n",
       "      <td>2018-07-19</td>\n",
       "      <td>2</td>\n",
       "      <td>2.65</td>\n",
       "      <td>5.0</td>\n",
       "      <td>31.0</td>\n",
       "      <td>2</td>\n",
       "      <td>False</td>\n",
       "      <td>...</td>\n",
       "      <td>0</td>\n",
       "      <td>NaN</td>\n",
       "      <td>15.0</td>\n",
       "      <td>105769.23</td>\n",
       "      <td>3</td>\n",
       "      <td>7</td>\n",
       "      <td>2018</td>\n",
       "      <td>другой</td>\n",
       "      <td>0.596</td>\n",
       "      <td>0.115</td>\n",
       "    </tr>\n",
       "    <tr>\n",
       "      <td>23691</td>\n",
       "      <td>11</td>\n",
       "      <td>9470000.0</td>\n",
       "      <td>72.90</td>\n",
       "      <td>2016-10-13</td>\n",
       "      <td>2</td>\n",
       "      <td>2.75</td>\n",
       "      <td>25.0</td>\n",
       "      <td>40.3</td>\n",
       "      <td>7</td>\n",
       "      <td>False</td>\n",
       "      <td>...</td>\n",
       "      <td>1</td>\n",
       "      <td>806.0</td>\n",
       "      <td>519.0</td>\n",
       "      <td>129903.98</td>\n",
       "      <td>3</td>\n",
       "      <td>10</td>\n",
       "      <td>2016</td>\n",
       "      <td>другой</td>\n",
       "      <td>0.553</td>\n",
       "      <td>0.145</td>\n",
       "    </tr>\n",
       "    <tr>\n",
       "      <td>23692</td>\n",
       "      <td>2</td>\n",
       "      <td>1350000.0</td>\n",
       "      <td>30.00</td>\n",
       "      <td>2017-07-07</td>\n",
       "      <td>1</td>\n",
       "      <td>2.65</td>\n",
       "      <td>5.0</td>\n",
       "      <td>17.5</td>\n",
       "      <td>4</td>\n",
       "      <td>False</td>\n",
       "      <td>...</td>\n",
       "      <td>0</td>\n",
       "      <td>NaN</td>\n",
       "      <td>413.0</td>\n",
       "      <td>45000.00</td>\n",
       "      <td>4</td>\n",
       "      <td>7</td>\n",
       "      <td>2017</td>\n",
       "      <td>другой</td>\n",
       "      <td>0.583</td>\n",
       "      <td>0.200</td>\n",
       "    </tr>\n",
       "    <tr>\n",
       "      <td>23693</td>\n",
       "      <td>9</td>\n",
       "      <td>4600000.0</td>\n",
       "      <td>62.40</td>\n",
       "      <td>2016-08-05</td>\n",
       "      <td>3</td>\n",
       "      <td>2.60</td>\n",
       "      <td>9.0</td>\n",
       "      <td>40.0</td>\n",
       "      <td>8</td>\n",
       "      <td>False</td>\n",
       "      <td>...</td>\n",
       "      <td>1</td>\n",
       "      <td>675.0</td>\n",
       "      <td>239.0</td>\n",
       "      <td>73717.95</td>\n",
       "      <td>4</td>\n",
       "      <td>8</td>\n",
       "      <td>2016</td>\n",
       "      <td>другой</td>\n",
       "      <td>0.641</td>\n",
       "      <td>0.128</td>\n",
       "    </tr>\n",
       "    <tr>\n",
       "      <td>23694</td>\n",
       "      <td>9</td>\n",
       "      <td>9700000.0</td>\n",
       "      <td>133.81</td>\n",
       "      <td>2017-03-21</td>\n",
       "      <td>3</td>\n",
       "      <td>3.70</td>\n",
       "      <td>5.0</td>\n",
       "      <td>73.3</td>\n",
       "      <td>3</td>\n",
       "      <td>False</td>\n",
       "      <td>...</td>\n",
       "      <td>3</td>\n",
       "      <td>381.0</td>\n",
       "      <td>NaN</td>\n",
       "      <td>72490.85</td>\n",
       "      <td>1</td>\n",
       "      <td>3</td>\n",
       "      <td>2017</td>\n",
       "      <td>другой</td>\n",
       "      <td>0.548</td>\n",
       "      <td>0.103</td>\n",
       "    </tr>\n",
       "    <tr>\n",
       "      <td>23695</td>\n",
       "      <td>14</td>\n",
       "      <td>3100000.0</td>\n",
       "      <td>59.00</td>\n",
       "      <td>2018-01-15</td>\n",
       "      <td>3</td>\n",
       "      <td>2.65</td>\n",
       "      <td>5.0</td>\n",
       "      <td>38.0</td>\n",
       "      <td>4</td>\n",
       "      <td>False</td>\n",
       "      <td>...</td>\n",
       "      <td>0</td>\n",
       "      <td>NaN</td>\n",
       "      <td>45.0</td>\n",
       "      <td>52542.37</td>\n",
       "      <td>0</td>\n",
       "      <td>1</td>\n",
       "      <td>2018</td>\n",
       "      <td>другой</td>\n",
       "      <td>0.644</td>\n",
       "      <td>0.144</td>\n",
       "    </tr>\n",
       "    <tr>\n",
       "      <td>23696</td>\n",
       "      <td>18</td>\n",
       "      <td>2500000.0</td>\n",
       "      <td>56.70</td>\n",
       "      <td>2018-02-11</td>\n",
       "      <td>2</td>\n",
       "      <td>2.65</td>\n",
       "      <td>3.0</td>\n",
       "      <td>29.7</td>\n",
       "      <td>1</td>\n",
       "      <td>False</td>\n",
       "      <td>...</td>\n",
       "      <td>0</td>\n",
       "      <td>NaN</td>\n",
       "      <td>NaN</td>\n",
       "      <td>44091.71</td>\n",
       "      <td>6</td>\n",
       "      <td>2</td>\n",
       "      <td>2018</td>\n",
       "      <td>первый</td>\n",
       "      <td>0.524</td>\n",
       "      <td>0.000</td>\n",
       "    </tr>\n",
       "    <tr>\n",
       "      <td>23697</td>\n",
       "      <td>13</td>\n",
       "      <td>11475000.0</td>\n",
       "      <td>76.75</td>\n",
       "      <td>2017-03-28</td>\n",
       "      <td>2</td>\n",
       "      <td>3.00</td>\n",
       "      <td>17.0</td>\n",
       "      <td>NaN</td>\n",
       "      <td>12</td>\n",
       "      <td>False</td>\n",
       "      <td>...</td>\n",
       "      <td>3</td>\n",
       "      <td>196.0</td>\n",
       "      <td>602.0</td>\n",
       "      <td>149511.40</td>\n",
       "      <td>1</td>\n",
       "      <td>3</td>\n",
       "      <td>2017</td>\n",
       "      <td>другой</td>\n",
       "      <td>NaN</td>\n",
       "      <td>0.304</td>\n",
       "    </tr>\n",
       "    <tr>\n",
       "      <td>23698</td>\n",
       "      <td>4</td>\n",
       "      <td>1350000.0</td>\n",
       "      <td>32.30</td>\n",
       "      <td>2017-07-21</td>\n",
       "      <td>1</td>\n",
       "      <td>2.50</td>\n",
       "      <td>5.0</td>\n",
       "      <td>12.3</td>\n",
       "      <td>1</td>\n",
       "      <td>False</td>\n",
       "      <td>...</td>\n",
       "      <td>0</td>\n",
       "      <td>NaN</td>\n",
       "      <td>NaN</td>\n",
       "      <td>41795.67</td>\n",
       "      <td>4</td>\n",
       "      <td>7</td>\n",
       "      <td>2017</td>\n",
       "      <td>первый</td>\n",
       "      <td>0.381</td>\n",
       "      <td>0.279</td>\n",
       "    </tr>\n",
       "  </tbody>\n",
       "</table>\n",
       "<p>10 rows × 29 columns</p>\n",
       "</div>"
      ],
      "text/plain": [
       "       total_images  last_price  total_area first_day_exposition  rooms  \\\n",
       "23689            13   3550000.0       35.30           2018-02-28      1   \n",
       "23690             3   5500000.0       52.00           2018-07-19      2   \n",
       "23691            11   9470000.0       72.90           2016-10-13      2   \n",
       "23692             2   1350000.0       30.00           2017-07-07      1   \n",
       "23693             9   4600000.0       62.40           2016-08-05      3   \n",
       "23694             9   9700000.0      133.81           2017-03-21      3   \n",
       "23695            14   3100000.0       59.00           2018-01-15      3   \n",
       "23696            18   2500000.0       56.70           2018-02-11      2   \n",
       "23697            13  11475000.0       76.75           2017-03-28      2   \n",
       "23698             4   1350000.0       32.30           2017-07-21      1   \n",
       "\n",
       "       ceiling_height  floors_total  living_area  floor  is_apartment  ...  \\\n",
       "23689            2.86          15.0         16.3      4         False  ...   \n",
       "23690            2.65           5.0         31.0      2         False  ...   \n",
       "23691            2.75          25.0         40.3      7         False  ...   \n",
       "23692            2.65           5.0         17.5      4         False  ...   \n",
       "23693            2.60           9.0         40.0      8         False  ...   \n",
       "23694            3.70           5.0         73.3      3         False  ...   \n",
       "23695            2.65           5.0         38.0      4         False  ...   \n",
       "23696            2.65           3.0         29.7      1         False  ...   \n",
       "23697            3.00          17.0          NaN     12         False  ...   \n",
       "23698            2.50           5.0         12.3      1         False  ...   \n",
       "\n",
       "       ponds_around3000  ponds_nearest  days_exposition  price_square_meter  \\\n",
       "23689                 2          652.0             29.0           100566.57   \n",
       "23690                 0            NaN             15.0           105769.23   \n",
       "23691                 1          806.0            519.0           129903.98   \n",
       "23692                 0            NaN            413.0            45000.00   \n",
       "23693                 1          675.0            239.0            73717.95   \n",
       "23694                 3          381.0              NaN            72490.85   \n",
       "23695                 0            NaN             45.0            52542.37   \n",
       "23696                 0            NaN              NaN            44091.71   \n",
       "23697                 3          196.0            602.0           149511.40   \n",
       "23698                 0            NaN              NaN            41795.67   \n",
       "\n",
       "      day_of_week  month  year  floor_type  living_ratio  kitchen_ratio  \n",
       "23689           2      2  2018      другой         0.462          0.258  \n",
       "23690           3      7  2018      другой         0.596          0.115  \n",
       "23691           3     10  2016      другой         0.553          0.145  \n",
       "23692           4      7  2017      другой         0.583          0.200  \n",
       "23693           4      8  2016      другой         0.641          0.128  \n",
       "23694           1      3  2017      другой         0.548          0.103  \n",
       "23695           0      1  2018      другой         0.644          0.144  \n",
       "23696           6      2  2018      первый         0.524          0.000  \n",
       "23697           1      3  2017      другой           NaN          0.304  \n",
       "23698           4      7  2017      первый         0.381          0.279  \n",
       "\n",
       "[10 rows x 29 columns]"
      ]
     },
     "execution_count": 12,
     "metadata": {},
     "output_type": "execute_result"
    }
   ],
   "source": [
    "data['price_square_meter'] = (data['last_price'] / data['total_area']).round(2) #  Додавляем поле с ценой за кв. м\n",
    "#  Додавляем поле с днем недели, месяцем и годом размещения\n",
    "data['day_of_week'] = pd.DatetimeIndex(data['first_day_exposition']).weekday \n",
    "data['month'] = pd.DatetimeIndex(data['first_day_exposition']).month\n",
    "data['year'] = pd.DatetimeIndex(data['first_day_exposition']).year \n",
    "\n",
    "def floor_type(floor_def): #  Объявляем функцию для присвоения категории этажности \n",
    "#  (первый, последний, другой)\n",
    "    floor_elect = floor_def['floor']\n",
    "    floor_last = floor_def['floors_total']\n",
    "    if floor_elect == 1:\n",
    "        return 'первый'\n",
    "    if floor_elect == floor_last:\n",
    "        return 'последний'\n",
    "    if floor_elect > floor_last:\n",
    "        return 'ошибка'\n",
    "    return 'другой'\n",
    "\n",
    "data['floor_type'] = data.apply(floor_type, axis = 1) #  Додавляем поле с категиорией этажности\n",
    "\n",
    "data['living_ratio'] = (data['living_area'] / data['total_area']).round(3) #  Додавляем поля\n",
    "data['kitchen_ratio'] = (data['kitchen_area'] / data['total_area']).round(3)\n",
    "data.tail(10)"
   ]
  },
  {
   "cell_type": "markdown",
   "metadata": {},
   "source": [
    "### Вывод"
   ]
  },
  {
   "cell_type": "markdown",
   "metadata": {},
   "source": [
    "В таблицу добавлено 7 новых полей "
   ]
  },
  {
   "cell_type": "markdown",
   "metadata": {},
   "source": [
    "## Исследовательский анализ данных"
   ]
  },
  {
   "cell_type": "markdown",
   "metadata": {},
   "source": [
    "### Построение диаграмм"
   ]
  },
  {
   "cell_type": "markdown",
   "metadata": {},
   "source": [
    "Проанализиуем тип распределения данных отдельных полей таблицы"
   ]
  },
  {
   "cell_type": "code",
   "execution_count": 13,
   "metadata": {},
   "outputs": [
    {
     "data": {
      "image/png": "[encoded data removed]",
      "text/plain": [
       "<Figure size 432x288 with 1 Axes>"
      ]
     },
     "metadata": {
      "needs_background": "light"
     },
     "output_type": "display_data"
    }
   ],
   "source": [
    "import matplotlib.pyplot as plt #  Импортируем библиотеку для построения графических данных \n",
    "data['total_area'].hist(bins = 50, range=(0, 200)).set_title('Распределение общей площади квартиры')\n",
    "plt.xlabel('Общая площадь, кв. м')\n",
    "plt.ylabel('Количество, ед.')\n",
    "plt.show()"
   ]
  },
  {
   "cell_type": "markdown",
   "metadata": {},
   "source": [
    "Гистограмма общей площади свидетельствует о распределении Пуассона"
   ]
  },
  {
   "cell_type": "code",
   "execution_count": 14,
   "metadata": {},
   "outputs": [
    {
     "data": {
      "image/png": "[encoded data removed]",
      "text/plain": [
       "<Figure size 432x288 with 1 Axes>"
      ]
     },
     "metadata": {
      "needs_background": "light"
     },
     "output_type": "display_data"
    }
   ],
   "source": [
    "data['price_square_meter'].hist(bins = 120, range=(0, 500000)).set_title('Распределение цены за кв. м')\n",
    "plt.xlabel('Цена за кв. м, руб.')\n",
    "plt.ylabel('Количество, ед.')\n",
    "plt.show()"
   ]
  },
  {
   "cell_type": "code",
   "execution_count": 15,
   "metadata": {},
   "outputs": [
    {
     "data": {
      "text/plain": [
       "95000.0"
      ]
     },
     "execution_count": 15,
     "metadata": {},
     "output_type": "execute_result"
    }
   ],
   "source": [
    "data['price_square_meter'].median()"
   ]
  },
  {
   "cell_type": "markdown",
   "metadata": {},
   "source": [
    "Гистрограмма цены за квадратный метр показывает нормальное распределение, медианное значение - 95 тыс. руб."
   ]
  },
  {
   "cell_type": "code",
   "execution_count": 16,
   "metadata": {},
   "outputs": [
    {
     "data": {
      "image/png": "[encoded data removed]",
      "text/plain": [
       "<Figure size 432x288 with 1 Axes>"
      ]
     },
     "metadata": {
      "needs_background": "light"
     },
     "output_type": "display_data"
    }
   ],
   "source": [
    "data['rooms'].hist(bins = 10, range = (0, 10)).set_title('Распределение количества комнат в квартире')\n",
    "plt.xlabel('Количество комнат в квартире, ед.')\n",
    "plt.ylabel('Количество, ед.')\n",
    "plt.show()"
   ]
  },
  {
   "cell_type": "code",
   "execution_count": 17,
   "metadata": {},
   "outputs": [
    {
     "data": {
      "image/png": "[encoded data removed]",
      "text/plain": [
       "<Figure size 432x288 with 1 Axes>"
      ]
     },
     "metadata": {
      "needs_background": "light"
     },
     "output_type": "display_data"
    }
   ],
   "source": [
    "data['ceiling_height'].hist(bins = 20, range = (1.5, 6)).set_title('Распределение высоты потолков')\n",
    "plt.xlabel('Высота потолков, м')\n",
    "plt.ylabel('Количество, ед.')\n",
    "plt.show()"
   ]
  },
  {
   "cell_type": "code",
   "execution_count": 18,
   "metadata": {},
   "outputs": [
    {
     "data": {
      "image/png": "[encoded data removed]",
      "text/plain": [
       "<Figure size 432x288 with 1 Axes>"
      ]
     },
     "metadata": {
      "needs_background": "light"
     },
     "output_type": "display_data"
    }
   ],
   "source": [
    "data['days_exposition'].hist(bins = 200).set_title('Распределение времени экспозиции')\n",
    "plt.xlabel('Время экпозиции, дней')\n",
    "plt.ylabel('Количество, ед.')\n",
    "plt.show()"
   ]
  },
  {
   "cell_type": "markdown",
   "metadata": {},
   "source": [
    "### Анализ времени продажи квартир"
   ]
  },
  {
   "cell_type": "code",
   "execution_count": 19,
   "metadata": {},
   "outputs": [
    {
     "data": {
      "text/plain": [
       "count    20518.000000\n",
       "mean       180.888634\n",
       "std        219.727988\n",
       "min          1.000000\n",
       "25%         45.000000\n",
       "50%         95.000000\n",
       "75%        232.000000\n",
       "max       1580.000000\n",
       "Name: days_exposition, dtype: float64"
      ]
     },
     "execution_count": 19,
     "metadata": {},
     "output_type": "execute_result"
    }
   ],
   "source": [
    "data['days_exposition'].describe() #  Выводим общую информация по данным поля"
   ]
  },
  {
   "cell_type": "markdown",
   "metadata": {},
   "source": [
    "В среднем продажа квартиры осуществляется через 95 дней после размещения объявления. Очень быстрыми можно назвать продажи, состоявшиеся менее чем за 45 дней. При этом время экспозиции как правило не превышает 232 дней с момента размещения. Обращает на себя внимание, что среднее значение времени экспозиции примерно в два раза превышает значение медианы. Данный факт свидетельствует о наличии большого числа выбросов  "
   ]
  },
  {
   "cell_type": "code",
   "execution_count": 20,
   "metadata": {},
   "outputs": [
    {
     "data": {
      "text/plain": [
       "count    19378.000000\n",
       "mean       147.182939\n",
       "std        150.454467\n",
       "min          1.000000\n",
       "25%         43.000000\n",
       "50%         90.000000\n",
       "75%        202.000000\n",
       "max        699.000000\n",
       "Name: days_exposition, dtype: float64"
      ]
     },
     "execution_count": 20,
     "metadata": {},
     "output_type": "execute_result"
    }
   ],
   "source": [
    "data_cleared = data.query(\n",
    "    'days_exposition < 700 and 2 < ceiling_height < 5 and rooms < 10 and total_area < 200 and price_square_meter < 300000') \n",
    "#  Отсекаем вбросы с временем размещения объявления более 700 дней\n",
    "data_cleared['days_exposition'].describe()"
   ]
  },
  {
   "cell_type": "code",
   "execution_count": 22,
   "metadata": {},
   "outputs": [
    {
     "data": {
      "text/html": [
       "<div>\n",
       "<style scoped>\n",
       "    .dataframe tbody tr th:only-of-type {\n",
       "        vertical-align: middle;\n",
       "    }\n",
       "\n",
       "    .dataframe tbody tr th {\n",
       "        vertical-align: top;\n",
       "    }\n",
       "\n",
       "    .dataframe thead th {\n",
       "        text-align: right;\n",
       "    }\n",
       "</style>\n",
       "<table border=\"1\" class=\"dataframe\">\n",
       "  <thead>\n",
       "    <tr style=\"text-align: right;\">\n",
       "      <th></th>\n",
       "      <th>total_images</th>\n",
       "      <th>last_price</th>\n",
       "      <th>total_area</th>\n",
       "      <th>first_day_exposition</th>\n",
       "      <th>rooms</th>\n",
       "      <th>ceiling_height</th>\n",
       "      <th>floors_total</th>\n",
       "      <th>living_area</th>\n",
       "      <th>floor</th>\n",
       "      <th>is_apartment</th>\n",
       "      <th>...</th>\n",
       "      <th>ponds_around3000</th>\n",
       "      <th>ponds_nearest</th>\n",
       "      <th>days_exposition</th>\n",
       "      <th>price_square_meter</th>\n",
       "      <th>day_of_week</th>\n",
       "      <th>month</th>\n",
       "      <th>year</th>\n",
       "      <th>floor_type</th>\n",
       "      <th>living_ratio</th>\n",
       "      <th>kitchen_ratio</th>\n",
       "    </tr>\n",
       "  </thead>\n",
       "  <tbody>\n",
       "    <tr>\n",
       "      <td>8793</td>\n",
       "      <td>7</td>\n",
       "      <td>12190.0</td>\n",
       "      <td>109.0</td>\n",
       "      <td>2019-03-20</td>\n",
       "      <td>2</td>\n",
       "      <td>2.75</td>\n",
       "      <td>25.0</td>\n",
       "      <td>32.0</td>\n",
       "      <td>25</td>\n",
       "      <td>False</td>\n",
       "      <td>...</td>\n",
       "      <td>0</td>\n",
       "      <td>NaN</td>\n",
       "      <td>8.0</td>\n",
       "      <td>111.83</td>\n",
       "      <td>2</td>\n",
       "      <td>3</td>\n",
       "      <td>2019</td>\n",
       "      <td>последний</td>\n",
       "      <td>0.294</td>\n",
       "      <td>0.372</td>\n",
       "    </tr>\n",
       "    <tr>\n",
       "      <td>14911</td>\n",
       "      <td>5</td>\n",
       "      <td>430000.0</td>\n",
       "      <td>54.0</td>\n",
       "      <td>2018-06-26</td>\n",
       "      <td>2</td>\n",
       "      <td>2.65</td>\n",
       "      <td>3.0</td>\n",
       "      <td>NaN</td>\n",
       "      <td>3</td>\n",
       "      <td>False</td>\n",
       "      <td>...</td>\n",
       "      <td>0</td>\n",
       "      <td>NaN</td>\n",
       "      <td>44.0</td>\n",
       "      <td>7962.96</td>\n",
       "      <td>1</td>\n",
       "      <td>6</td>\n",
       "      <td>2018</td>\n",
       "      <td>последний</td>\n",
       "      <td>NaN</td>\n",
       "      <td>0.000</td>\n",
       "    </tr>\n",
       "    <tr>\n",
       "      <td>16274</td>\n",
       "      <td>18</td>\n",
       "      <td>440000.0</td>\n",
       "      <td>40.0</td>\n",
       "      <td>2018-07-10</td>\n",
       "      <td>1</td>\n",
       "      <td>2.65</td>\n",
       "      <td>5.0</td>\n",
       "      <td>NaN</td>\n",
       "      <td>1</td>\n",
       "      <td>False</td>\n",
       "      <td>...</td>\n",
       "      <td>0</td>\n",
       "      <td>NaN</td>\n",
       "      <td>45.0</td>\n",
       "      <td>11000.00</td>\n",
       "      <td>1</td>\n",
       "      <td>7</td>\n",
       "      <td>2018</td>\n",
       "      <td>первый</td>\n",
       "      <td>NaN</td>\n",
       "      <td>0.000</td>\n",
       "    </tr>\n",
       "    <tr>\n",
       "      <td>5698</td>\n",
       "      <td>7</td>\n",
       "      <td>450000.0</td>\n",
       "      <td>42.0</td>\n",
       "      <td>2017-07-31</td>\n",
       "      <td>2</td>\n",
       "      <td>2.65</td>\n",
       "      <td>1.0</td>\n",
       "      <td>23.0</td>\n",
       "      <td>1</td>\n",
       "      <td>False</td>\n",
       "      <td>...</td>\n",
       "      <td>0</td>\n",
       "      <td>NaN</td>\n",
       "      <td>233.0</td>\n",
       "      <td>10714.29</td>\n",
       "      <td>0</td>\n",
       "      <td>7</td>\n",
       "      <td>2017</td>\n",
       "      <td>первый</td>\n",
       "      <td>0.548</td>\n",
       "      <td>0.138</td>\n",
       "    </tr>\n",
       "    <tr>\n",
       "      <td>9581</td>\n",
       "      <td>7</td>\n",
       "      <td>450000.0</td>\n",
       "      <td>43.4</td>\n",
       "      <td>2018-08-31</td>\n",
       "      <td>2</td>\n",
       "      <td>2.65</td>\n",
       "      <td>5.0</td>\n",
       "      <td>30.3</td>\n",
       "      <td>3</td>\n",
       "      <td>False</td>\n",
       "      <td>...</td>\n",
       "      <td>0</td>\n",
       "      <td>NaN</td>\n",
       "      <td>96.0</td>\n",
       "      <td>10368.66</td>\n",
       "      <td>4</td>\n",
       "      <td>8</td>\n",
       "      <td>2018</td>\n",
       "      <td>другой</td>\n",
       "      <td>0.698</td>\n",
       "      <td>0.127</td>\n",
       "    </tr>\n",
       "  </tbody>\n",
       "</table>\n",
       "<p>5 rows × 29 columns</p>\n",
       "</div>"
      ],
      "text/plain": [
       "       total_images  last_price  total_area first_day_exposition  rooms  \\\n",
       "8793              7     12190.0       109.0           2019-03-20      2   \n",
       "14911             5    430000.0        54.0           2018-06-26      2   \n",
       "16274            18    440000.0        40.0           2018-07-10      1   \n",
       "5698              7    450000.0        42.0           2017-07-31      2   \n",
       "9581              7    450000.0        43.4           2018-08-31      2   \n",
       "\n",
       "       ceiling_height  floors_total  living_area  floor  is_apartment  ...  \\\n",
       "8793             2.75          25.0         32.0     25         False  ...   \n",
       "14911            2.65           3.0          NaN      3         False  ...   \n",
       "16274            2.65           5.0          NaN      1         False  ...   \n",
       "5698             2.65           1.0         23.0      1         False  ...   \n",
       "9581             2.65           5.0         30.3      3         False  ...   \n",
       "\n",
       "       ponds_around3000  ponds_nearest  days_exposition  price_square_meter  \\\n",
       "8793                  0            NaN              8.0              111.83   \n",
       "14911                 0            NaN             44.0             7962.96   \n",
       "16274                 0            NaN             45.0            11000.00   \n",
       "5698                  0            NaN            233.0            10714.29   \n",
       "9581                  0            NaN             96.0            10368.66   \n",
       "\n",
       "      day_of_week  month  year  floor_type  living_ratio  kitchen_ratio  \n",
       "8793            2      3  2019   последний         0.294          0.372  \n",
       "14911           1      6  2018   последний           NaN          0.000  \n",
       "16274           1      7  2018      первый           NaN          0.000  \n",
       "5698            0      7  2017      первый         0.548          0.138  \n",
       "9581            4      8  2018      другой         0.698          0.127  \n",
       "\n",
       "[5 rows x 29 columns]"
      ]
     },
     "execution_count": 22,
     "metadata": {},
     "output_type": "execute_result"
    }
   ],
   "source": [
    "data_cleared.sort_values(by = 'last_price').head()"
   ]
  },
  {
   "cell_type": "code",
   "execution_count": 23,
   "metadata": {},
   "outputs": [
    {
     "data": {
      "text/html": [
       "<div>\n",
       "<style scoped>\n",
       "    .dataframe tbody tr th:only-of-type {\n",
       "        vertical-align: middle;\n",
       "    }\n",
       "\n",
       "    .dataframe tbody tr th {\n",
       "        vertical-align: top;\n",
       "    }\n",
       "\n",
       "    .dataframe thead th {\n",
       "        text-align: right;\n",
       "    }\n",
       "</style>\n",
       "<table border=\"1\" class=\"dataframe\">\n",
       "  <thead>\n",
       "    <tr style=\"text-align: right;\">\n",
       "      <th></th>\n",
       "      <th>last_price</th>\n",
       "      <th>total_area</th>\n",
       "      <th>rooms</th>\n",
       "      <th>ceiling_height</th>\n",
       "    </tr>\n",
       "  </thead>\n",
       "  <tbody>\n",
       "    <tr>\n",
       "      <td>min</td>\n",
       "      <td>430000.0</td>\n",
       "      <td>12.0</td>\n",
       "      <td>0.0</td>\n",
       "      <td>2.2</td>\n",
       "    </tr>\n",
       "    <tr>\n",
       "      <td>max</td>\n",
       "      <td>49900000.0</td>\n",
       "      <td>199.2</td>\n",
       "      <td>8.0</td>\n",
       "      <td>4.8</td>\n",
       "    </tr>\n",
       "  </tbody>\n",
       "</table>\n",
       "</div>"
      ],
      "text/plain": [
       "     last_price  total_area  rooms  ceiling_height\n",
       "min    430000.0        12.0    0.0             2.2\n",
       "max  49900000.0       199.2    8.0             4.8"
      ]
     },
     "execution_count": 23,
     "metadata": {},
     "output_type": "execute_result"
    }
   ],
   "source": [
    "data_cleared = data_cleared.query('last_price > 400000')\n",
    "data_cleared[['last_price', 'total_area','rooms', 'ceiling_height' ]].describe().loc[['min', 'max']]"
   ]
  },
  {
   "cell_type": "code",
   "execution_count": 24,
   "metadata": {},
   "outputs": [
    {
     "data": {
      "text/html": [
       "<div>\n",
       "<style scoped>\n",
       "    .dataframe tbody tr th:only-of-type {\n",
       "        vertical-align: middle;\n",
       "    }\n",
       "\n",
       "    .dataframe tbody tr th {\n",
       "        vertical-align: top;\n",
       "    }\n",
       "\n",
       "    .dataframe thead th {\n",
       "        text-align: right;\n",
       "    }\n",
       "</style>\n",
       "<table border=\"1\" class=\"dataframe\">\n",
       "  <thead>\n",
       "    <tr style=\"text-align: right;\">\n",
       "      <th></th>\n",
       "      <th>total_images</th>\n",
       "      <th>last_price</th>\n",
       "      <th>total_area</th>\n",
       "      <th>first_day_exposition</th>\n",
       "      <th>rooms</th>\n",
       "      <th>ceiling_height</th>\n",
       "      <th>floors_total</th>\n",
       "      <th>living_area</th>\n",
       "      <th>floor</th>\n",
       "      <th>is_apartment</th>\n",
       "      <th>...</th>\n",
       "      <th>ponds_around3000</th>\n",
       "      <th>ponds_nearest</th>\n",
       "      <th>days_exposition</th>\n",
       "      <th>price_square_meter</th>\n",
       "      <th>day_of_week</th>\n",
       "      <th>month</th>\n",
       "      <th>year</th>\n",
       "      <th>floor_type</th>\n",
       "      <th>living_ratio</th>\n",
       "      <th>kitchen_ratio</th>\n",
       "    </tr>\n",
       "  </thead>\n",
       "  <tbody>\n",
       "    <tr>\n",
       "      <td>14911</td>\n",
       "      <td>5</td>\n",
       "      <td>430000.0</td>\n",
       "      <td>54.0</td>\n",
       "      <td>2018-06-26</td>\n",
       "      <td>2</td>\n",
       "      <td>2.65</td>\n",
       "      <td>3.0</td>\n",
       "      <td>NaN</td>\n",
       "      <td>3</td>\n",
       "      <td>False</td>\n",
       "      <td>...</td>\n",
       "      <td>0</td>\n",
       "      <td>NaN</td>\n",
       "      <td>44.0</td>\n",
       "      <td>7962.96</td>\n",
       "      <td>1</td>\n",
       "      <td>6</td>\n",
       "      <td>2018</td>\n",
       "      <td>последний</td>\n",
       "      <td>NaN</td>\n",
       "      <td>0.000</td>\n",
       "    </tr>\n",
       "    <tr>\n",
       "      <td>16274</td>\n",
       "      <td>18</td>\n",
       "      <td>440000.0</td>\n",
       "      <td>40.0</td>\n",
       "      <td>2018-07-10</td>\n",
       "      <td>1</td>\n",
       "      <td>2.65</td>\n",
       "      <td>5.0</td>\n",
       "      <td>NaN</td>\n",
       "      <td>1</td>\n",
       "      <td>False</td>\n",
       "      <td>...</td>\n",
       "      <td>0</td>\n",
       "      <td>NaN</td>\n",
       "      <td>45.0</td>\n",
       "      <td>11000.00</td>\n",
       "      <td>1</td>\n",
       "      <td>7</td>\n",
       "      <td>2018</td>\n",
       "      <td>первый</td>\n",
       "      <td>NaN</td>\n",
       "      <td>0.000</td>\n",
       "    </tr>\n",
       "    <tr>\n",
       "      <td>9581</td>\n",
       "      <td>7</td>\n",
       "      <td>450000.0</td>\n",
       "      <td>43.4</td>\n",
       "      <td>2018-08-31</td>\n",
       "      <td>2</td>\n",
       "      <td>2.65</td>\n",
       "      <td>5.0</td>\n",
       "      <td>30.3</td>\n",
       "      <td>3</td>\n",
       "      <td>False</td>\n",
       "      <td>...</td>\n",
       "      <td>0</td>\n",
       "      <td>NaN</td>\n",
       "      <td>96.0</td>\n",
       "      <td>10368.66</td>\n",
       "      <td>4</td>\n",
       "      <td>8</td>\n",
       "      <td>2018</td>\n",
       "      <td>другой</td>\n",
       "      <td>0.698</td>\n",
       "      <td>0.127</td>\n",
       "    </tr>\n",
       "    <tr>\n",
       "      <td>5698</td>\n",
       "      <td>7</td>\n",
       "      <td>450000.0</td>\n",
       "      <td>42.0</td>\n",
       "      <td>2017-07-31</td>\n",
       "      <td>2</td>\n",
       "      <td>2.65</td>\n",
       "      <td>1.0</td>\n",
       "      <td>23.0</td>\n",
       "      <td>1</td>\n",
       "      <td>False</td>\n",
       "      <td>...</td>\n",
       "      <td>0</td>\n",
       "      <td>NaN</td>\n",
       "      <td>233.0</td>\n",
       "      <td>10714.29</td>\n",
       "      <td>0</td>\n",
       "      <td>7</td>\n",
       "      <td>2017</td>\n",
       "      <td>первый</td>\n",
       "      <td>0.548</td>\n",
       "      <td>0.138</td>\n",
       "    </tr>\n",
       "    <tr>\n",
       "      <td>17676</td>\n",
       "      <td>0</td>\n",
       "      <td>450000.0</td>\n",
       "      <td>36.5</td>\n",
       "      <td>2018-02-01</td>\n",
       "      <td>1</td>\n",
       "      <td>2.65</td>\n",
       "      <td>5.0</td>\n",
       "      <td>17.3</td>\n",
       "      <td>4</td>\n",
       "      <td>False</td>\n",
       "      <td>...</td>\n",
       "      <td>0</td>\n",
       "      <td>NaN</td>\n",
       "      <td>120.0</td>\n",
       "      <td>12328.77</td>\n",
       "      <td>3</td>\n",
       "      <td>2</td>\n",
       "      <td>2018</td>\n",
       "      <td>другой</td>\n",
       "      <td>0.474</td>\n",
       "      <td>0.233</td>\n",
       "    </tr>\n",
       "  </tbody>\n",
       "</table>\n",
       "<p>5 rows × 29 columns</p>\n",
       "</div>"
      ],
      "text/plain": [
       "       total_images  last_price  total_area first_day_exposition  rooms  \\\n",
       "14911             5    430000.0        54.0           2018-06-26      2   \n",
       "16274            18    440000.0        40.0           2018-07-10      1   \n",
       "9581              7    450000.0        43.4           2018-08-31      2   \n",
       "5698              7    450000.0        42.0           2017-07-31      2   \n",
       "17676             0    450000.0        36.5           2018-02-01      1   \n",
       "\n",
       "       ceiling_height  floors_total  living_area  floor  is_apartment  ...  \\\n",
       "14911            2.65           3.0          NaN      3         False  ...   \n",
       "16274            2.65           5.0          NaN      1         False  ...   \n",
       "9581             2.65           5.0         30.3      3         False  ...   \n",
       "5698             2.65           1.0         23.0      1         False  ...   \n",
       "17676            2.65           5.0         17.3      4         False  ...   \n",
       "\n",
       "       ponds_around3000  ponds_nearest  days_exposition  price_square_meter  \\\n",
       "14911                 0            NaN             44.0             7962.96   \n",
       "16274                 0            NaN             45.0            11000.00   \n",
       "9581                  0            NaN             96.0            10368.66   \n",
       "5698                  0            NaN            233.0            10714.29   \n",
       "17676                 0            NaN            120.0            12328.77   \n",
       "\n",
       "      day_of_week  month  year  floor_type  living_ratio  kitchen_ratio  \n",
       "14911           1      6  2018   последний           NaN          0.000  \n",
       "16274           1      7  2018      первый           NaN          0.000  \n",
       "9581            4      8  2018      другой         0.698          0.127  \n",
       "5698            0      7  2017      первый         0.548          0.138  \n",
       "17676           3      2  2018      другой         0.474          0.233  \n",
       "\n",
       "[5 rows x 29 columns]"
      ]
     },
     "execution_count": 24,
     "metadata": {},
     "output_type": "execute_result"
    }
   ],
   "source": [
    "data_cleared.sort_values(by = 'last_price').head()"
   ]
  },
  {
   "cell_type": "code",
   "execution_count": 25,
   "metadata": {},
   "outputs": [
    {
     "data": {
      "text/html": [
       "<div>\n",
       "<style scoped>\n",
       "    .dataframe tbody tr th:only-of-type {\n",
       "        vertical-align: middle;\n",
       "    }\n",
       "\n",
       "    .dataframe tbody tr th {\n",
       "        vertical-align: top;\n",
       "    }\n",
       "\n",
       "    .dataframe thead th {\n",
       "        text-align: right;\n",
       "    }\n",
       "</style>\n",
       "<table border=\"1\" class=\"dataframe\">\n",
       "  <thead>\n",
       "    <tr style=\"text-align: right;\">\n",
       "      <th></th>\n",
       "      <th>last_price</th>\n",
       "      <th>total_area</th>\n",
       "      <th>rooms</th>\n",
       "      <th>ceiling_height</th>\n",
       "    </tr>\n",
       "  </thead>\n",
       "  <tbody>\n",
       "    <tr>\n",
       "      <td>min</td>\n",
       "      <td>430000.0</td>\n",
       "      <td>12.0</td>\n",
       "      <td>0.0</td>\n",
       "      <td>2.2</td>\n",
       "    </tr>\n",
       "    <tr>\n",
       "      <td>max</td>\n",
       "      <td>49900000.0</td>\n",
       "      <td>199.2</td>\n",
       "      <td>8.0</td>\n",
       "      <td>4.8</td>\n",
       "    </tr>\n",
       "  </tbody>\n",
       "</table>\n",
       "</div>"
      ],
      "text/plain": [
       "     last_price  total_area  rooms  ceiling_height\n",
       "min    430000.0        12.0    0.0             2.2\n",
       "max  49900000.0       199.2    8.0             4.8"
      ]
     },
     "execution_count": 25,
     "metadata": {},
     "output_type": "execute_result"
    }
   ],
   "source": [
    "data_cleared = data_cleared.query('last_price > 400000')\n",
    "data_cleared[['last_price', 'total_area','rooms', 'ceiling_height' ]].describe().loc[['min', 'max']]"
   ]
  },
  {
   "cell_type": "markdown",
   "metadata": {},
   "source": [
    "### Анализ факторов стоимости квартир"
   ]
  },
  {
   "cell_type": "markdown",
   "metadata": {},
   "source": [
    "Проанализируем корреляцию стоимости квартиры и отдельных факторами"
   ]
  },
  {
   "cell_type": "code",
   "execution_count": 26,
   "metadata": {},
   "outputs": [
    {
     "data": {
      "text/plain": [
       "0.6753604757728097"
      ]
     },
     "execution_count": 26,
     "metadata": {},
     "output_type": "execute_result"
    }
   ],
   "source": [
    "data_cleared['last_price'].corr(data_cleared['price_square_meter']) #  Применяем метод corr() для вычисления значения\n",
    "#  корреляции"
   ]
  },
  {
   "cell_type": "code",
   "execution_count": 27,
   "metadata": {},
   "outputs": [
    {
     "data": {
      "text/plain": [
       "0.49144327389894343"
      ]
     },
     "execution_count": 27,
     "metadata": {},
     "output_type": "execute_result"
    }
   ],
   "source": [
    "data_cleared['last_price'].corr(data_cleared['rooms'])"
   ]
  },
  {
   "cell_type": "code",
   "execution_count": 28,
   "metadata": {},
   "outputs": [
    {
     "data": {
      "image/png": "[encoded data removed]",
      "text/plain": [
       "<Figure size 432x288 with 1 Axes>"
      ]
     },
     "metadata": {
      "needs_background": "light"
     },
     "output_type": "display_data"
    }
   ],
   "source": [
    "data_cleared.pivot_table(\n",
    "    index = 'rooms', \n",
    "    values = 'last_price', \n",
    "    aggfunc = 'median'\n",
    ").plot(grid = True).set_title('Влияние количества комнат в квартире')\n",
    "plt.ticklabel_format(style = 'plain')\n",
    "plt.xlabel('Количество комнат, ед.')\n",
    "plt.ylabel('Стоимость квартиры, руб.')\n",
    "plt.show()"
   ]
  },
  {
   "cell_type": "markdown",
   "metadata": {},
   "source": [
    "Значение корреляции цены за квадратный метр и стоимости квартиры меньше единицы показывает, что при формировании итоговой стоимости имеют значения другие факторы, в том числе количество комнат"
   ]
  },
  {
   "cell_type": "code",
   "execution_count": 29,
   "metadata": {},
   "outputs": [
    {
     "data": {
      "text/html": [
       "<div>\n",
       "<style scoped>\n",
       "    .dataframe tbody tr th:only-of-type {\n",
       "        vertical-align: middle;\n",
       "    }\n",
       "\n",
       "    .dataframe tbody tr th {\n",
       "        vertical-align: top;\n",
       "    }\n",
       "\n",
       "    .dataframe thead th {\n",
       "        text-align: right;\n",
       "    }\n",
       "</style>\n",
       "<table border=\"1\" class=\"dataframe\">\n",
       "  <thead>\n",
       "    <tr style=\"text-align: right;\">\n",
       "      <th></th>\n",
       "      <th>count</th>\n",
       "      <th>median</th>\n",
       "    </tr>\n",
       "    <tr>\n",
       "      <th>floor_type</th>\n",
       "      <th></th>\n",
       "      <th></th>\n",
       "    </tr>\n",
       "  </thead>\n",
       "  <tbody>\n",
       "    <tr>\n",
       "      <td>другой</td>\n",
       "      <td>14415</td>\n",
       "      <td>4610000.0</td>\n",
       "    </tr>\n",
       "    <tr>\n",
       "      <td>первый</td>\n",
       "      <td>2343</td>\n",
       "      <td>3800000.0</td>\n",
       "    </tr>\n",
       "    <tr>\n",
       "      <td>последний</td>\n",
       "      <td>2619</td>\n",
       "      <td>4200000.0</td>\n",
       "    </tr>\n",
       "  </tbody>\n",
       "</table>\n",
       "</div>"
      ],
      "text/plain": [
       "            count     median\n",
       "floor_type                  \n",
       "другой      14415  4610000.0\n",
       "первый       2343  3800000.0\n",
       "последний    2619  4200000.0"
      ]
     },
     "execution_count": 29,
     "metadata": {},
     "output_type": "execute_result"
    }
   ],
   "source": [
    "#  Проаназируем влияние этажности на итоговую стоимость\n",
    "data_floor_pivot = data_cleared.pivot_table(index = 'floor_type', values = 'last_price', aggfunc = ['count', 'median'])\n",
    "# Формируем сводную таблицу\n",
    "data_floor_pivot.columns = 'count', 'median' # Переназначаем столбцы\n",
    "data_floor_pivot.head()"
   ]
  },
  {
   "cell_type": "markdown",
   "metadata": {},
   "source": [
    "Таблица показывает, что более высокая стоимость у квартир на срединных этажах"
   ]
  },
  {
   "cell_type": "code",
   "execution_count": 30,
   "metadata": {},
   "outputs": [
    {
     "data": {
      "text/plain": [
       "-0.3367461138748776"
      ]
     },
     "execution_count": 30,
     "metadata": {},
     "output_type": "execute_result"
    }
   ],
   "source": [
    "data_cleared['last_price'].corr(data_cleared['cityCenters_nearest'])"
   ]
  },
  {
   "cell_type": "code",
   "execution_count": 31,
   "metadata": {},
   "outputs": [
    {
     "data": {
      "image/png": "[encoded data removed]",
      "text/plain": [
       "<Figure size 432x288 with 1 Axes>"
      ]
     },
     "metadata": {
      "needs_background": "light"
     },
     "output_type": "display_data"
    }
   ],
   "source": [
    "data_cleared.pivot_table(\n",
    "    index = 'cityCenters_nearest', \n",
    "    values = 'last_price', \n",
    "    aggfunc = 'median'\n",
    ").plot(style = 'o', grid = True)\n",
    "plt.ticklabel_format(style = 'plain')\n",
    "plt.title('Влияние отдаленности от центра города')\n",
    "plt.xlabel('Расстояние от центра города, м')\n",
    "plt.ylabel('Стоимость квартиры, руб.')\n",
    "plt.show()"
   ]
  },
  {
   "cell_type": "markdown",
   "metadata": {},
   "source": [
    "С ростом расстояния от центра населенного пункта стоимость квартиры снижается "
   ]
  },
  {
   "cell_type": "markdown",
   "metadata": {},
   "source": [
    "Проиллюстрируем отдельные факторы в виде графиков"
   ]
  },
  {
   "cell_type": "code",
   "execution_count": 32,
   "metadata": {},
   "outputs": [
    {
     "data": {
      "image/png": "[encoded data removed]",
      "text/plain": [
       "<Figure size 432x288 with 1 Axes>"
      ]
     },
     "metadata": {
      "needs_background": "light"
     },
     "output_type": "display_data"
    }
   ],
   "source": [
    "data_year_pivot = data_cleared.pivot_table(index = 'year', values = 'last_price', aggfunc = 'median') #  Формируем сводную таблицу \n",
    "#  из медианных значений стоимости квартир и году размещения\n",
    "data_year_pivot.columns = ['price']\n",
    "data_year_pivot.plot(y = 'price', grid = True)\n",
    "plt.title('Размещение объявлений: год')\n",
    "plt.xlabel('Год размещения')\n",
    "plt.ylabel('Стоимость квартиры, руб.')\n",
    "plt.show()"
   ]
  },
  {
   "cell_type": "markdown",
   "metadata": {},
   "source": [
    "Наблюдается значительное снижение стоимости средней стоимости квартир после 2014 года"
   ]
  },
  {
   "cell_type": "code",
   "execution_count": 33,
   "metadata": {},
   "outputs": [
    {
     "data": {
      "image/png": "[encoded data removed]",
      "text/plain": [
       "<Figure size 432x288 with 1 Axes>"
      ]
     },
     "metadata": {
      "needs_background": "light"
     },
     "output_type": "display_data"
    }
   ],
   "source": [
    "data_month_pivot = data_cleared.pivot_table(index = 'month', values = 'last_price', aggfunc = 'median')\n",
    "data_month_pivot.columns = ['price']\n",
    "data_month_pivot.plot(y = 'price', grid = True)\n",
    "plt.title('Размещение объявлений: месяц')\n",
    "plt.xlabel('Месяц размещения')\n",
    "plt.ylabel('Стоимость квартиры, руб.')\n",
    "plt.show()"
   ]
  },
  {
   "cell_type": "markdown",
   "metadata": {},
   "source": [
    "В первой половине года размещаются объявления с более низкой стоимостью"
   ]
  },
  {
   "cell_type": "code",
   "execution_count": 34,
   "metadata": {},
   "outputs": [
    {
     "data": {
      "image/png": "[encoded data removed]",
      "text/plain": [
       "<Figure size 432x288 with 1 Axes>"
      ]
     },
     "metadata": {
      "needs_background": "light"
     },
     "output_type": "display_data"
    }
   ],
   "source": [
    "data_day_of_week_pivot = data_cleared.pivot_table(index = 'day_of_week', values = 'last_price', aggfunc = 'median')\n",
    "data_day_of_week_pivot.columns = ['price']\n",
    "data_day_of_week_pivot.plot(y = 'price', grid = True)\n",
    "plt.title('Размещение объявлений: день недели')\n",
    "plt.xlabel('День размещения')\n",
    "plt.ylabel('Стоимость квартиры, руб.')\n",
    "plt.show()"
   ]
  },
  {
   "cell_type": "markdown",
   "metadata": {},
   "source": [
    "Стоимость квартир, размещаемых во вторник, значительно выше"
   ]
  },
  {
   "cell_type": "markdown",
   "metadata": {},
   "source": [
    "### Анализ стоимости жилья в населенных пунктах"
   ]
  },
  {
   "cell_type": "markdown",
   "metadata": {},
   "source": [
    "Выявим 10 населенных пунктов с наибольшим предложением"
   ]
  },
  {
   "cell_type": "code",
   "execution_count": 35,
   "metadata": {},
   "outputs": [
    {
     "data": {
      "text/html": [
       "<div>\n",
       "<style scoped>\n",
       "    .dataframe tbody tr th:only-of-type {\n",
       "        vertical-align: middle;\n",
       "    }\n",
       "\n",
       "    .dataframe tbody tr th {\n",
       "        vertical-align: top;\n",
       "    }\n",
       "\n",
       "    .dataframe thead th {\n",
       "        text-align: right;\n",
       "    }\n",
       "</style>\n",
       "<table border=\"1\" class=\"dataframe\">\n",
       "  <thead>\n",
       "    <tr style=\"text-align: right;\">\n",
       "      <th></th>\n",
       "      <th>count</th>\n",
       "      <th>mean</th>\n",
       "    </tr>\n",
       "    <tr>\n",
       "      <th>locality_name</th>\n",
       "      <th></th>\n",
       "      <th></th>\n",
       "    </tr>\n",
       "  </thead>\n",
       "  <tbody>\n",
       "    <tr>\n",
       "      <td>Санкт-Петербург</td>\n",
       "      <td>12786</td>\n",
       "      <td>108617.62</td>\n",
       "    </tr>\n",
       "    <tr>\n",
       "      <td>посёлок Мурино</td>\n",
       "      <td>497</td>\n",
       "      <td>85889.09</td>\n",
       "    </tr>\n",
       "    <tr>\n",
       "      <td>посёлок Шушары</td>\n",
       "      <td>396</td>\n",
       "      <td>78005.68</td>\n",
       "    </tr>\n",
       "    <tr>\n",
       "      <td>Всеволожск</td>\n",
       "      <td>325</td>\n",
       "      <td>66944.92</td>\n",
       "    </tr>\n",
       "    <tr>\n",
       "      <td>Колпино</td>\n",
       "      <td>301</td>\n",
       "      <td>74674.52</td>\n",
       "    </tr>\n",
       "    <tr>\n",
       "      <td>посёлок Парголово</td>\n",
       "      <td>293</td>\n",
       "      <td>89485.41</td>\n",
       "    </tr>\n",
       "    <tr>\n",
       "      <td>Пушкин</td>\n",
       "      <td>289</td>\n",
       "      <td>101893.56</td>\n",
       "    </tr>\n",
       "    <tr>\n",
       "      <td>деревня Кудрово</td>\n",
       "      <td>280</td>\n",
       "      <td>92614.78</td>\n",
       "    </tr>\n",
       "    <tr>\n",
       "      <td>Гатчина</td>\n",
       "      <td>251</td>\n",
       "      <td>68109.44</td>\n",
       "    </tr>\n",
       "    <tr>\n",
       "      <td>Выборг</td>\n",
       "      <td>197</td>\n",
       "      <td>57205.14</td>\n",
       "    </tr>\n",
       "  </tbody>\n",
       "</table>\n",
       "</div>"
      ],
      "text/plain": [
       "                   count       mean\n",
       "locality_name                      \n",
       "Санкт-Петербург    12786  108617.62\n",
       "посёлок Мурино       497   85889.09\n",
       "посёлок Шушары       396   78005.68\n",
       "Всеволожск           325   66944.92\n",
       "Колпино              301   74674.52\n",
       "посёлок Парголово    293   89485.41\n",
       "Пушкин               289  101893.56\n",
       "деревня Кудрово      280   92614.78\n",
       "Гатчина              251   68109.44\n",
       "Выборг               197   57205.14"
      ]
     },
     "execution_count": 35,
     "metadata": {},
     "output_type": "execute_result"
    }
   ],
   "source": [
    "#  Формируем сводную таблицу\n",
    "data_locality_pivot = data_cleared.pivot_table(\n",
    "    index = 'locality_name', \n",
    "    values = 'price_square_meter', \n",
    "    aggfunc = ['count', 'mean']\n",
    ")\n",
    "data_locality_pivot.columns = ['count', 'mean']\n",
    "data_locality_pivot['mean'] = data_locality_pivot['mean'].round(2)\n",
    "data_locality_pivot.sort_values(by = 'count', ascending = False).head(10) #  Сортируем значения по полю count"
   ]
  },
  {
   "cell_type": "markdown",
   "metadata": {},
   "source": [
    "Санкт-Петербург значительно опережает другие населенные пункты по предложению"
   ]
  },
  {
   "cell_type": "code",
   "execution_count": 36,
   "metadata": {},
   "outputs": [
    {
     "data": {
      "text/html": [
       "<div>\n",
       "<style scoped>\n",
       "    .dataframe tbody tr th:only-of-type {\n",
       "        vertical-align: middle;\n",
       "    }\n",
       "\n",
       "    .dataframe tbody tr th {\n",
       "        vertical-align: top;\n",
       "    }\n",
       "\n",
       "    .dataframe thead th {\n",
       "        text-align: right;\n",
       "    }\n",
       "</style>\n",
       "<table border=\"1\" class=\"dataframe\">\n",
       "  <thead>\n",
       "    <tr style=\"text-align: right;\">\n",
       "      <th></th>\n",
       "      <th>count</th>\n",
       "      <th>mean</th>\n",
       "    </tr>\n",
       "    <tr>\n",
       "      <th>locality_name</th>\n",
       "      <th></th>\n",
       "      <th></th>\n",
       "    </tr>\n",
       "  </thead>\n",
       "  <tbody>\n",
       "    <tr>\n",
       "      <td>Выборг</td>\n",
       "      <td>197</td>\n",
       "      <td>57205.14</td>\n",
       "    </tr>\n",
       "    <tr>\n",
       "      <td>Всеволожск</td>\n",
       "      <td>325</td>\n",
       "      <td>66944.92</td>\n",
       "    </tr>\n",
       "    <tr>\n",
       "      <td>Гатчина</td>\n",
       "      <td>251</td>\n",
       "      <td>68109.44</td>\n",
       "    </tr>\n",
       "    <tr>\n",
       "      <td>Колпино</td>\n",
       "      <td>301</td>\n",
       "      <td>74674.52</td>\n",
       "    </tr>\n",
       "    <tr>\n",
       "      <td>посёлок Шушары</td>\n",
       "      <td>396</td>\n",
       "      <td>78005.68</td>\n",
       "    </tr>\n",
       "    <tr>\n",
       "      <td>посёлок Мурино</td>\n",
       "      <td>497</td>\n",
       "      <td>85889.09</td>\n",
       "    </tr>\n",
       "    <tr>\n",
       "      <td>посёлок Парголово</td>\n",
       "      <td>293</td>\n",
       "      <td>89485.41</td>\n",
       "    </tr>\n",
       "    <tr>\n",
       "      <td>деревня Кудрово</td>\n",
       "      <td>280</td>\n",
       "      <td>92614.78</td>\n",
       "    </tr>\n",
       "    <tr>\n",
       "      <td>Пушкин</td>\n",
       "      <td>289</td>\n",
       "      <td>101893.56</td>\n",
       "    </tr>\n",
       "    <tr>\n",
       "      <td>Санкт-Петербург</td>\n",
       "      <td>12786</td>\n",
       "      <td>108617.62</td>\n",
       "    </tr>\n",
       "  </tbody>\n",
       "</table>\n",
       "</div>"
      ],
      "text/plain": [
       "                   count       mean\n",
       "locality_name                      \n",
       "Выборг               197   57205.14\n",
       "Всеволожск           325   66944.92\n",
       "Гатчина              251   68109.44\n",
       "Колпино              301   74674.52\n",
       "посёлок Шушары       396   78005.68\n",
       "посёлок Мурино       497   85889.09\n",
       "посёлок Парголово    293   89485.41\n",
       "деревня Кудрово      280   92614.78\n",
       "Пушкин               289  101893.56\n",
       "Санкт-Петербург    12786  108617.62"
      ]
     },
     "execution_count": 36,
     "metadata": {},
     "output_type": "execute_result"
    }
   ],
   "source": [
    "data_locality_pivot.sort_values(by = 'count', ascending = False).head(10).sort_values(by = 'mean')"
   ]
  },
  {
   "cell_type": "markdown",
   "metadata": {},
   "source": [
    "Самая высокая ставка за квадратный метр в Санкт-Петербурге и Пушкине, а самая низкая в Выборге и Гатчине"
   ]
  },
  {
   "cell_type": "markdown",
   "metadata": {},
   "source": [
    "### Предложение в Санкт-Петербурге"
   ]
  },
  {
   "cell_type": "markdown",
   "metadata": {},
   "source": [
    "Формируем выборку по предложению квартир в Санкт-Петербурге"
   ]
  },
  {
   "cell_type": "code",
   "execution_count": 37,
   "metadata": {},
   "outputs": [
    {
     "name": "stderr",
     "output_type": "stream",
     "text": [
      "/opt/conda/lib/python3.7/site-packages/ipykernel_launcher.py:2: SettingWithCopyWarning: \n",
      "A value is trying to be set on a copy of a slice from a DataFrame\n",
      "\n",
      "See the caveats in the documentation: http://pandas.pydata.org/pandas-docs/stable/user_guide/indexing.html#returning-a-view-versus-a-copy\n",
      "  \n",
      "/opt/conda/lib/python3.7/site-packages/ipykernel_launcher.py:4: SettingWithCopyWarning: \n",
      "A value is trying to be set on a copy of a slice from a DataFrame.\n",
      "Try using .loc[row_indexer,col_indexer] = value instead\n",
      "\n",
      "See the caveats in the documentation: http://pandas.pydata.org/pandas-docs/stable/user_guide/indexing.html#returning-a-view-versus-a-copy\n",
      "  after removing the cwd from sys.path.\n"
     ]
    }
   ],
   "source": [
    "data_spb = data_cleared.query('locality_name == \"Санкт-Петербург\"') #  Создаем выборку по признаку месторасположения\n",
    "data_spb.dropna(subset = ['cityCenters_nearest'], inplace = True) #  Вводим признак удаленности в км\n",
    "#  для этого исключаем незаполненные записи \n",
    "data_spb['distance'] = (data_spb['cityCenters_nearest'] / 1000).astype('int') #  и добавляем новое поле \n",
    "data_spb.head(15)\n",
    "import warnings\n",
    "warnings.filterwarnings('ignore')"
   ]
  },
  {
   "cell_type": "markdown",
   "metadata": {},
   "source": [
    "Выводим данные поля distance в виде графика стоимости квартиры в зависимости от расстояния от центра"
   ]
  },
  {
   "cell_type": "code",
   "execution_count": 38,
   "metadata": {},
   "outputs": [
    {
     "data": {
      "image/png": "[encoded data removed]",
      "text/plain": [
       "<Figure size 720x360 with 1 Axes>"
      ]
     },
     "metadata": {
      "needs_background": "light"
     },
     "output_type": "display_data"
    }
   ],
   "source": [
    "data_spb_pivot = data_spb.pivot_table(index = 'distance', values = 'last_price', aggfunc = 'median') #  Присваиваем осям графика\n",
    "#  данные переменных из таблицы\n",
    "data_spb_pivot.plot(grid = True, figsize = (10, 5))\n",
    "plt.ticklabel_format(style = 'plain')\n",
    "plt.title('Изменение стоимости квартиры от расстояния от центра')\n",
    "plt.xlabel('Расстояние от центра, км')\n",
    "plt.ylabel('Стоимость квартиры, руб.')\n",
    "plt.show()"
   ]
  },
  {
   "cell_type": "markdown",
   "metadata": {},
   "source": [
    "На графике наблюдается плато до отметки 1,5 км, принимаем за центральный район радиус 1,5 км"
   ]
  },
  {
   "cell_type": "markdown",
   "metadata": {},
   "source": [
    "### Анализ сегмента центрального района Санкт-Петербурга"
   ]
  },
  {
   "cell_type": "code",
   "execution_count": 39,
   "metadata": {},
   "outputs": [
    {
     "data": {
      "text/plain": [
       "117465.505"
      ]
     },
     "execution_count": 39,
     "metadata": {},
     "output_type": "execute_result"
    }
   ],
   "source": [
    "data_centre = data_spb.query('distance <= 1.5') #  Формируем срез по признаку отделенности от центра \n",
    "data_centre['price_square_meter'].median() #  Цена за квадратный метр"
   ]
  },
  {
   "cell_type": "code",
   "execution_count": 40,
   "metadata": {},
   "outputs": [
    {
     "data": {
      "text/html": [
       "<div>\n",
       "<style scoped>\n",
       "    .dataframe tbody tr th:only-of-type {\n",
       "        vertical-align: middle;\n",
       "    }\n",
       "\n",
       "    .dataframe tbody tr th {\n",
       "        vertical-align: top;\n",
       "    }\n",
       "\n",
       "    .dataframe thead th {\n",
       "        text-align: right;\n",
       "    }\n",
       "</style>\n",
       "<table border=\"1\" class=\"dataframe\">\n",
       "  <thead>\n",
       "    <tr style=\"text-align: right;\">\n",
       "      <th></th>\n",
       "      <th>last_price</th>\n",
       "      <th>rooms</th>\n",
       "      <th>floor</th>\n",
       "      <th>distance</th>\n",
       "      <th>days_exposition</th>\n",
       "    </tr>\n",
       "  </thead>\n",
       "  <tbody>\n",
       "    <tr>\n",
       "      <td>last_price</td>\n",
       "      <td>1.000000</td>\n",
       "      <td>0.514994</td>\n",
       "      <td>0.045734</td>\n",
       "      <td>-0.005387</td>\n",
       "      <td>0.007345</td>\n",
       "    </tr>\n",
       "    <tr>\n",
       "      <td>rooms</td>\n",
       "      <td>0.514994</td>\n",
       "      <td>1.000000</td>\n",
       "      <td>0.033101</td>\n",
       "      <td>-0.004494</td>\n",
       "      <td>0.078929</td>\n",
       "    </tr>\n",
       "    <tr>\n",
       "      <td>floor</td>\n",
       "      <td>0.045734</td>\n",
       "      <td>0.033101</td>\n",
       "      <td>1.000000</td>\n",
       "      <td>0.094087</td>\n",
       "      <td>0.113204</td>\n",
       "    </tr>\n",
       "    <tr>\n",
       "      <td>distance</td>\n",
       "      <td>-0.005387</td>\n",
       "      <td>-0.004494</td>\n",
       "      <td>0.094087</td>\n",
       "      <td>1.000000</td>\n",
       "      <td>0.119170</td>\n",
       "    </tr>\n",
       "    <tr>\n",
       "      <td>days_exposition</td>\n",
       "      <td>0.007345</td>\n",
       "      <td>0.078929</td>\n",
       "      <td>0.113204</td>\n",
       "      <td>0.119170</td>\n",
       "      <td>1.000000</td>\n",
       "    </tr>\n",
       "  </tbody>\n",
       "</table>\n",
       "</div>"
      ],
      "text/plain": [
       "                 last_price     rooms     floor  distance  days_exposition\n",
       "last_price         1.000000  0.514994  0.045734 -0.005387         0.007345\n",
       "rooms              0.514994  1.000000  0.033101 -0.004494         0.078929\n",
       "floor              0.045734  0.033101  1.000000  0.094087         0.113204\n",
       "distance          -0.005387 -0.004494  0.094087  1.000000         0.119170\n",
       "days_exposition    0.007345  0.078929  0.113204  0.119170         1.000000"
      ]
     },
     "execution_count": 40,
     "metadata": {},
     "output_type": "execute_result"
    }
   ],
   "source": [
    "data_centre[['last_price', 'rooms', 'floor', 'distance', 'days_exposition']].corr()"
   ]
  },
  {
   "cell_type": "markdown",
   "metadata": {},
   "source": [
    "Сегмент характеризуется невосприимчивостью к расстоянию от центра, также меньше влияния фактора количества комнат"
   ]
  },
  {
   "cell_type": "code",
   "execution_count": 41,
   "metadata": {},
   "outputs": [
    {
     "data": {
      "image/png": "[encoded data removed]",
      "text/plain": [
       "<Figure size 432x288 with 1 Axes>"
      ]
     },
     "metadata": {
      "needs_background": "light"
     },
     "output_type": "display_data"
    }
   ],
   "source": [
    "plt.plot(data_centre.pivot_table(index = 'rooms', values = 'last_price', aggfunc = 'median'), label = 'центр')\n",
    "plt.plot(data_spb.pivot_table(index = 'rooms', values = 'last_price', aggfunc = 'median'), label = 'город')\n",
    "plt.ticklabel_format(style = 'plain')\n",
    "plt.title('Влияние количества комнат на стоимость квартиры')\n",
    "plt.xlabel('Количество комнат, руб.')\n",
    "plt.ylabel('Стоимость квартиры, руб.')\n",
    "plt.grid(True)\n",
    "plt.legend()\n",
    "plt.show()"
   ]
  },
  {
   "cell_type": "markdown",
   "metadata": {},
   "source": [
    "Во всех сегментах наблюдается более высокая либо равная стоимость квартир в центре относительно стоимости в целом по Санкт-Петербургу"
   ]
  },
  {
   "cell_type": "markdown",
   "metadata": {},
   "source": [
    "Сегмент характеризуется невосприимчивостью к расстоянию от центра, также меньше влияния фактора количества комнат"
   ]
  },
  {
   "cell_type": "code",
   "execution_count": 42,
   "metadata": {},
   "outputs": [
    {
     "data": {
      "image/png": "[encoded data removed]",
      "text/plain": [
       "<Figure size 432x288 with 1 Axes>"
      ]
     },
     "metadata": {
      "needs_background": "light"
     },
     "output_type": "display_data"
    }
   ],
   "source": [
    "plt.plot(data_centre.pivot_table(index = 'year', values = 'last_price', aggfunc = 'median'), label = 'центр')\n",
    "plt.plot(data_spb.pivot_table(index = 'year', values = 'last_price', aggfunc = 'median'), label = 'город')\n",
    "plt.ticklabel_format(style = 'plain')\n",
    "plt.title('Влияние даты размещения объявления на стоимость квартиры')\n",
    "plt.xlabel('Год')\n",
    "plt.ylabel('Стоимость квартиры, руб.')\n",
    "plt.grid(True)\n",
    "plt.legend()\n",
    "plt.show()"
   ]
  },
  {
   "cell_type": "markdown",
   "metadata": {},
   "source": [
    "Стоимость квартир в центре с 2017 года активно растет, в целом по городу она практически не меняется"
   ]
  },
  {
   "cell_type": "code",
   "execution_count": 43,
   "metadata": {},
   "outputs": [
    {
     "data": {
      "image/png": "[encoded data removed]",
      "text/plain": [
       "<Figure size 432x288 with 1 Axes>"
      ]
     },
     "metadata": {
      "needs_background": "light"
     },
     "output_type": "display_data"
    }
   ],
   "source": [
    "plt.plot(data_centre.pivot_table(index = 'floor', values = 'last_price', aggfunc = 'median'), label = 'центр')\n",
    "plt.plot(data_spb.pivot_table(index = 'floor', values = 'last_price', aggfunc = 'median'), label = 'город')\n",
    "plt.ticklabel_format(style = 'plain')\n",
    "plt.title('Изменение стоимости квартиры от этажа')\n",
    "plt.xlabel('Этаж')\n",
    "plt.ylabel('Стоимость квартиры, руб.')\n",
    "plt.grid(True)\n",
    "plt.legend()\n",
    "plt.show()\n",
    "\n"
   ]
  },
  {
   "cell_type": "markdown",
   "metadata": {},
   "source": [
    "Здания в центре - малоэтажные с очень дорогими квартирами"
   ]
  },
  {
   "cell_type": "markdown",
   "metadata": {},
   "source": [
    "## Общий вывод"
   ]
  },
  {
   "cell_type": "markdown",
   "metadata": {},
   "source": [
    "В работе проведен анализ данных о продажах квартир в Санкт-Петербурге и городах Ленинградской области. По объявлениям, размещенным в период с 2014 по 2019 год совершено более 23 тыс. сделок. Медианная стоимость квадрадного метра составила 95 тыс. руб. В среднем квартира реализуется в течение 95 дней с момента опубликования объявления и в большинстве случаем не позднее 8 месяцев. На стоимость квартиры влияют различные факторы: количество комнат, расстояние от центра населенного пунтка, расположение этажа. Выявлены отдельные закономерности в динамике размещения объявлений: размещенные во второй половине года объявления завершаются сделками по более высокой цене.\n",
    "Предложение по квартирам Санкт-Петербурга значительно превышает предложение в других населенных пунктах, цена за квадратный метр в Санкт-Петербурге также максимальная и составляет 109\n",
    "тыс. руб.\n",
    "С учетом умеющихся данных можно выделить центральный район Санкт-Петербурга, в данном сегменте цена за квадратный метр - 118 тыс. руб. Стоит отметить, что в сегменте возрастает влияние этажности и снижается зависимость от времени экспозиции, количества комнат и близости к центру\n"
   ]
  }
 ],
 "metadata": {
  "ExecuteTimeLog": [
   {
    "duration": 2792,
    "start_time": "2021-07-18T09:36:02.234Z"
   },
   {
    "duration": 87,
    "start_time": "2021-07-18T09:36:42.137Z"
   },
   {
    "duration": 81,
    "start_time": "2021-07-18T09:37:20.981Z"
   },
   {
    "duration": 74,
    "start_time": "2021-07-18T09:37:26.842Z"
   },
   {
    "duration": 80,
    "start_time": "2021-07-18T09:38:02.994Z"
   },
   {
    "duration": 74,
    "start_time": "2021-07-18T09:38:10.578Z"
   },
   {
    "duration": 76,
    "start_time": "2021-07-18T09:40:30.923Z"
   },
   {
    "duration": 785,
    "start_time": "2021-07-18T09:43:33.758Z"
   },
   {
    "duration": 123,
    "start_time": "2021-07-18T09:43:47.189Z"
   },
   {
    "duration": 78,
    "start_time": "2021-07-18T09:43:52.796Z"
   },
   {
    "duration": 1133,
    "start_time": "2021-07-18T09:43:59.227Z"
   },
   {
    "duration": 76,
    "start_time": "2021-07-18T09:44:04.983Z"
   },
   {
    "duration": 99,
    "start_time": "2021-07-18T09:44:20.179Z"
   },
   {
    "duration": 107,
    "start_time": "2021-07-18T09:44:35.680Z"
   },
   {
    "duration": 142,
    "start_time": "2021-07-18T18:13:01.092Z"
   },
   {
    "duration": 1024,
    "start_time": "2021-07-18T18:13:11.138Z"
   },
   {
    "duration": 155,
    "start_time": "2021-07-18T18:14:45.730Z"
   },
   {
    "duration": 110,
    "start_time": "2021-07-18T18:14:50.158Z"
   },
   {
    "duration": 5503,
    "start_time": "2021-07-19T14:13:07.188Z"
   },
   {
    "duration": 4812,
    "start_time": "2021-07-19T14:13:51.111Z"
   },
   {
    "duration": 80,
    "start_time": "2021-07-19T14:14:02.845Z"
   },
   {
    "duration": 1169,
    "start_time": "2021-07-19T14:14:14.957Z"
   },
   {
    "duration": 1941,
    "start_time": "2021-07-19T14:14:34.400Z"
   },
   {
    "duration": 4416,
    "start_time": "2021-07-19T14:14:45.394Z"
   },
   {
    "duration": 78,
    "start_time": "2021-07-19T14:17:53.529Z"
   },
   {
    "duration": 10578,
    "start_time": "2021-07-19T14:20:03.543Z"
   },
   {
    "duration": 5620,
    "start_time": "2021-07-19T14:20:22.880Z"
   },
   {
    "duration": 79,
    "start_time": "2021-07-19T14:20:32.719Z"
   },
   {
    "duration": 122,
    "start_time": "2021-07-19T14:20:49.337Z"
   },
   {
    "duration": 76,
    "start_time": "2021-07-19T14:20:58.722Z"
   },
   {
    "duration": 106,
    "start_time": "2021-07-19T14:21:07.134Z"
   },
   {
    "duration": 104,
    "start_time": "2021-07-19T14:21:20.075Z"
   },
   {
    "duration": 75,
    "start_time": "2021-07-19T14:21:24.295Z"
   },
   {
    "duration": 100,
    "start_time": "2021-07-19T14:23:43.052Z"
   },
   {
    "duration": 277,
    "start_time": "2021-07-24T16:25:30.524Z"
   },
   {
    "duration": 224,
    "start_time": "2021-07-24T16:25:38.594Z"
   },
   {
    "duration": 223,
    "start_time": "2021-07-24T16:25:46.492Z"
   },
   {
    "duration": 259,
    "start_time": "2021-07-24T16:25:59.660Z"
   },
   {
    "duration": 582,
    "start_time": "2021-07-24T16:26:16.940Z"
   },
   {
    "duration": 276,
    "start_time": "2021-07-24T16:26:17.524Z"
   },
   {
    "duration": 74,
    "start_time": "2021-07-24T16:26:24.874Z"
   },
   {
    "duration": 21,
    "start_time": "2021-07-24T16:44:10.799Z"
   },
   {
    "duration": 70,
    "start_time": "2021-07-24T18:09:10.345Z"
   },
   {
    "duration": 61,
    "start_time": "2021-07-24T18:09:10.417Z"
   },
   {
    "duration": 23,
    "start_time": "2021-07-24T18:09:10.480Z"
   },
   {
    "duration": 23,
    "start_time": "2021-07-24T18:09:10.505Z"
   },
   {
    "duration": 21,
    "start_time": "2021-07-24T18:10:00.970Z"
   },
   {
    "duration": 11,
    "start_time": "2021-07-24T18:10:50.283Z"
   },
   {
    "duration": 233,
    "start_time": "2021-07-24T18:14:35.641Z"
   },
   {
    "duration": 73,
    "start_time": "2021-07-24T18:14:49.591Z"
   },
   {
    "duration": 63,
    "start_time": "2021-07-24T18:14:49.666Z"
   },
   {
    "duration": 21,
    "start_time": "2021-07-24T18:14:49.731Z"
   },
   {
    "duration": 241,
    "start_time": "2021-07-24T18:14:49.753Z"
   },
   {
    "duration": 13,
    "start_time": "2021-07-24T18:15:48.362Z"
   },
   {
    "duration": 5,
    "start_time": "2021-07-24T18:23:15.682Z"
   },
   {
    "duration": 5,
    "start_time": "2021-07-24T18:27:15.705Z"
   },
   {
    "duration": 7,
    "start_time": "2021-07-24T18:30:16.174Z"
   },
   {
    "duration": 243,
    "start_time": "2021-07-24T18:30:29.602Z"
   },
   {
    "duration": 11,
    "start_time": "2021-07-24T18:30:37.534Z"
   },
   {
    "duration": 5597,
    "start_time": "2021-07-24T18:38:07.814Z"
   },
   {
    "duration": 11,
    "start_time": "2021-07-24T18:40:08.974Z"
   },
   {
    "duration": 5,
    "start_time": "2021-07-24T18:50:44.235Z"
   },
   {
    "duration": 15,
    "start_time": "2021-07-24T18:51:41.020Z"
   },
   {
    "duration": 7,
    "start_time": "2021-07-24T18:55:42.398Z"
   },
   {
    "duration": 7,
    "start_time": "2021-07-24T18:56:10.925Z"
   },
   {
    "duration": 22,
    "start_time": "2021-07-24T18:57:37.220Z"
   },
   {
    "duration": 28,
    "start_time": "2021-07-24T19:03:18.723Z"
   },
   {
    "duration": 4,
    "start_time": "2021-07-24T19:08:14.944Z"
   },
   {
    "duration": 30,
    "start_time": "2021-07-24T19:14:25.086Z"
   },
   {
    "duration": 30,
    "start_time": "2021-07-24T19:15:05.518Z"
   },
   {
    "duration": 30,
    "start_time": "2021-07-24T19:15:23.578Z"
   },
   {
    "duration": 257,
    "start_time": "2021-07-24T19:16:05.462Z"
   },
   {
    "duration": 32,
    "start_time": "2021-07-24T19:16:12.687Z"
   },
   {
    "duration": 70,
    "start_time": "2021-07-24T19:37:36.674Z"
   },
   {
    "duration": 60,
    "start_time": "2021-07-24T19:37:36.746Z"
   },
   {
    "duration": 20,
    "start_time": "2021-07-24T19:37:36.808Z"
   },
   {
    "duration": 15,
    "start_time": "2021-07-24T19:37:36.829Z"
   },
   {
    "duration": 5,
    "start_time": "2021-07-24T19:37:36.845Z"
   },
   {
    "duration": 12,
    "start_time": "2021-07-24T19:37:36.915Z"
   },
   {
    "duration": 12,
    "start_time": "2021-07-24T19:37:37.037Z"
   },
   {
    "duration": 14,
    "start_time": "2021-07-24T19:37:37.136Z"
   },
   {
    "duration": 19,
    "start_time": "2021-07-24T19:37:37.151Z"
   },
   {
    "duration": 24,
    "start_time": "2021-07-24T19:37:37.172Z"
   },
   {
    "duration": 29,
    "start_time": "2021-07-24T19:37:37.197Z"
   },
   {
    "duration": 215,
    "start_time": "2021-07-25T12:36:20.505Z"
   },
   {
    "duration": 591,
    "start_time": "2021-07-25T12:36:40.210Z"
   },
   {
    "duration": 72,
    "start_time": "2021-07-25T12:36:40.803Z"
   },
   {
    "duration": 21,
    "start_time": "2021-07-25T12:36:40.885Z"
   },
   {
    "duration": 17,
    "start_time": "2021-07-25T12:36:40.907Z"
   },
   {
    "duration": 8,
    "start_time": "2021-07-25T12:36:40.925Z"
   },
   {
    "duration": 16,
    "start_time": "2021-07-25T12:36:40.934Z"
   },
   {
    "duration": 15,
    "start_time": "2021-07-25T12:36:40.951Z"
   },
   {
    "duration": 29,
    "start_time": "2021-07-25T12:36:40.968Z"
   },
   {
    "duration": 20,
    "start_time": "2021-07-25T12:36:40.998Z"
   },
   {
    "duration": 26,
    "start_time": "2021-07-25T12:36:41.020Z"
   },
   {
    "duration": 255,
    "start_time": "2021-07-25T12:36:41.048Z"
   },
   {
    "duration": 197,
    "start_time": "2021-07-25T12:37:04.912Z"
   },
   {
    "duration": 640,
    "start_time": "2021-07-25T12:37:18.503Z"
   },
   {
    "duration": 77,
    "start_time": "2021-07-25T12:37:19.145Z"
   },
   {
    "duration": 22,
    "start_time": "2021-07-25T12:37:19.224Z"
   },
   {
    "duration": 15,
    "start_time": "2021-07-25T12:37:19.247Z"
   },
   {
    "duration": 23,
    "start_time": "2021-07-25T12:37:19.263Z"
   },
   {
    "duration": 12,
    "start_time": "2021-07-25T12:37:19.288Z"
   },
   {
    "duration": 11,
    "start_time": "2021-07-25T12:37:19.302Z"
   },
   {
    "duration": 13,
    "start_time": "2021-07-25T12:37:19.315Z"
   },
   {
    "duration": 22,
    "start_time": "2021-07-25T12:37:19.330Z"
   },
   {
    "duration": 54,
    "start_time": "2021-07-25T12:37:19.354Z"
   },
   {
    "duration": 242,
    "start_time": "2021-07-25T12:37:19.409Z"
   },
   {
    "duration": 407,
    "start_time": "2021-07-25T12:37:35.817Z"
   },
   {
    "duration": 200,
    "start_time": "2021-07-25T12:51:05.124Z"
   },
   {
    "duration": 416,
    "start_time": "2021-07-25T12:51:37.352Z"
   },
   {
    "duration": 193,
    "start_time": "2021-07-25T12:51:54.144Z"
   },
   {
    "duration": 642,
    "start_time": "2021-07-25T12:52:02.624Z"
   },
   {
    "duration": 83,
    "start_time": "2021-07-25T12:52:03.268Z"
   },
   {
    "duration": 31,
    "start_time": "2021-07-25T12:52:03.355Z"
   },
   {
    "duration": 25,
    "start_time": "2021-07-25T12:52:03.389Z"
   },
   {
    "duration": 6,
    "start_time": "2021-07-25T12:52:03.416Z"
   },
   {
    "duration": 12,
    "start_time": "2021-07-25T12:52:03.424Z"
   },
   {
    "duration": 10,
    "start_time": "2021-07-25T12:52:03.438Z"
   },
   {
    "duration": 54,
    "start_time": "2021-07-25T12:52:03.449Z"
   },
   {
    "duration": 29,
    "start_time": "2021-07-25T12:52:03.505Z"
   },
   {
    "duration": 52,
    "start_time": "2021-07-25T12:52:03.535Z"
   },
   {
    "duration": 278,
    "start_time": "2021-07-25T12:52:03.590Z"
   },
   {
    "duration": 201,
    "start_time": "2021-07-25T12:52:20.832Z"
   },
   {
    "duration": 199,
    "start_time": "2021-07-25T12:53:18.944Z"
   },
   {
    "duration": 212,
    "start_time": "2021-07-25T12:54:54.621Z"
   },
   {
    "duration": 680,
    "start_time": "2021-07-25T12:55:52.870Z"
   },
   {
    "duration": 88,
    "start_time": "2021-07-25T12:55:53.552Z"
   },
   {
    "duration": 23,
    "start_time": "2021-07-25T12:55:53.643Z"
   },
   {
    "duration": 45,
    "start_time": "2021-07-25T12:55:53.667Z"
   },
   {
    "duration": 5,
    "start_time": "2021-07-25T12:55:53.713Z"
   },
   {
    "duration": 14,
    "start_time": "2021-07-25T12:55:53.720Z"
   },
   {
    "duration": 11,
    "start_time": "2021-07-25T12:55:53.736Z"
   },
   {
    "duration": 52,
    "start_time": "2021-07-25T12:55:53.749Z"
   },
   {
    "duration": 28,
    "start_time": "2021-07-25T12:55:53.804Z"
   },
   {
    "duration": 56,
    "start_time": "2021-07-25T12:55:53.833Z"
   },
   {
    "duration": 273,
    "start_time": "2021-07-25T12:55:53.892Z"
   },
   {
    "duration": 217,
    "start_time": "2021-07-25T12:57:10.861Z"
   },
   {
    "duration": 40,
    "start_time": "2021-07-25T12:57:26.341Z"
   },
   {
    "duration": 406,
    "start_time": "2021-07-25T13:14:26.319Z"
   },
   {
    "duration": 394,
    "start_time": "2021-07-25T13:14:52.651Z"
   },
   {
    "duration": 451,
    "start_time": "2021-07-25T13:15:02.958Z"
   },
   {
    "duration": 4918,
    "start_time": "2021-07-25T13:15:25.569Z"
   },
   {
    "duration": 38,
    "start_time": "2021-07-25T13:15:39.216Z"
   },
   {
    "duration": 63,
    "start_time": "2021-07-25T13:27:46.521Z"
   },
   {
    "duration": 493,
    "start_time": "2021-07-25T13:28:01.543Z"
   },
   {
    "duration": 426,
    "start_time": "2021-07-25T13:34:20.035Z"
   },
   {
    "duration": 850,
    "start_time": "2021-07-25T16:47:14.381Z"
   },
   {
    "duration": 117,
    "start_time": "2021-07-25T16:47:15.233Z"
   },
   {
    "duration": 42,
    "start_time": "2021-07-25T16:47:15.352Z"
   },
   {
    "duration": 23,
    "start_time": "2021-07-25T16:47:15.397Z"
   },
   {
    "duration": 23,
    "start_time": "2021-07-25T16:47:15.422Z"
   },
   {
    "duration": 19,
    "start_time": "2021-07-25T16:47:15.461Z"
   },
   {
    "duration": 17,
    "start_time": "2021-07-25T16:47:15.482Z"
   },
   {
    "duration": 21,
    "start_time": "2021-07-25T16:47:15.503Z"
   },
   {
    "duration": 35,
    "start_time": "2021-07-25T16:47:15.562Z"
   },
   {
    "duration": 64,
    "start_time": "2021-07-25T16:47:15.599Z"
   },
   {
    "duration": 720,
    "start_time": "2021-07-25T16:47:15.665Z"
   },
   {
    "duration": 869,
    "start_time": "2021-07-25T16:51:08.069Z"
   },
   {
    "duration": 916,
    "start_time": "2021-07-25T16:51:44.424Z"
   },
   {
    "duration": 840,
    "start_time": "2021-07-25T16:57:50.207Z"
   },
   {
    "duration": 856,
    "start_time": "2021-07-25T16:58:19.546Z"
   },
   {
    "duration": 872,
    "start_time": "2021-07-25T16:58:53.492Z"
   },
   {
    "duration": 335,
    "start_time": "2021-07-26T14:47:55.859Z"
   },
   {
    "duration": 819,
    "start_time": "2021-07-26T14:48:00.419Z"
   },
   {
    "duration": 123,
    "start_time": "2021-07-26T14:48:01.241Z"
   },
   {
    "duration": 44,
    "start_time": "2021-07-26T14:48:01.369Z"
   },
   {
    "duration": 35,
    "start_time": "2021-07-26T14:48:01.415Z"
   },
   {
    "duration": 7,
    "start_time": "2021-07-26T14:48:01.453Z"
   },
   {
    "duration": 33,
    "start_time": "2021-07-26T14:48:01.462Z"
   },
   {
    "duration": 17,
    "start_time": "2021-07-26T14:48:01.498Z"
   },
   {
    "duration": 23,
    "start_time": "2021-07-26T14:48:01.519Z"
   },
   {
    "duration": 72,
    "start_time": "2021-07-26T14:48:01.545Z"
   },
   {
    "duration": 81,
    "start_time": "2021-07-26T14:48:01.620Z"
   },
   {
    "duration": 893,
    "start_time": "2021-07-26T14:48:01.704Z"
   },
   {
    "duration": 144,
    "start_time": "2021-07-26T14:48:02.599Z"
   },
   {
    "duration": 98,
    "start_time": "2021-07-26T14:54:12.588Z"
   },
   {
    "duration": 117,
    "start_time": "2021-07-26T14:54:12.689Z"
   },
   {
    "duration": 35,
    "start_time": "2021-07-26T14:54:12.810Z"
   },
   {
    "duration": 43,
    "start_time": "2021-07-26T14:54:12.848Z"
   },
   {
    "duration": 7,
    "start_time": "2021-07-26T14:54:12.894Z"
   },
   {
    "duration": 20,
    "start_time": "2021-07-26T14:54:12.903Z"
   },
   {
    "duration": 17,
    "start_time": "2021-07-26T14:54:12.926Z"
   },
   {
    "duration": 51,
    "start_time": "2021-07-26T14:54:12.947Z"
   },
   {
    "duration": 30,
    "start_time": "2021-07-26T14:54:13.001Z"
   },
   {
    "duration": 72,
    "start_time": "2021-07-26T14:54:13.034Z"
   },
   {
    "duration": 855,
    "start_time": "2021-07-26T14:54:13.109Z"
   },
   {
    "duration": 665,
    "start_time": "2021-07-26T14:54:13.967Z"
   },
   {
    "duration": 591,
    "start_time": "2021-07-26T14:54:14.635Z"
   },
   {
    "duration": 562,
    "start_time": "2021-07-26T14:54:15.229Z"
   },
   {
    "duration": 547,
    "start_time": "2021-07-26T14:54:15.794Z"
   },
   {
    "duration": 614,
    "start_time": "2021-07-26T14:57:11.549Z"
   },
   {
    "duration": 510,
    "start_time": "2021-07-26T14:58:20.421Z"
   },
   {
    "duration": 544,
    "start_time": "2021-07-26T14:58:27.926Z"
   },
   {
    "duration": 508,
    "start_time": "2021-07-26T14:58:39.090Z"
   },
   {
    "duration": 104,
    "start_time": "2021-07-26T14:58:50.201Z"
   },
   {
    "duration": 506,
    "start_time": "2021-07-26T14:58:58.140Z"
   },
   {
    "duration": 129,
    "start_time": "2021-07-26T14:59:07.803Z"
   },
   {
    "duration": 672,
    "start_time": "2021-07-26T14:59:14.100Z"
   },
   {
    "duration": 297,
    "start_time": "2021-07-26T14:59:18.573Z"
   },
   {
    "duration": 406,
    "start_time": "2021-07-26T14:59:28.641Z"
   },
   {
    "duration": 426,
    "start_time": "2021-07-26T14:59:39.163Z"
   },
   {
    "duration": 322,
    "start_time": "2021-07-26T14:59:45.605Z"
   },
   {
    "duration": 281,
    "start_time": "2021-07-26T15:00:25.312Z"
   },
   {
    "duration": 321,
    "start_time": "2021-07-26T15:00:32.467Z"
   },
   {
    "duration": 411,
    "start_time": "2021-07-26T15:00:58.295Z"
   },
   {
    "duration": 428,
    "start_time": "2021-07-26T15:01:33.269Z"
   },
   {
    "duration": 303,
    "start_time": "2021-07-26T15:01:48.334Z"
   },
   {
    "duration": 287,
    "start_time": "2021-07-26T15:02:39.422Z"
   },
   {
    "duration": 470,
    "start_time": "2021-07-26T15:02:57.550Z"
   },
   {
    "duration": 316,
    "start_time": "2021-07-26T15:03:05.723Z"
   },
   {
    "duration": 314,
    "start_time": "2021-07-26T15:03:13.491Z"
   },
   {
    "duration": 293,
    "start_time": "2021-07-26T15:03:47.916Z"
   },
   {
    "duration": 662,
    "start_time": "2021-07-26T15:35:27.664Z"
   },
   {
    "duration": 579,
    "start_time": "2021-07-26T15:36:22.612Z"
   },
   {
    "duration": 541,
    "start_time": "2021-07-26T15:36:38.964Z"
   },
   {
    "duration": 547,
    "start_time": "2021-07-26T15:37:35.409Z"
   },
   {
    "duration": 343,
    "start_time": "2021-07-26T16:12:54.797Z"
   },
   {
    "duration": 664,
    "start_time": "2021-07-26T16:14:51.691Z"
   },
   {
    "duration": 907,
    "start_time": "2021-07-27T16:55:18.959Z"
   },
   {
    "duration": 140,
    "start_time": "2021-07-27T16:55:19.870Z"
   },
   {
    "duration": 48,
    "start_time": "2021-07-27T16:55:20.012Z"
   },
   {
    "duration": 36,
    "start_time": "2021-07-27T16:55:20.064Z"
   },
   {
    "duration": 8,
    "start_time": "2021-07-27T16:55:20.103Z"
   },
   {
    "duration": 53,
    "start_time": "2021-07-27T16:55:20.113Z"
   },
   {
    "duration": 20,
    "start_time": "2021-07-27T16:55:20.169Z"
   },
   {
    "duration": 26,
    "start_time": "2021-07-27T16:55:20.192Z"
   },
   {
    "duration": 60,
    "start_time": "2021-07-27T16:55:20.221Z"
   },
   {
    "duration": 52,
    "start_time": "2021-07-27T16:55:20.284Z"
   },
   {
    "duration": 954,
    "start_time": "2021-07-27T16:55:20.339Z"
   },
   {
    "duration": 600,
    "start_time": "2021-07-27T16:55:21.295Z"
   },
   {
    "duration": 330,
    "start_time": "2021-07-27T16:55:21.897Z"
   },
   {
    "duration": 339,
    "start_time": "2021-07-27T16:55:22.230Z"
   },
   {
    "duration": 378,
    "start_time": "2021-07-27T16:55:22.571Z"
   },
   {
    "duration": 588,
    "start_time": "2021-07-27T16:55:22.954Z"
   },
   {
    "duration": 708,
    "start_time": "2021-07-27T16:55:23.545Z"
   },
   {
    "duration": 946,
    "start_time": "2021-07-29T16:34:05.059Z"
   },
   {
    "duration": 129,
    "start_time": "2021-07-29T16:34:06.008Z"
   },
   {
    "duration": 54,
    "start_time": "2021-07-29T16:34:06.141Z"
   },
   {
    "duration": 27,
    "start_time": "2021-07-29T16:34:06.198Z"
   },
   {
    "duration": 7,
    "start_time": "2021-07-29T16:34:06.228Z"
   },
   {
    "duration": 19,
    "start_time": "2021-07-29T16:34:06.266Z"
   },
   {
    "duration": 20,
    "start_time": "2021-07-29T16:34:06.288Z"
   },
   {
    "duration": 70,
    "start_time": "2021-07-29T16:34:06.312Z"
   },
   {
    "duration": 49,
    "start_time": "2021-07-29T16:34:06.386Z"
   },
   {
    "duration": 58,
    "start_time": "2021-07-29T16:34:06.437Z"
   },
   {
    "duration": 1470,
    "start_time": "2021-07-29T16:34:06.498Z"
   },
   {
    "duration": 884,
    "start_time": "2021-07-29T16:34:07.971Z"
   },
   {
    "duration": 336,
    "start_time": "2021-07-29T16:34:08.862Z"
   },
   {
    "duration": 329,
    "start_time": "2021-07-29T16:34:09.200Z"
   },
   {
    "duration": 511,
    "start_time": "2021-07-29T16:34:09.532Z"
   },
   {
    "duration": 555,
    "start_time": "2021-07-29T16:34:10.046Z"
   },
   {
    "duration": 623,
    "start_time": "2021-07-29T16:34:10.604Z"
   },
   {
    "duration": 1872,
    "start_time": "2021-07-29T16:38:35.298Z"
   },
   {
    "duration": 1602,
    "start_time": "2021-07-29T16:39:28.548Z"
   },
   {
    "duration": 1488,
    "start_time": "2021-07-29T16:39:44.518Z"
   },
   {
    "duration": 3622,
    "start_time": "2021-07-29T17:01:35.686Z"
   },
   {
    "duration": 1798,
    "start_time": "2021-07-29T17:01:53.449Z"
   },
   {
    "duration": 890,
    "start_time": "2021-07-29T17:02:07.703Z"
   },
   {
    "duration": 1014,
    "start_time": "2021-07-29T17:02:23.161Z"
   },
   {
    "duration": 1240,
    "start_time": "2021-07-29T17:15:27.093Z"
   },
   {
    "duration": 432,
    "start_time": "2021-07-31T05:29:52.757Z"
   },
   {
    "duration": 872,
    "start_time": "2021-07-31T05:30:00.097Z"
   },
   {
    "duration": 123,
    "start_time": "2021-07-31T05:30:00.972Z"
   },
   {
    "duration": 36,
    "start_time": "2021-07-31T05:30:01.098Z"
   },
   {
    "duration": 23,
    "start_time": "2021-07-31T05:30:01.136Z"
   },
   {
    "duration": 30,
    "start_time": "2021-07-31T05:30:01.161Z"
   },
   {
    "duration": 28,
    "start_time": "2021-07-31T05:30:01.193Z"
   },
   {
    "duration": 22,
    "start_time": "2021-07-31T05:30:01.224Z"
   },
   {
    "duration": 50,
    "start_time": "2021-07-31T05:30:01.250Z"
   },
   {
    "duration": 36,
    "start_time": "2021-07-31T05:30:01.303Z"
   },
   {
    "duration": 66,
    "start_time": "2021-07-31T05:30:01.342Z"
   },
   {
    "duration": 925,
    "start_time": "2021-07-31T05:30:01.411Z"
   },
   {
    "duration": 566,
    "start_time": "2021-07-31T05:30:02.339Z"
   },
   {
    "duration": 321,
    "start_time": "2021-07-31T05:30:02.907Z"
   },
   {
    "duration": 321,
    "start_time": "2021-07-31T05:30:03.230Z"
   },
   {
    "duration": 353,
    "start_time": "2021-07-31T05:30:03.553Z"
   },
   {
    "duration": 830,
    "start_time": "2021-07-31T05:30:03.909Z"
   },
   {
    "duration": 14,
    "start_time": "2021-07-31T05:30:04.742Z"
   },
   {
    "duration": 511,
    "start_time": "2021-07-31T05:31:04.502Z"
   },
   {
    "duration": 876,
    "start_time": "2021-07-31T05:45:32.461Z"
   },
   {
    "duration": 188,
    "start_time": "2021-07-31T05:51:14.885Z"
   },
   {
    "duration": 15,
    "start_time": "2021-07-31T05:51:43.831Z"
   },
   {
    "duration": 19,
    "start_time": "2021-07-31T05:52:03.100Z"
   },
   {
    "duration": 128,
    "start_time": "2021-07-31T06:14:29.725Z"
   },
   {
    "duration": 22,
    "start_time": "2021-07-31T06:14:38.886Z"
   },
   {
    "duration": 8,
    "start_time": "2021-07-31T06:15:54.386Z"
   },
   {
    "duration": 8,
    "start_time": "2021-07-31T06:17:05.282Z"
   },
   {
    "duration": 1389,
    "start_time": "2021-07-31T06:18:36.194Z"
   },
   {
    "duration": 384,
    "start_time": "2021-07-31T06:21:15.518Z"
   },
   {
    "duration": 422,
    "start_time": "2021-07-31T06:21:53.883Z"
   },
   {
    "duration": 568,
    "start_time": "2021-07-31T06:26:43.118Z"
   },
   {
    "duration": 476,
    "start_time": "2021-07-31T08:25:47.301Z"
   },
   {
    "duration": 843,
    "start_time": "2021-07-31T08:26:37.330Z"
   },
   {
    "duration": 20,
    "start_time": "2021-07-31T08:26:57.227Z"
   },
   {
    "duration": 32,
    "start_time": "2021-07-31T08:28:01.659Z"
   },
   {
    "duration": 32,
    "start_time": "2021-07-31T08:31:09.504Z"
   },
   {
    "duration": 38,
    "start_time": "2021-07-31T08:32:52.480Z"
   },
   {
    "duration": 719,
    "start_time": "2021-07-31T08:36:32.369Z"
   },
   {
    "duration": 942,
    "start_time": "2021-07-31T08:37:35.572Z"
   },
   {
    "duration": 692,
    "start_time": "2021-07-31T08:42:21.818Z"
   },
   {
    "duration": 8,
    "start_time": "2021-07-31T08:43:02.254Z"
   },
   {
    "duration": 18,
    "start_time": "2021-07-31T08:47:02.138Z"
   },
   {
    "duration": 318,
    "start_time": "2021-07-31T08:47:28.621Z"
   },
   {
    "duration": 9784,
    "start_time": "2021-07-31T08:48:27.523Z"
   },
   {
    "duration": 10304,
    "start_time": "2021-07-31T08:48:46.907Z"
   },
   {
    "duration": 1551,
    "start_time": "2021-07-31T08:49:26.846Z"
   },
   {
    "duration": 1553,
    "start_time": "2021-07-31T08:49:56.829Z"
   },
   {
    "duration": 11015,
    "start_time": "2021-07-31T08:50:07.766Z"
   },
   {
    "duration": 19,
    "start_time": "2021-07-31T08:50:53.470Z"
   },
   {
    "duration": 533,
    "start_time": "2021-07-31T08:52:43.491Z"
   },
   {
    "duration": 21,
    "start_time": "2021-07-31T08:57:22.217Z"
   },
   {
    "duration": 10063,
    "start_time": "2021-07-31T08:59:32.425Z"
   },
   {
    "duration": 303,
    "start_time": "2021-07-31T08:59:59.990Z"
   },
   {
    "duration": 305,
    "start_time": "2021-07-31T09:01:28.765Z"
   },
   {
    "duration": 301,
    "start_time": "2021-07-31T09:03:00.790Z"
   },
   {
    "duration": 302,
    "start_time": "2021-07-31T09:04:29.933Z"
   },
   {
    "duration": -895,
    "start_time": "2021-07-31T09:05:21.245Z"
   },
   {
    "duration": 328,
    "start_time": "2021-07-31T09:06:14.018Z"
   },
   {
    "duration": 312,
    "start_time": "2021-07-31T09:06:37.582Z"
   },
   {
    "duration": 97,
    "start_time": "2021-07-31T09:06:57.316Z"
   },
   {
    "duration": 112,
    "start_time": "2021-07-31T09:06:57.416Z"
   },
   {
    "duration": 61,
    "start_time": "2021-07-31T09:06:57.531Z"
   },
   {
    "duration": 36,
    "start_time": "2021-07-31T09:06:57.595Z"
   },
   {
    "duration": 9,
    "start_time": "2021-07-31T09:06:57.634Z"
   },
   {
    "duration": 54,
    "start_time": "2021-07-31T09:06:57.646Z"
   },
   {
    "duration": 25,
    "start_time": "2021-07-31T09:06:57.703Z"
   },
   {
    "duration": 25,
    "start_time": "2021-07-31T09:06:57.733Z"
   },
   {
    "duration": 44,
    "start_time": "2021-07-31T09:06:57.786Z"
   },
   {
    "duration": 84,
    "start_time": "2021-07-31T09:06:57.833Z"
   },
   {
    "duration": 1667,
    "start_time": "2021-07-31T09:06:57.920Z"
   },
   {
    "duration": 430,
    "start_time": "2021-07-31T09:06:59.590Z"
   },
   {
    "duration": 321,
    "start_time": "2021-07-31T09:07:00.022Z"
   },
   {
    "duration": 318,
    "start_time": "2021-07-31T09:07:00.345Z"
   },
   {
    "duration": 348,
    "start_time": "2021-07-31T09:07:00.665Z"
   },
   {
    "duration": 907,
    "start_time": "2021-07-31T09:07:01.015Z"
   },
   {
    "duration": 12,
    "start_time": "2021-07-31T09:07:01.925Z"
   },
   {
    "duration": 46,
    "start_time": "2021-07-31T09:07:01.939Z"
   },
   {
    "duration": 8,
    "start_time": "2021-07-31T09:07:01.988Z"
   },
   {
    "duration": 34,
    "start_time": "2021-07-31T09:07:01.998Z"
   },
   {
    "duration": 47,
    "start_time": "2021-07-31T09:07:02.034Z"
   },
   {
    "duration": 8,
    "start_time": "2021-07-31T09:07:02.084Z"
   },
   {
    "duration": 438,
    "start_time": "2021-07-31T09:07:02.097Z"
   },
   {
    "duration": 437,
    "start_time": "2021-07-31T09:07:02.539Z"
   },
   {
    "duration": 461,
    "start_time": "2021-07-31T09:07:02.979Z"
   },
   {
    "duration": 418,
    "start_time": "2021-07-31T09:08:09.659Z"
   },
   {
    "duration": 34,
    "start_time": "2021-07-31T09:13:33.097Z"
   },
   {
    "duration": 33,
    "start_time": "2021-07-31T09:13:52.804Z"
   },
   {
    "duration": 12,
    "start_time": "2021-07-31T09:14:52.735Z"
   },
   {
    "duration": 37,
    "start_time": "2021-07-31T09:15:29.064Z"
   },
   {
    "duration": 33,
    "start_time": "2021-07-31T09:15:41.204Z"
   },
   {
    "duration": 38,
    "start_time": "2021-07-31T09:16:43.292Z"
   },
   {
    "duration": 113,
    "start_time": "2021-07-31T09:16:49.474Z"
   },
   {
    "duration": 116,
    "start_time": "2021-07-31T09:16:49.590Z"
   },
   {
    "duration": 36,
    "start_time": "2021-07-31T09:16:49.709Z"
   },
   {
    "duration": 44,
    "start_time": "2021-07-31T09:16:49.748Z"
   },
   {
    "duration": 7,
    "start_time": "2021-07-31T09:16:49.794Z"
   },
   {
    "duration": 31,
    "start_time": "2021-07-31T09:16:49.803Z"
   },
   {
    "duration": 26,
    "start_time": "2021-07-31T09:16:49.836Z"
   },
   {
    "duration": 36,
    "start_time": "2021-07-31T09:16:49.865Z"
   },
   {
    "duration": 33,
    "start_time": "2021-07-31T09:16:49.904Z"
   },
   {
    "duration": 75,
    "start_time": "2021-07-31T09:16:49.940Z"
   },
   {
    "duration": 842,
    "start_time": "2021-07-31T09:16:50.018Z"
   },
   {
    "duration": 435,
    "start_time": "2021-07-31T09:16:50.863Z"
   },
   {
    "duration": 323,
    "start_time": "2021-07-31T09:16:51.301Z"
   },
   {
    "duration": 327,
    "start_time": "2021-07-31T09:16:51.627Z"
   },
   {
    "duration": 384,
    "start_time": "2021-07-31T09:16:51.957Z"
   },
   {
    "duration": 857,
    "start_time": "2021-07-31T09:16:52.344Z"
   },
   {
    "duration": 14,
    "start_time": "2021-07-31T09:16:53.205Z"
   },
   {
    "duration": 24,
    "start_time": "2021-07-31T09:16:53.221Z"
   },
   {
    "duration": 41,
    "start_time": "2021-07-31T09:16:53.249Z"
   },
   {
    "duration": 59,
    "start_time": "2021-07-31T09:16:53.293Z"
   },
   {
    "duration": 34,
    "start_time": "2021-07-31T09:16:53.355Z"
   },
   {
    "duration": 9,
    "start_time": "2021-07-31T09:16:53.392Z"
   },
   {
    "duration": 320,
    "start_time": "2021-07-31T09:16:53.407Z"
   },
   {
    "duration": 326,
    "start_time": "2021-07-31T09:16:53.730Z"
   },
   {
    "duration": 341,
    "start_time": "2021-07-31T09:16:54.059Z"
   },
   {
    "duration": 43,
    "start_time": "2021-07-31T09:16:54.404Z"
   },
   {
    "duration": 35,
    "start_time": "2021-07-31T09:16:54.450Z"
   },
   {
    "duration": 13,
    "start_time": "2021-07-31T09:16:54.488Z"
   },
   {
    "duration": 451,
    "start_time": "2021-07-31T09:26:08.255Z"
   },
   {
    "duration": 101,
    "start_time": "2021-07-31T09:26:17.625Z"
   },
   {
    "duration": 121,
    "start_time": "2021-07-31T09:26:17.729Z"
   },
   {
    "duration": 49,
    "start_time": "2021-07-31T09:26:17.853Z"
   },
   {
    "duration": 22,
    "start_time": "2021-07-31T09:26:17.905Z"
   },
   {
    "duration": 13,
    "start_time": "2021-07-31T09:26:17.929Z"
   },
   {
    "duration": 44,
    "start_time": "2021-07-31T09:26:17.944Z"
   },
   {
    "duration": 18,
    "start_time": "2021-07-31T09:26:17.990Z"
   },
   {
    "duration": 26,
    "start_time": "2021-07-31T09:26:18.012Z"
   },
   {
    "duration": 56,
    "start_time": "2021-07-31T09:26:18.041Z"
   },
   {
    "duration": 45,
    "start_time": "2021-07-31T09:26:18.099Z"
   },
   {
    "duration": 1268,
    "start_time": "2021-07-31T09:26:18.146Z"
   },
   {
    "duration": 617,
    "start_time": "2021-07-31T09:26:19.417Z"
   },
   {
    "duration": 437,
    "start_time": "2021-07-31T09:26:20.037Z"
   },
   {
    "duration": 437,
    "start_time": "2021-07-31T09:26:20.477Z"
   },
   {
    "duration": 359,
    "start_time": "2021-07-31T09:26:20.918Z"
   },
   {
    "duration": 900,
    "start_time": "2021-07-31T09:26:21.285Z"
   },
   {
    "duration": 12,
    "start_time": "2021-07-31T09:26:22.187Z"
   },
   {
    "duration": 22,
    "start_time": "2021-07-31T09:26:22.201Z"
   },
   {
    "duration": 7,
    "start_time": "2021-07-31T09:26:22.226Z"
   },
   {
    "duration": 51,
    "start_time": "2021-07-31T09:26:22.235Z"
   },
   {
    "duration": 42,
    "start_time": "2021-07-31T09:26:22.288Z"
   },
   {
    "duration": 8,
    "start_time": "2021-07-31T09:26:22.333Z"
   },
   {
    "duration": 363,
    "start_time": "2021-07-31T09:26:22.347Z"
   },
   {
    "duration": 316,
    "start_time": "2021-07-31T09:26:22.712Z"
   },
   {
    "duration": 331,
    "start_time": "2021-07-31T09:26:23.030Z"
   },
   {
    "duration": 50,
    "start_time": "2021-07-31T09:26:23.365Z"
   },
   {
    "duration": 13,
    "start_time": "2021-07-31T09:26:23.418Z"
   },
   {
    "duration": 14,
    "start_time": "2021-07-31T09:26:23.435Z"
   },
   {
    "duration": 458,
    "start_time": "2021-07-31T09:26:23.452Z"
   },
   {
    "duration": 402,
    "start_time": "2021-07-31T09:26:56.680Z"
   },
   {
    "duration": 444,
    "start_time": "2021-07-31T09:31:43.048Z"
   },
   {
    "duration": 465,
    "start_time": "2021-07-31T09:32:13.739Z"
   },
   {
    "duration": 409,
    "start_time": "2021-07-31T09:32:34.855Z"
   },
   {
    "duration": 50,
    "start_time": "2021-07-31T09:33:05.976Z"
   },
   {
    "duration": 486,
    "start_time": "2021-07-31T09:33:19.878Z"
   },
   {
    "duration": 49,
    "start_time": "2021-07-31T09:33:53.795Z"
   },
   {
    "duration": 49,
    "start_time": "2021-07-31T09:34:32.400Z"
   },
   {
    "duration": 25,
    "start_time": "2021-07-31T09:35:17.985Z"
   },
   {
    "duration": 28,
    "start_time": "2021-07-31T09:38:17.076Z"
   },
   {
    "duration": 23,
    "start_time": "2021-07-31T09:38:28.278Z"
   },
   {
    "duration": 51,
    "start_time": "2021-07-31T09:38:43.256Z"
   },
   {
    "duration": 77,
    "start_time": "2021-07-31T09:39:14.279Z"
   },
   {
    "duration": 446,
    "start_time": "2021-07-31T09:45:25.421Z"
   },
   {
    "duration": 425,
    "start_time": "2021-07-31T09:45:38.570Z"
   },
   {
    "duration": 20,
    "start_time": "2021-07-31T09:46:06.988Z"
   },
   {
    "duration": 19,
    "start_time": "2021-07-31T09:46:23.465Z"
   },
   {
    "duration": 21,
    "start_time": "2021-07-31T09:46:44.441Z"
   },
   {
    "duration": 329,
    "start_time": "2021-07-31T09:47:17.828Z"
   },
   {
    "duration": 342,
    "start_time": "2021-07-31T09:47:28.867Z"
   },
   {
    "duration": 466,
    "start_time": "2021-07-31T09:47:50.886Z"
   },
   {
    "duration": 1594,
    "start_time": "2021-07-31T09:49:07.978Z"
   },
   {
    "duration": 10119,
    "start_time": "2021-07-31T09:49:51.317Z"
   },
   {
    "duration": 343,
    "start_time": "2021-07-31T09:50:25.108Z"
   },
   {
    "duration": 665,
    "start_time": "2021-07-31T09:51:46.761Z"
   },
   {
    "duration": 356,
    "start_time": "2021-07-31T09:52:36.189Z"
   },
   {
    "duration": 446,
    "start_time": "2021-07-31T09:52:52.355Z"
   },
   {
    "duration": 491,
    "start_time": "2021-07-31T09:52:58.841Z"
   },
   {
    "duration": 10,
    "start_time": "2021-07-31T09:58:22.398Z"
   },
   {
    "duration": 118,
    "start_time": "2021-07-31T09:59:47.043Z"
   },
   {
    "duration": 9425,
    "start_time": "2021-07-31T10:01:07.783Z"
   },
   {
    "duration": 11182,
    "start_time": "2021-07-31T10:04:49.277Z"
   },
   {
    "duration": 10489,
    "start_time": "2021-07-31T10:05:49.847Z"
   },
   {
    "duration": 2723,
    "start_time": "2021-07-31T10:06:17.324Z"
   },
   {
    "duration": 2812,
    "start_time": "2021-07-31T10:06:36.901Z"
   },
   {
    "duration": 17,
    "start_time": "2021-07-31T10:07:04.298Z"
   },
   {
    "duration": 119,
    "start_time": "2021-07-31T10:07:19.599Z"
   },
   {
    "duration": 876,
    "start_time": "2021-07-31T10:13:21.421Z"
   },
   {
    "duration": 125,
    "start_time": "2021-07-31T10:13:22.300Z"
   },
   {
    "duration": 34,
    "start_time": "2021-07-31T10:13:22.428Z"
   },
   {
    "duration": 35,
    "start_time": "2021-07-31T10:13:22.485Z"
   },
   {
    "duration": 9,
    "start_time": "2021-07-31T10:13:22.523Z"
   },
   {
    "duration": 51,
    "start_time": "2021-07-31T10:13:22.535Z"
   },
   {
    "duration": 23,
    "start_time": "2021-07-31T10:13:22.589Z"
   },
   {
    "duration": 26,
    "start_time": "2021-07-31T10:13:22.617Z"
   },
   {
    "duration": 75,
    "start_time": "2021-07-31T10:13:22.647Z"
   },
   {
    "duration": 72,
    "start_time": "2021-07-31T10:13:22.725Z"
   },
   {
    "duration": 1257,
    "start_time": "2021-07-31T10:13:22.800Z"
   },
   {
    "duration": 563,
    "start_time": "2021-07-31T10:13:24.060Z"
   },
   {
    "duration": 326,
    "start_time": "2021-07-31T10:13:24.625Z"
   },
   {
    "duration": 353,
    "start_time": "2021-07-31T10:13:24.954Z"
   },
   {
    "duration": 344,
    "start_time": "2021-07-31T10:13:25.310Z"
   },
   {
    "duration": 871,
    "start_time": "2021-07-31T10:13:25.657Z"
   },
   {
    "duration": 26,
    "start_time": "2021-07-31T10:13:26.531Z"
   },
   {
    "duration": 47,
    "start_time": "2021-07-31T10:13:26.561Z"
   },
   {
    "duration": 12,
    "start_time": "2021-07-31T10:13:26.612Z"
   },
   {
    "duration": 15,
    "start_time": "2021-07-31T10:13:26.629Z"
   },
   {
    "duration": 85,
    "start_time": "2021-07-31T10:13:26.649Z"
   },
   {
    "duration": 20,
    "start_time": "2021-07-31T10:13:26.744Z"
   },
   {
    "duration": 387,
    "start_time": "2021-07-31T10:13:26.771Z"
   },
   {
    "duration": 313,
    "start_time": "2021-07-31T10:13:27.161Z"
   },
   {
    "duration": 325,
    "start_time": "2021-07-31T10:13:27.477Z"
   },
   {
    "duration": 36,
    "start_time": "2021-07-31T10:13:27.805Z"
   },
   {
    "duration": 10,
    "start_time": "2021-07-31T10:13:27.844Z"
   },
   {
    "duration": 40,
    "start_time": "2021-07-31T10:13:27.857Z"
   },
   {
    "duration": 183,
    "start_time": "2021-07-31T10:13:27.900Z"
   },
   {
    "duration": 427,
    "start_time": "2021-07-31T10:13:28.087Z"
   },
   {
    "duration": 1240,
    "start_time": "2021-07-31T10:15:23.596Z"
   },
   {
    "duration": 16,
    "start_time": "2021-07-31T10:19:11.165Z"
   },
   {
    "duration": 17,
    "start_time": "2021-07-31T10:19:32.572Z"
   },
   {
    "duration": 24,
    "start_time": "2021-07-31T10:20:02.834Z"
   },
   {
    "duration": 39,
    "start_time": "2021-07-31T10:20:10.283Z"
   },
   {
    "duration": 503,
    "start_time": "2021-07-31T10:20:16.810Z"
   },
   {
    "duration": 17,
    "start_time": "2021-07-31T10:20:20.525Z"
   },
   {
    "duration": 406,
    "start_time": "2021-07-31T10:24:31.530Z"
   },
   {
    "duration": 19,
    "start_time": "2021-07-31T10:24:40.302Z"
   },
   {
    "duration": 37,
    "start_time": "2021-07-31T10:24:53.906Z"
   },
   {
    "duration": 693,
    "start_time": "2021-07-31T10:30:05.215Z"
   },
   {
    "duration": 397,
    "start_time": "2021-07-31T10:32:09.855Z"
   },
   {
    "duration": 396,
    "start_time": "2021-07-31T10:32:56.629Z"
   },
   {
    "duration": 101,
    "start_time": "2021-07-31T10:33:53.748Z"
   },
   {
    "duration": 268,
    "start_time": "2021-07-31T10:33:53.852Z"
   },
   {
    "duration": 63,
    "start_time": "2021-07-31T10:33:54.124Z"
   },
   {
    "duration": 37,
    "start_time": "2021-07-31T10:33:54.191Z"
   },
   {
    "duration": 10,
    "start_time": "2021-07-31T10:33:54.230Z"
   },
   {
    "duration": 50,
    "start_time": "2021-07-31T10:33:54.242Z"
   },
   {
    "duration": 17,
    "start_time": "2021-07-31T10:33:54.295Z"
   },
   {
    "duration": 18,
    "start_time": "2021-07-31T10:33:54.317Z"
   },
   {
    "duration": 74,
    "start_time": "2021-07-31T10:33:54.338Z"
   },
   {
    "duration": 49,
    "start_time": "2021-07-31T10:33:54.415Z"
   },
   {
    "duration": 991,
    "start_time": "2021-07-31T10:33:54.467Z"
   },
   {
    "duration": 421,
    "start_time": "2021-07-31T10:33:55.461Z"
   },
   {
    "duration": 321,
    "start_time": "2021-07-31T10:33:55.884Z"
   },
   {
    "duration": 308,
    "start_time": "2021-07-31T10:33:56.208Z"
   },
   {
    "duration": 334,
    "start_time": "2021-07-31T10:33:56.520Z"
   },
   {
    "duration": 866,
    "start_time": "2021-07-31T10:33:56.857Z"
   },
   {
    "duration": 12,
    "start_time": "2021-07-31T10:33:57.725Z"
   },
   {
    "duration": 26,
    "start_time": "2021-07-31T10:33:57.740Z"
   },
   {
    "duration": 8,
    "start_time": "2021-07-31T10:33:57.786Z"
   },
   {
    "duration": 9,
    "start_time": "2021-07-31T10:33:57.797Z"
   },
   {
    "duration": 35,
    "start_time": "2021-07-31T10:33:57.809Z"
   },
   {
    "duration": 43,
    "start_time": "2021-07-31T10:33:57.847Z"
   },
   {
    "duration": 321,
    "start_time": "2021-07-31T10:33:57.897Z"
   },
   {
    "duration": 409,
    "start_time": "2021-07-31T10:33:58.222Z"
   },
   {
    "duration": 320,
    "start_time": "2021-07-31T10:33:58.634Z"
   },
   {
    "duration": 50,
    "start_time": "2021-07-31T10:33:58.957Z"
   },
   {
    "duration": 12,
    "start_time": "2021-07-31T10:33:59.010Z"
   },
   {
    "duration": 16,
    "start_time": "2021-07-31T10:33:59.024Z"
   },
   {
    "duration": 92,
    "start_time": "2021-07-31T10:33:59.042Z"
   },
   {
    "duration": 411,
    "start_time": "2021-07-31T10:33:59.136Z"
   },
   {
    "duration": 50,
    "start_time": "2021-07-31T10:33:59.549Z"
   },
   {
    "duration": 20,
    "start_time": "2021-07-31T10:37:08.320Z"
   },
   {
    "duration": 17,
    "start_time": "2021-07-31T10:38:42.357Z"
   },
   {
    "duration": 3748,
    "start_time": "2021-07-31T12:16:53.738Z"
   },
   {
    "duration": 608,
    "start_time": "2021-07-31T12:17:02.610Z"
   },
   {
    "duration": 37,
    "start_time": "2021-07-31T12:18:22.280Z"
   },
   {
    "duration": 16,
    "start_time": "2021-07-31T12:21:08.941Z"
   },
   {
    "duration": 386,
    "start_time": "2021-07-31T12:24:32.426Z"
   },
   {
    "duration": 119,
    "start_time": "2021-07-31T12:25:00.291Z"
   },
   {
    "duration": 134,
    "start_time": "2021-07-31T12:25:00.413Z"
   },
   {
    "duration": 55,
    "start_time": "2021-07-31T12:25:00.550Z"
   },
   {
    "duration": 53,
    "start_time": "2021-07-31T12:25:00.608Z"
   },
   {
    "duration": 9,
    "start_time": "2021-07-31T12:25:00.664Z"
   },
   {
    "duration": 40,
    "start_time": "2021-07-31T12:25:00.676Z"
   },
   {
    "duration": 36,
    "start_time": "2021-07-31T12:25:00.718Z"
   },
   {
    "duration": 27,
    "start_time": "2021-07-31T12:25:00.759Z"
   },
   {
    "duration": 35,
    "start_time": "2021-07-31T12:25:00.790Z"
   },
   {
    "duration": 79,
    "start_time": "2021-07-31T12:25:00.828Z"
   },
   {
    "duration": 844,
    "start_time": "2021-07-31T12:25:00.909Z"
   },
   {
    "duration": 434,
    "start_time": "2021-07-31T12:25:01.756Z"
   },
   {
    "duration": 1093,
    "start_time": "2021-07-31T12:25:02.192Z"
   },
   {
    "duration": 323,
    "start_time": "2021-07-31T12:25:03.288Z"
   },
   {
    "duration": 392,
    "start_time": "2021-07-31T12:25:03.614Z"
   },
   {
    "duration": 939,
    "start_time": "2021-07-31T12:25:04.009Z"
   },
   {
    "duration": 13,
    "start_time": "2021-07-31T12:25:04.950Z"
   },
   {
    "duration": 42,
    "start_time": "2021-07-31T12:25:04.965Z"
   },
   {
    "duration": 18,
    "start_time": "2021-07-31T12:25:05.009Z"
   },
   {
    "duration": 51,
    "start_time": "2021-07-31T12:25:05.029Z"
   },
   {
    "duration": 37,
    "start_time": "2021-07-31T12:25:05.083Z"
   },
   {
    "duration": 7,
    "start_time": "2021-07-31T12:25:05.123Z"
   },
   {
    "duration": 343,
    "start_time": "2021-07-31T12:25:05.135Z"
   },
   {
    "duration": 303,
    "start_time": "2021-07-31T12:25:05.486Z"
   },
   {
    "duration": 321,
    "start_time": "2021-07-31T12:25:05.791Z"
   },
   {
    "duration": 36,
    "start_time": "2021-07-31T12:25:06.114Z"
   },
   {
    "duration": 42,
    "start_time": "2021-07-31T12:25:06.153Z"
   },
   {
    "duration": 27,
    "start_time": "2021-07-31T12:25:06.198Z"
   },
   {
    "duration": 79,
    "start_time": "2021-07-31T12:25:06.228Z"
   },
   {
    "duration": 405,
    "start_time": "2021-07-31T12:25:06.310Z"
   },
   {
    "duration": 37,
    "start_time": "2021-07-31T12:25:06.718Z"
   },
   {
    "duration": 44,
    "start_time": "2021-07-31T12:25:06.758Z"
   },
   {
    "duration": 397,
    "start_time": "2021-07-31T12:25:06.805Z"
   },
   {
    "duration": 366,
    "start_time": "2021-07-31T12:25:18.925Z"
   },
   {
    "duration": -37,
    "start_time": "2021-07-31T12:27:18.345Z"
   },
   {
    "duration": 106,
    "start_time": "2021-07-31T12:28:08.728Z"
   },
   {
    "duration": 131,
    "start_time": "2021-07-31T12:28:08.837Z"
   },
   {
    "duration": 54,
    "start_time": "2021-07-31T12:28:08.971Z"
   },
   {
    "duration": 66,
    "start_time": "2021-07-31T12:28:09.028Z"
   },
   {
    "duration": 9,
    "start_time": "2021-07-31T12:28:09.097Z"
   },
   {
    "duration": 34,
    "start_time": "2021-07-31T12:28:09.109Z"
   },
   {
    "duration": 53,
    "start_time": "2021-07-31T12:28:09.146Z"
   },
   {
    "duration": 24,
    "start_time": "2021-07-31T12:28:09.205Z"
   },
   {
    "duration": 79,
    "start_time": "2021-07-31T12:28:09.233Z"
   },
   {
    "duration": 81,
    "start_time": "2021-07-31T12:28:09.315Z"
   },
   {
    "duration": 1276,
    "start_time": "2021-07-31T12:28:09.399Z"
   },
   {
    "duration": 579,
    "start_time": "2021-07-31T12:28:10.686Z"
   },
   {
    "duration": 904,
    "start_time": "2021-07-31T12:28:11.268Z"
   },
   {
    "duration": 415,
    "start_time": "2021-07-31T12:28:12.175Z"
   },
   {
    "duration": 473,
    "start_time": "2021-07-31T12:28:12.593Z"
   },
   {
    "duration": 1243,
    "start_time": "2021-07-31T12:28:13.069Z"
   },
   {
    "duration": 15,
    "start_time": "2021-07-31T12:28:14.315Z"
   },
   {
    "duration": 55,
    "start_time": "2021-07-31T12:28:14.332Z"
   },
   {
    "duration": 9,
    "start_time": "2021-07-31T12:28:14.390Z"
   },
   {
    "duration": 11,
    "start_time": "2021-07-31T12:28:14.401Z"
   },
   {
    "duration": 71,
    "start_time": "2021-07-31T12:28:14.415Z"
   },
   {
    "duration": 7,
    "start_time": "2021-07-31T12:28:14.488Z"
   },
   {
    "duration": 325,
    "start_time": "2021-07-31T12:28:14.499Z"
   },
   {
    "duration": 309,
    "start_time": "2021-07-31T12:28:14.826Z"
   },
   {
    "duration": 310,
    "start_time": "2021-07-31T12:28:15.139Z"
   },
   {
    "duration": 56,
    "start_time": "2021-07-31T12:28:15.452Z"
   },
   {
    "duration": 14,
    "start_time": "2021-07-31T12:28:15.511Z"
   },
   {
    "duration": 15,
    "start_time": "2021-07-31T12:28:15.528Z"
   },
   {
    "duration": 90,
    "start_time": "2021-07-31T12:28:15.546Z"
   },
   {
    "duration": 407,
    "start_time": "2021-07-31T12:28:15.639Z"
   },
   {
    "duration": 58,
    "start_time": "2021-07-31T12:28:16.048Z"
   },
   {
    "duration": 17,
    "start_time": "2021-07-31T12:28:16.108Z"
   },
   {
    "duration": 131431,
    "start_time": "2021-07-31T12:28:16.127Z"
   },
   {
    "duration": 18,
    "start_time": "2021-07-31T12:40:17.229Z"
   },
   {
    "duration": 612,
    "start_time": "2021-07-31T12:42:57.378Z"
   },
   {
    "duration": 581,
    "start_time": "2021-07-31T12:43:30.342Z"
   },
   {
    "duration": 607,
    "start_time": "2021-07-31T12:43:53.365Z"
   },
   {
    "duration": 13,
    "start_time": "2021-07-31T12:44:57.351Z"
   },
   {
    "duration": 58,
    "start_time": "2021-07-31T12:46:12.964Z"
   },
   {
    "duration": 57,
    "start_time": "2021-07-31T12:46:37.021Z"
   },
   {
    "duration": 294,
    "start_time": "2021-07-31T12:48:11.031Z"
   },
   {
    "duration": 4,
    "start_time": "2021-07-31T13:10:57.162Z"
   },
   {
    "duration": 4,
    "start_time": "2021-07-31T13:11:46.244Z"
   },
   {
    "duration": 20,
    "start_time": "2021-07-31T14:20:40.149Z"
   },
   {
    "duration": 18,
    "start_time": "2021-07-31T14:21:13.002Z"
   },
   {
    "duration": 18,
    "start_time": "2021-07-31T14:21:22.536Z"
   },
   {
    "duration": 22,
    "start_time": "2021-07-31T14:21:33.588Z"
   },
   {
    "duration": 13,
    "start_time": "2021-07-31T14:56:33.463Z"
   },
   {
    "duration": 384,
    "start_time": "2021-07-31T15:08:04.704Z"
   },
   {
    "duration": 382,
    "start_time": "2021-07-31T15:08:27.945Z"
   },
   {
    "duration": 37,
    "start_time": "2021-07-31T15:12:03.763Z"
   },
   {
    "duration": 38,
    "start_time": "2021-07-31T15:12:46.505Z"
   },
   {
    "duration": 38,
    "start_time": "2021-07-31T15:12:58.787Z"
   },
   {
    "duration": 17,
    "start_time": "2021-07-31T15:13:04.734Z"
   },
   {
    "duration": 18,
    "start_time": "2021-07-31T15:13:09.620Z"
   },
   {
    "duration": 16,
    "start_time": "2021-07-31T15:17:10.414Z"
   },
   {
    "duration": 7,
    "start_time": "2021-07-31T15:26:56.565Z"
   },
   {
    "duration": 12,
    "start_time": "2021-07-31T15:27:41.161Z"
   },
   {
    "duration": 40,
    "start_time": "2021-07-31T15:46:14.483Z"
   },
   {
    "duration": 16,
    "start_time": "2021-07-31T15:46:25.288Z"
   },
   {
    "duration": 12,
    "start_time": "2021-07-31T15:46:39.642Z"
   },
   {
    "duration": 11,
    "start_time": "2021-07-31T15:47:17.152Z"
   },
   {
    "duration": 36,
    "start_time": "2021-07-31T15:48:26.509Z"
   },
   {
    "duration": 12,
    "start_time": "2021-07-31T15:49:01.795Z"
   },
   {
    "duration": 874,
    "start_time": "2021-07-31T15:54:00.995Z"
   },
   {
    "duration": 137,
    "start_time": "2021-07-31T15:54:01.875Z"
   },
   {
    "duration": 37,
    "start_time": "2021-07-31T15:54:02.015Z"
   },
   {
    "duration": 52,
    "start_time": "2021-07-31T15:54:02.054Z"
   },
   {
    "duration": 491,
    "start_time": "2021-07-31T15:54:02.109Z"
   },
   {
    "duration": -6006,
    "start_time": "2021-07-31T15:54:08.609Z"
   },
   {
    "duration": -6010,
    "start_time": "2021-07-31T15:54:08.614Z"
   },
   {
    "duration": -6012,
    "start_time": "2021-07-31T15:54:08.618Z"
   },
   {
    "duration": -6015,
    "start_time": "2021-07-31T15:54:08.622Z"
   },
   {
    "duration": -6019,
    "start_time": "2021-07-31T15:54:08.627Z"
   },
   {
    "duration": -6020,
    "start_time": "2021-07-31T15:54:08.630Z"
   },
   {
    "duration": -6024,
    "start_time": "2021-07-31T15:54:08.635Z"
   },
   {
    "duration": -6028,
    "start_time": "2021-07-31T15:54:08.640Z"
   },
   {
    "duration": 812,
    "start_time": "2021-07-31T15:54:02.891Z"
   },
   {
    "duration": -4953,
    "start_time": "2021-07-31T15:54:08.660Z"
   },
   {
    "duration": -4988,
    "start_time": "2021-07-31T15:54:08.697Z"
   },
   {
    "duration": -4994,
    "start_time": "2021-07-31T15:54:08.705Z"
   },
   {
    "duration": -4996,
    "start_time": "2021-07-31T15:54:08.710Z"
   },
   {
    "duration": -4999,
    "start_time": "2021-07-31T15:54:08.715Z"
   },
   {
    "duration": -5003,
    "start_time": "2021-07-31T15:54:08.721Z"
   },
   {
    "duration": 378,
    "start_time": "2021-07-31T15:54:03.814Z"
   },
   {
    "duration": -4541,
    "start_time": "2021-07-31T15:54:08.737Z"
   },
   {
    "duration": 376,
    "start_time": "2021-07-31T15:54:04.696Z"
   },
   {
    "duration": -3677,
    "start_time": "2021-07-31T15:54:08.752Z"
   },
   {
    "duration": 371,
    "start_time": "2021-07-31T15:54:05.290Z"
   },
   {
    "duration": -3156,
    "start_time": "2021-07-31T15:54:08.819Z"
   },
   {
    "duration": 393,
    "start_time": "2021-07-31T15:54:05.755Z"
   },
   {
    "duration": 378,
    "start_time": "2021-07-31T15:54:06.327Z"
   },
   {
    "duration": -2140,
    "start_time": "2021-07-31T15:54:08.847Z"
   },
   {
    "duration": 373,
    "start_time": "2021-07-31T15:54:06.875Z"
   },
   {
    "duration": -1609,
    "start_time": "2021-07-31T15:54:08.860Z"
   },
   {
    "duration": -1613,
    "start_time": "2021-07-31T15:54:08.865Z"
   },
   {
    "duration": 975,
    "start_time": "2021-07-31T15:55:06.490Z"
   },
   {
    "duration": 136,
    "start_time": "2021-07-31T15:55:07.469Z"
   },
   {
    "duration": 39,
    "start_time": "2021-07-31T15:55:07.612Z"
   },
   {
    "duration": 27,
    "start_time": "2021-07-31T15:55:07.686Z"
   },
   {
    "duration": 607,
    "start_time": "2021-07-31T15:55:07.716Z"
   },
   {
    "duration": -1092,
    "start_time": "2021-07-31T15:55:09.420Z"
   },
   {
    "duration": -1108,
    "start_time": "2021-07-31T15:55:09.437Z"
   },
   {
    "duration": -1121,
    "start_time": "2021-07-31T15:55:09.451Z"
   },
   {
    "duration": -1126,
    "start_time": "2021-07-31T15:55:09.458Z"
   },
   {
    "duration": -1144,
    "start_time": "2021-07-31T15:55:09.477Z"
   },
   {
    "duration": -1157,
    "start_time": "2021-07-31T15:55:09.492Z"
   },
   {
    "duration": -1163,
    "start_time": "2021-07-31T15:55:09.499Z"
   },
   {
    "duration": -1180,
    "start_time": "2021-07-31T15:55:09.517Z"
   },
   {
    "duration": -1197,
    "start_time": "2021-07-31T15:55:09.536Z"
   },
   {
    "duration": -1203,
    "start_time": "2021-07-31T15:55:09.543Z"
   },
   {
    "duration": -1215,
    "start_time": "2021-07-31T15:55:09.556Z"
   },
   {
    "duration": -1221,
    "start_time": "2021-07-31T15:55:09.564Z"
   },
   {
    "duration": -1239,
    "start_time": "2021-07-31T15:55:09.583Z"
   },
   {
    "duration": -1246,
    "start_time": "2021-07-31T15:55:09.592Z"
   },
   {
    "duration": -1263,
    "start_time": "2021-07-31T15:55:09.610Z"
   },
   {
    "duration": -1279,
    "start_time": "2021-07-31T15:55:09.628Z"
   },
   {
    "duration": -1296,
    "start_time": "2021-07-31T15:55:09.646Z"
   },
   {
    "duration": -1309,
    "start_time": "2021-07-31T15:55:09.660Z"
   },
   {
    "duration": -1317,
    "start_time": "2021-07-31T15:55:09.670Z"
   },
   {
    "duration": -1329,
    "start_time": "2021-07-31T15:55:09.683Z"
   },
   {
    "duration": -1336,
    "start_time": "2021-07-31T15:55:09.691Z"
   },
   {
    "duration": -1348,
    "start_time": "2021-07-31T15:55:09.704Z"
   },
   {
    "duration": -1364,
    "start_time": "2021-07-31T15:55:09.722Z"
   },
   {
    "duration": -1342,
    "start_time": "2021-07-31T15:55:09.730Z"
   },
   {
    "duration": -1360,
    "start_time": "2021-07-31T15:55:09.750Z"
   },
   {
    "duration": -1378,
    "start_time": "2021-07-31T15:55:09.770Z"
   },
   {
    "duration": -1394,
    "start_time": "2021-07-31T15:55:09.787Z"
   },
   {
    "duration": 8,
    "start_time": "2021-07-31T15:59:07.683Z"
   },
   {
    "duration": 20,
    "start_time": "2021-07-31T15:59:09.747Z"
   },
   {
    "duration": 20,
    "start_time": "2021-07-31T15:59:12.246Z"
   },
   {
    "duration": 24,
    "start_time": "2021-07-31T15:59:29.940Z"
   },
   {
    "duration": 100,
    "start_time": "2021-07-31T15:59:46.583Z"
   },
   {
    "duration": 112,
    "start_time": "2021-07-31T15:59:46.686Z"
   },
   {
    "duration": 35,
    "start_time": "2021-07-31T15:59:46.801Z"
   },
   {
    "duration": 7,
    "start_time": "2021-07-31T15:59:46.844Z"
   },
   {
    "duration": 20,
    "start_time": "2021-07-31T15:59:47.125Z"
   },
   {
    "duration": 127,
    "start_time": "2021-07-31T15:59:47.148Z"
   },
   {
    "duration": -1169,
    "start_time": "2021-07-31T15:59:48.448Z"
   },
   {
    "duration": -1173,
    "start_time": "2021-07-31T15:59:48.454Z"
   },
   {
    "duration": -1177,
    "start_time": "2021-07-31T15:59:48.459Z"
   },
   {
    "duration": -1181,
    "start_time": "2021-07-31T15:59:48.464Z"
   },
   {
    "duration": -1184,
    "start_time": "2021-07-31T15:59:48.469Z"
   },
   {
    "duration": -1188,
    "start_time": "2021-07-31T15:59:48.474Z"
   },
   {
    "duration": -1191,
    "start_time": "2021-07-31T15:59:48.479Z"
   },
   {
    "duration": -1196,
    "start_time": "2021-07-31T15:59:48.485Z"
   },
   {
    "duration": -1239,
    "start_time": "2021-07-31T15:59:48.529Z"
   },
   {
    "duration": -1246,
    "start_time": "2021-07-31T15:59:48.537Z"
   },
   {
    "duration": -1250,
    "start_time": "2021-07-31T15:59:48.543Z"
   },
   {
    "duration": -1254,
    "start_time": "2021-07-31T15:59:48.548Z"
   },
   {
    "duration": -1259,
    "start_time": "2021-07-31T15:59:48.554Z"
   },
   {
    "duration": -1262,
    "start_time": "2021-07-31T15:59:48.559Z"
   },
   {
    "duration": -1266,
    "start_time": "2021-07-31T15:59:48.565Z"
   },
   {
    "duration": -1271,
    "start_time": "2021-07-31T15:59:48.571Z"
   },
   {
    "duration": -1274,
    "start_time": "2021-07-31T15:59:48.576Z"
   },
   {
    "duration": -1280,
    "start_time": "2021-07-31T15:59:48.583Z"
   },
   {
    "duration": -1285,
    "start_time": "2021-07-31T15:59:48.589Z"
   },
   {
    "duration": -1287,
    "start_time": "2021-07-31T15:59:48.593Z"
   },
   {
    "duration": -1291,
    "start_time": "2021-07-31T15:59:48.599Z"
   },
   {
    "duration": -1294,
    "start_time": "2021-07-31T15:59:48.604Z"
   },
   {
    "duration": -1298,
    "start_time": "2021-07-31T15:59:48.609Z"
   },
   {
    "duration": -1300,
    "start_time": "2021-07-31T15:59:48.615Z"
   },
   {
    "duration": 398,
    "start_time": "2021-07-31T15:59:47.316Z"
   },
   {
    "duration": -1093,
    "start_time": "2021-07-31T15:59:48.809Z"
   },
   {
    "duration": -1100,
    "start_time": "2021-07-31T15:59:48.818Z"
   },
   {
    "duration": 93,
    "start_time": "2021-07-31T16:00:21.188Z"
   },
   {
    "duration": 118,
    "start_time": "2021-07-31T16:00:21.284Z"
   },
   {
    "duration": 35,
    "start_time": "2021-07-31T16:00:21.405Z"
   },
   {
    "duration": 46,
    "start_time": "2021-07-31T16:00:21.443Z"
   },
   {
    "duration": 23,
    "start_time": "2021-07-31T16:00:21.491Z"
   },
   {
    "duration": 19,
    "start_time": "2021-07-31T16:00:21.516Z"
   },
   {
    "duration": 67,
    "start_time": "2021-07-31T16:00:21.538Z"
   },
   {
    "duration": 20,
    "start_time": "2021-07-31T16:00:21.609Z"
   },
   {
    "duration": 76,
    "start_time": "2021-07-31T16:00:21.632Z"
   },
   {
    "duration": 860,
    "start_time": "2021-07-31T16:00:21.711Z"
   },
   {
    "duration": 566,
    "start_time": "2021-07-31T16:00:22.574Z"
   },
   {
    "duration": 635,
    "start_time": "2021-07-31T16:00:23.143Z"
   },
   {
    "duration": 8,
    "start_time": "2021-07-31T16:00:23.781Z"
   },
   {
    "duration": 321,
    "start_time": "2021-07-31T16:00:23.792Z"
   },
   {
    "duration": 334,
    "start_time": "2021-07-31T16:00:24.116Z"
   },
   {
    "duration": 940,
    "start_time": "2021-07-31T16:00:24.452Z"
   },
   {
    "duration": 15,
    "start_time": "2021-07-31T16:00:25.394Z"
   },
   {
    "duration": 27,
    "start_time": "2021-07-31T16:00:25.412Z"
   },
   {
    "duration": 9,
    "start_time": "2021-07-31T16:00:25.486Z"
   },
   {
    "duration": 18,
    "start_time": "2021-07-31T16:00:25.498Z"
   },
   {
    "duration": 34,
    "start_time": "2021-07-31T16:00:25.519Z"
   },
   {
    "duration": 8,
    "start_time": "2021-07-31T16:00:25.588Z"
   },
   {
    "duration": 331,
    "start_time": "2021-07-31T16:00:25.600Z"
   },
   {
    "duration": 322,
    "start_time": "2021-07-31T16:00:25.934Z"
   },
   {
    "duration": 536,
    "start_time": "2021-07-31T16:00:26.259Z"
   },
   {
    "duration": 38,
    "start_time": "2021-07-31T16:00:26.799Z"
   },
   {
    "duration": 46,
    "start_time": "2021-07-31T16:00:26.839Z"
   },
   {
    "duration": 62,
    "start_time": "2021-07-31T16:00:26.888Z"
   },
   {
    "duration": 413,
    "start_time": "2021-07-31T16:00:26.953Z"
   },
   {
    "duration": 23,
    "start_time": "2021-07-31T16:00:27.368Z"
   },
   {
    "duration": 15,
    "start_time": "2021-07-31T16:00:27.394Z"
   },
   {
    "duration": 19,
    "start_time": "2021-07-31T16:00:27.411Z"
   },
   {
    "duration": 905,
    "start_time": "2021-07-31T16:00:49.763Z"
   },
   {
    "duration": 124,
    "start_time": "2021-07-31T16:00:50.671Z"
   },
   {
    "duration": 36,
    "start_time": "2021-07-31T16:00:50.801Z"
   },
   {
    "duration": 10,
    "start_time": "2021-07-31T16:00:50.840Z"
   },
   {
    "duration": 49,
    "start_time": "2021-07-31T16:00:50.853Z"
   },
   {
    "duration": 20,
    "start_time": "2021-07-31T16:00:50.904Z"
   },
   {
    "duration": 63,
    "start_time": "2021-07-31T16:00:50.928Z"
   },
   {
    "duration": 22,
    "start_time": "2021-07-31T16:00:50.994Z"
   },
   {
    "duration": 69,
    "start_time": "2021-07-31T16:00:51.018Z"
   },
   {
    "duration": 842,
    "start_time": "2021-07-31T16:00:51.090Z"
   },
   {
    "duration": 561,
    "start_time": "2021-07-31T16:00:51.935Z"
   },
   {
    "duration": 619,
    "start_time": "2021-07-31T16:00:52.498Z"
   },
   {
    "duration": 7,
    "start_time": "2021-07-31T16:00:53.119Z"
   },
   {
    "duration": 317,
    "start_time": "2021-07-31T16:00:53.128Z"
   },
   {
    "duration": 337,
    "start_time": "2021-07-31T16:00:53.448Z"
   },
   {
    "duration": 883,
    "start_time": "2021-07-31T16:00:53.788Z"
   },
   {
    "duration": 17,
    "start_time": "2021-07-31T16:00:54.673Z"
   },
   {
    "duration": 24,
    "start_time": "2021-07-31T16:00:54.692Z"
   },
   {
    "duration": 6,
    "start_time": "2021-07-31T16:00:54.718Z"
   },
   {
    "duration": 6,
    "start_time": "2021-07-31T16:00:54.727Z"
   },
   {
    "duration": 32,
    "start_time": "2021-07-31T16:00:54.735Z"
   },
   {
    "duration": 17,
    "start_time": "2021-07-31T16:00:54.772Z"
   },
   {
    "duration": 359,
    "start_time": "2021-07-31T16:00:54.792Z"
   },
   {
    "duration": 306,
    "start_time": "2021-07-31T16:00:55.153Z"
   },
   {
    "duration": 477,
    "start_time": "2021-07-31T16:00:55.461Z"
   },
   {
    "duration": 36,
    "start_time": "2021-07-31T16:00:55.940Z"
   },
   {
    "duration": 17,
    "start_time": "2021-07-31T16:00:55.979Z"
   },
   {
    "duration": 97,
    "start_time": "2021-07-31T16:00:55.999Z"
   },
   {
    "duration": 520,
    "start_time": "2021-07-31T16:00:56.099Z"
   },
   {
    "duration": 14,
    "start_time": "2021-07-31T16:00:56.621Z"
   },
   {
    "duration": 47,
    "start_time": "2021-07-31T16:00:56.637Z"
   },
   {
    "duration": 17,
    "start_time": "2021-07-31T16:00:56.687Z"
   },
   {
    "duration": 886,
    "start_time": "2021-07-31T18:48:01.522Z"
   },
   {
    "duration": 117,
    "start_time": "2021-07-31T18:48:02.411Z"
   },
   {
    "duration": 46,
    "start_time": "2021-07-31T18:48:02.531Z"
   },
   {
    "duration": 7,
    "start_time": "2021-07-31T18:48:02.579Z"
   },
   {
    "duration": 30,
    "start_time": "2021-07-31T18:48:02.589Z"
   },
   {
    "duration": 41,
    "start_time": "2021-07-31T18:48:02.622Z"
   },
   {
    "duration": 24,
    "start_time": "2021-07-31T18:48:02.666Z"
   },
   {
    "duration": 21,
    "start_time": "2021-07-31T18:48:02.693Z"
   },
   {
    "duration": 68,
    "start_time": "2021-07-31T18:48:02.718Z"
   },
   {
    "duration": 841,
    "start_time": "2021-07-31T18:48:02.789Z"
   },
   {
    "duration": 544,
    "start_time": "2021-07-31T18:48:03.632Z"
   },
   {
    "duration": 603,
    "start_time": "2021-07-31T18:48:04.178Z"
   },
   {
    "duration": 7,
    "start_time": "2021-07-31T18:48:04.783Z"
   },
   {
    "duration": 303,
    "start_time": "2021-07-31T18:48:04.792Z"
   },
   {
    "duration": 325,
    "start_time": "2021-07-31T18:48:05.098Z"
   },
   {
    "duration": 833,
    "start_time": "2021-07-31T18:48:05.425Z"
   },
   {
    "duration": 12,
    "start_time": "2021-07-31T18:48:06.260Z"
   },
   {
    "duration": 24,
    "start_time": "2021-07-31T18:48:06.274Z"
   },
   {
    "duration": 6,
    "start_time": "2021-07-31T18:48:06.300Z"
   },
   {
    "duration": 47,
    "start_time": "2021-07-31T18:48:06.309Z"
   },
   {
    "duration": 33,
    "start_time": "2021-07-31T18:48:06.358Z"
   },
   {
    "duration": 6,
    "start_time": "2021-07-31T18:48:06.393Z"
   },
   {
    "duration": 324,
    "start_time": "2021-07-31T18:48:06.402Z"
   },
   {
    "duration": 299,
    "start_time": "2021-07-31T18:48:06.728Z"
   },
   {
    "duration": 387,
    "start_time": "2021-07-31T18:48:07.029Z"
   },
   {
    "duration": 49,
    "start_time": "2021-07-31T18:48:07.418Z"
   },
   {
    "duration": 13,
    "start_time": "2021-07-31T18:48:07.472Z"
   },
   {
    "duration": 84,
    "start_time": "2021-07-31T18:48:07.488Z"
   },
   {
    "duration": 603,
    "start_time": "2021-07-31T18:48:07.575Z"
   },
   {
    "duration": 16,
    "start_time": "2021-07-31T18:48:08.181Z"
   },
   {
    "duration": 28,
    "start_time": "2021-07-31T18:48:08.200Z"
   },
   {
    "duration": 45,
    "start_time": "2021-07-31T18:48:08.231Z"
   },
   {
    "duration": 37,
    "start_time": "2021-07-31T18:52:21.557Z"
   },
   {
    "duration": 480,
    "start_time": "2021-08-01T17:58:14.367Z"
   },
   {
    "duration": 1770,
    "start_time": "2021-08-01T17:58:19.844Z"
   },
   {
    "duration": 118,
    "start_time": "2021-08-01T17:58:21.617Z"
   },
   {
    "duration": 34,
    "start_time": "2021-08-01T17:58:21.739Z"
   },
   {
    "duration": 8,
    "start_time": "2021-08-01T17:58:21.786Z"
   },
   {
    "duration": 21,
    "start_time": "2021-08-01T17:58:21.796Z"
   },
   {
    "duration": 17,
    "start_time": "2021-08-01T17:58:21.819Z"
   },
   {
    "duration": 54,
    "start_time": "2021-08-01T17:58:21.839Z"
   },
   {
    "duration": 21,
    "start_time": "2021-08-01T17:58:21.897Z"
   },
   {
    "duration": 63,
    "start_time": "2021-08-01T17:58:21.922Z"
   },
   {
    "duration": 827,
    "start_time": "2021-08-01T17:58:21.988Z"
   },
   {
    "duration": 28,
    "start_time": "2021-08-01T17:58:22.818Z"
   },
   {
    "duration": 572,
    "start_time": "2021-08-01T17:58:22.849Z"
   },
   {
    "duration": 611,
    "start_time": "2021-08-01T17:58:23.424Z"
   },
   {
    "duration": 6,
    "start_time": "2021-08-01T17:58:24.037Z"
   },
   {
    "duration": 310,
    "start_time": "2021-08-01T17:58:24.046Z"
   },
   {
    "duration": 330,
    "start_time": "2021-08-01T17:58:24.359Z"
   },
   {
    "duration": 897,
    "start_time": "2021-08-01T17:58:24.692Z"
   },
   {
    "duration": 13,
    "start_time": "2021-08-01T17:58:25.592Z"
   },
   {
    "duration": 20,
    "start_time": "2021-08-01T17:58:25.608Z"
   },
   {
    "duration": 69,
    "start_time": "2021-08-01T17:58:25.630Z"
   },
   {
    "duration": 6,
    "start_time": "2021-08-01T17:58:25.702Z"
   },
   {
    "duration": 12,
    "start_time": "2021-08-01T17:58:25.710Z"
   },
   {
    "duration": 32,
    "start_time": "2021-08-01T17:58:25.727Z"
   },
   {
    "duration": 7,
    "start_time": "2021-08-01T17:58:25.785Z"
   },
   {
    "duration": 306,
    "start_time": "2021-08-01T17:58:25.794Z"
   },
   {
    "duration": 288,
    "start_time": "2021-08-01T17:58:26.103Z"
   },
   {
    "duration": 397,
    "start_time": "2021-08-01T17:58:26.394Z"
   },
   {
    "duration": 36,
    "start_time": "2021-08-01T17:58:26.794Z"
   },
   {
    "duration": 14,
    "start_time": "2021-08-01T17:58:26.832Z"
   },
   {
    "duration": 96,
    "start_time": "2021-08-01T17:58:26.849Z"
   },
   {
    "duration": 384,
    "start_time": "2021-08-01T17:58:26.948Z"
   },
   {
    "duration": 13,
    "start_time": "2021-08-01T17:58:27.334Z"
   },
   {
    "duration": 37,
    "start_time": "2021-08-01T17:58:27.350Z"
   },
   {
    "duration": 16,
    "start_time": "2021-08-01T17:58:27.390Z"
   },
   {
    "duration": 42,
    "start_time": "2021-08-01T17:59:10.967Z"
   },
   {
    "duration": 24,
    "start_time": "2021-08-01T18:09:39.526Z"
   },
   {
    "duration": 20,
    "start_time": "2021-08-01T18:09:48.898Z"
   },
   {
    "duration": 612,
    "start_time": "2021-08-03T16:23:08.075Z"
   },
   {
    "duration": 75,
    "start_time": "2021-08-03T16:23:08.689Z"
   },
   {
    "duration": 22,
    "start_time": "2021-08-03T16:23:08.766Z"
   },
   {
    "duration": 6,
    "start_time": "2021-08-03T16:23:08.790Z"
   },
   {
    "duration": 14,
    "start_time": "2021-08-03T16:23:08.798Z"
   },
   {
    "duration": 38,
    "start_time": "2021-08-03T16:23:08.814Z"
   },
   {
    "duration": 15,
    "start_time": "2021-08-03T16:23:08.853Z"
   },
   {
    "duration": 15,
    "start_time": "2021-08-03T16:23:08.870Z"
   },
   {
    "duration": 22,
    "start_time": "2021-08-03T16:23:08.887Z"
   },
   {
    "duration": 485,
    "start_time": "2021-08-03T16:23:08.941Z"
   },
   {
    "duration": 325,
    "start_time": "2021-08-03T16:23:09.428Z"
   },
   {
    "duration": 325,
    "start_time": "2021-08-03T16:23:09.754Z"
   },
   {
    "duration": 4,
    "start_time": "2021-08-03T16:23:10.081Z"
   },
   {
    "duration": 174,
    "start_time": "2021-08-03T16:23:10.086Z"
   },
   {
    "duration": 184,
    "start_time": "2021-08-03T16:23:10.261Z"
   },
   {
    "duration": 455,
    "start_time": "2021-08-03T16:23:10.447Z"
   },
   {
    "duration": 7,
    "start_time": "2021-08-03T16:23:10.904Z"
   },
   {
    "duration": 29,
    "start_time": "2021-08-03T16:23:10.912Z"
   },
   {
    "duration": 22,
    "start_time": "2021-08-03T16:23:10.943Z"
   },
   {
    "duration": 4,
    "start_time": "2021-08-03T16:23:10.966Z"
   },
   {
    "duration": 6,
    "start_time": "2021-08-03T16:23:10.972Z"
   },
   {
    "duration": 21,
    "start_time": "2021-08-03T16:23:10.979Z"
   },
   {
    "duration": 4,
    "start_time": "2021-08-03T16:23:11.002Z"
   },
   {
    "duration": 193,
    "start_time": "2021-08-03T16:23:11.008Z"
   },
   {
    "duration": 165,
    "start_time": "2021-08-03T16:23:11.202Z"
   },
   {
    "duration": 264,
    "start_time": "2021-08-03T16:23:11.369Z"
   },
   {
    "duration": 25,
    "start_time": "2021-08-03T16:23:11.640Z"
   },
   {
    "duration": 8,
    "start_time": "2021-08-03T16:23:11.667Z"
   },
   {
    "duration": 21,
    "start_time": "2021-08-03T16:23:11.677Z"
   },
   {
    "duration": 242,
    "start_time": "2021-08-03T16:23:11.699Z"
   },
   {
    "duration": 8,
    "start_time": "2021-08-03T16:23:11.942Z"
   },
   {
    "duration": 10,
    "start_time": "2021-08-03T16:23:11.952Z"
   },
   {
    "duration": 10,
    "start_time": "2021-08-03T16:23:11.963Z"
   },
   {
    "duration": 254,
    "start_time": "2021-08-03T16:28:23.201Z"
   },
   {
    "duration": 550,
    "start_time": "2021-08-03T16:30:00.631Z"
   },
   {
    "duration": 234,
    "start_time": "2021-08-03T16:33:31.175Z"
   },
   {
    "duration": 359,
    "start_time": "2021-08-03T16:35:08.663Z"
   },
   {
    "duration": 184,
    "start_time": "2021-08-03T16:36:27.728Z"
   },
   {
    "duration": 462,
    "start_time": "2021-08-03T16:38:14.081Z"
   },
   {
    "duration": 14,
    "start_time": "2021-08-03T16:41:30.006Z"
   },
   {
    "duration": 21,
    "start_time": "2021-08-03T16:41:46.420Z"
   },
   {
    "duration": 12,
    "start_time": "2021-08-03T16:42:39.873Z"
   },
   {
    "duration": 21,
    "start_time": "2021-08-03T16:42:45.096Z"
   },
   {
    "duration": 14,
    "start_time": "2021-08-03T16:43:15.382Z"
   },
   {
    "duration": 21,
    "start_time": "2021-08-03T16:43:19.155Z"
   },
   {
    "duration": 13,
    "start_time": "2021-08-03T16:44:05.100Z"
   },
   {
    "duration": 20,
    "start_time": "2021-08-03T16:44:07.746Z"
   },
   {
    "duration": 90,
    "start_time": "2021-08-03T16:47:09.687Z"
   },
   {
    "duration": 75,
    "start_time": "2021-08-03T16:47:19.541Z"
   },
   {
    "duration": 74,
    "start_time": "2021-08-03T16:47:19.618Z"
   },
   {
    "duration": 21,
    "start_time": "2021-08-03T16:47:19.694Z"
   },
   {
    "duration": 5,
    "start_time": "2021-08-03T16:47:19.741Z"
   },
   {
    "duration": 22,
    "start_time": "2021-08-03T16:47:19.748Z"
   },
   {
    "duration": 12,
    "start_time": "2021-08-03T16:47:19.771Z"
   },
   {
    "duration": 13,
    "start_time": "2021-08-03T16:47:19.785Z"
   },
   {
    "duration": 12,
    "start_time": "2021-08-03T16:47:19.801Z"
   },
   {
    "duration": 21,
    "start_time": "2021-08-03T16:47:19.840Z"
   },
   {
    "duration": 505,
    "start_time": "2021-08-03T16:47:19.862Z"
   },
   {
    "duration": 242,
    "start_time": "2021-08-03T16:47:20.369Z"
   },
   {
    "duration": 611,
    "start_time": "2021-08-03T16:47:20.613Z"
   },
   {
    "duration": 5,
    "start_time": "2021-08-03T16:47:21.226Z"
   },
   {
    "duration": 189,
    "start_time": "2021-08-03T16:47:21.240Z"
   },
   {
    "duration": 194,
    "start_time": "2021-08-03T16:47:21.430Z"
   },
   {
    "duration": 475,
    "start_time": "2021-08-03T16:47:21.626Z"
   },
   {
    "duration": 10,
    "start_time": "2021-08-03T16:47:22.103Z"
   },
   {
    "duration": 85,
    "start_time": "2021-08-03T16:47:22.114Z"
   },
   {
    "duration": -252,
    "start_time": "2021-08-03T16:47:22.453Z"
   },
   {
    "duration": -262,
    "start_time": "2021-08-03T16:47:22.464Z"
   },
   {
    "duration": -273,
    "start_time": "2021-08-03T16:47:22.476Z"
   },
   {
    "duration": -285,
    "start_time": "2021-08-03T16:47:22.489Z"
   },
   {
    "duration": -297,
    "start_time": "2021-08-03T16:47:22.501Z"
   },
   {
    "duration": -376,
    "start_time": "2021-08-03T16:47:22.581Z"
   },
   {
    "duration": -419,
    "start_time": "2021-08-03T16:47:22.625Z"
   },
   {
    "duration": -465,
    "start_time": "2021-08-03T16:47:22.672Z"
   },
   {
    "duration": -483,
    "start_time": "2021-08-03T16:47:22.691Z"
   },
   {
    "duration": -490,
    "start_time": "2021-08-03T16:47:22.699Z"
   },
   {
    "duration": -511,
    "start_time": "2021-08-03T16:47:22.721Z"
   },
   {
    "duration": -524,
    "start_time": "2021-08-03T16:47:22.735Z"
   },
   {
    "duration": -543,
    "start_time": "2021-08-03T16:47:22.755Z"
   },
   {
    "duration": -550,
    "start_time": "2021-08-03T16:47:22.763Z"
   },
   {
    "duration": -563,
    "start_time": "2021-08-03T16:47:22.777Z"
   },
   {
    "duration": 90,
    "start_time": "2021-08-03T16:48:32.012Z"
   },
   {
    "duration": 86,
    "start_time": "2021-08-03T16:48:51.438Z"
   },
   {
    "duration": 94,
    "start_time": "2021-08-03T16:49:03.498Z"
   },
   {
    "duration": 18,
    "start_time": "2021-08-03T16:49:59.977Z"
   },
   {
    "duration": 22,
    "start_time": "2021-08-03T16:50:23.841Z"
   },
   {
    "duration": 197,
    "start_time": "2021-08-03T17:02:17.355Z"
   },
   {
    "duration": 196,
    "start_time": "2021-08-03T17:02:26.131Z"
   },
   {
    "duration": 183,
    "start_time": "2021-08-03T17:02:51.566Z"
   },
   {
    "duration": 74,
    "start_time": "2021-08-03T17:04:41.057Z"
   },
   {
    "duration": 66,
    "start_time": "2021-08-03T17:04:41.133Z"
   },
   {
    "duration": 40,
    "start_time": "2021-08-03T17:04:41.202Z"
   },
   {
    "duration": 6,
    "start_time": "2021-08-03T17:04:41.244Z"
   },
   {
    "duration": 17,
    "start_time": "2021-08-03T17:04:41.252Z"
   },
   {
    "duration": 17,
    "start_time": "2021-08-03T17:04:41.271Z"
   },
   {
    "duration": 15,
    "start_time": "2021-08-03T17:04:41.290Z"
   },
   {
    "duration": 43,
    "start_time": "2021-08-03T17:04:41.308Z"
   },
   {
    "duration": 21,
    "start_time": "2021-08-03T17:04:41.353Z"
   },
   {
    "duration": 492,
    "start_time": "2021-08-03T17:04:41.376Z"
   },
   {
    "duration": 250,
    "start_time": "2021-08-03T17:04:41.870Z"
   },
   {
    "duration": 332,
    "start_time": "2021-08-03T17:04:42.122Z"
   },
   {
    "duration": 5,
    "start_time": "2021-08-03T17:04:42.455Z"
   },
   {
    "duration": 196,
    "start_time": "2021-08-03T17:04:42.462Z"
   },
   {
    "duration": 197,
    "start_time": "2021-08-03T17:04:42.659Z"
   },
   {
    "duration": 736,
    "start_time": "2021-08-03T17:04:42.857Z"
   },
   {
    "duration": 8,
    "start_time": "2021-08-03T17:04:43.595Z"
   },
   {
    "duration": 22,
    "start_time": "2021-08-03T17:04:43.605Z"
   },
   {
    "duration": 20,
    "start_time": "2021-08-03T17:04:43.640Z"
   },
   {
    "duration": 4,
    "start_time": "2021-08-03T17:04:43.661Z"
   },
   {
    "duration": 6,
    "start_time": "2021-08-03T17:04:43.667Z"
   },
   {
    "duration": 21,
    "start_time": "2021-08-03T17:04:43.674Z"
   },
   {
    "duration": 4,
    "start_time": "2021-08-03T17:04:43.698Z"
   },
   {
    "duration": 207,
    "start_time": "2021-08-03T17:04:43.704Z"
   },
   {
    "duration": 206,
    "start_time": "2021-08-03T17:04:43.913Z"
   },
   {
    "duration": 189,
    "start_time": "2021-08-03T17:04:44.121Z"
   },
   {
    "duration": 31,
    "start_time": "2021-08-03T17:04:44.311Z"
   },
   {
    "duration": 8,
    "start_time": "2021-08-03T17:04:44.344Z"
   },
   {
    "duration": 15,
    "start_time": "2021-08-03T17:04:44.353Z"
   },
   {
    "duration": 236,
    "start_time": "2021-08-03T17:04:44.369Z"
   },
   {
    "duration": 10,
    "start_time": "2021-08-03T17:04:44.607Z"
   },
   {
    "duration": 33,
    "start_time": "2021-08-03T17:04:44.618Z"
   },
   {
    "duration": 13,
    "start_time": "2021-08-03T17:04:44.652Z"
   },
   {
    "duration": 247,
    "start_time": "2021-08-03T17:12:56.908Z"
   },
   {
    "duration": 266,
    "start_time": "2021-08-03T17:13:34.331Z"
   },
   {
    "duration": 312,
    "start_time": "2021-08-03T17:14:04.129Z"
   },
   {
    "duration": 349,
    "start_time": "2021-08-03T17:14:13.917Z"
   },
   {
    "duration": 127190,
    "start_time": "2021-08-03T17:15:46.580Z"
   },
   {
    "duration": 197,
    "start_time": "2021-08-03T17:19:48.766Z"
   },
   {
    "duration": 194,
    "start_time": "2021-08-03T17:20:50.949Z"
   },
   {
    "duration": 214,
    "start_time": "2021-08-03T17:23:00.496Z"
   },
   {
    "duration": 186,
    "start_time": "2021-08-03T17:31:10.614Z"
   },
   {
    "duration": 488,
    "start_time": "2021-08-03T17:32:52.254Z"
   },
   {
    "duration": 412,
    "start_time": "2021-08-03T17:33:17.443Z"
   },
   {
    "duration": 473,
    "start_time": "2021-08-03T17:33:41.722Z"
   },
   {
    "duration": 20,
    "start_time": "2021-08-03T17:34:04.299Z"
   },
   {
    "duration": 183,
    "start_time": "2021-08-03T17:35:17.062Z"
   },
   {
    "duration": 226,
    "start_time": "2021-08-03T17:36:18.310Z"
   },
   {
    "duration": 230,
    "start_time": "2021-08-03T17:36:31.031Z"
   },
   {
    "duration": 208,
    "start_time": "2021-08-03T17:36:43.414Z"
   },
   {
    "duration": 244,
    "start_time": "2021-08-03T17:37:02.696Z"
   },
   {
    "duration": 220,
    "start_time": "2021-08-03T17:37:40.160Z"
   },
   {
    "duration": 199,
    "start_time": "2021-08-03T17:41:55.268Z"
   },
   {
    "duration": 214,
    "start_time": "2021-08-03T17:42:10.564Z"
   },
   {
    "duration": 214,
    "start_time": "2021-08-03T17:42:15.892Z"
   },
   {
    "duration": 209,
    "start_time": "2021-08-03T17:42:24.234Z"
   },
   {
    "duration": 210,
    "start_time": "2021-08-03T17:42:36.110Z"
   },
   {
    "duration": 453,
    "start_time": "2021-08-03T17:42:40.367Z"
   },
   {
    "duration": 492,
    "start_time": "2021-08-03T17:42:46.225Z"
   },
   {
    "duration": 197,
    "start_time": "2021-08-03T17:42:52.875Z"
   },
   {
    "duration": 205,
    "start_time": "2021-08-03T17:50:35.427Z"
   },
   {
    "duration": 219,
    "start_time": "2021-08-03T17:57:40.262Z"
   },
   {
    "duration": 213,
    "start_time": "2021-08-03T17:57:59.281Z"
   },
   {
    "duration": 198,
    "start_time": "2021-08-03T17:58:12.826Z"
   },
   {
    "duration": 192,
    "start_time": "2021-08-03T17:58:39.692Z"
   },
   {
    "duration": 197,
    "start_time": "2021-08-03T17:58:57.897Z"
   },
   {
    "duration": 222,
    "start_time": "2021-08-03T17:59:46.503Z"
   },
   {
    "duration": 181,
    "start_time": "2021-08-03T18:02:46.108Z"
   },
   {
    "duration": 216,
    "start_time": "2021-08-03T18:03:39.568Z"
   },
   {
    "duration": 188,
    "start_time": "2021-08-03T18:03:55.634Z"
   },
   {
    "duration": 195,
    "start_time": "2021-08-03T18:05:32.361Z"
   },
   {
    "duration": 538,
    "start_time": "2021-08-03T18:06:07.605Z"
   },
   {
    "duration": 205,
    "start_time": "2021-08-03T18:06:18.344Z"
   },
   {
    "duration": 205,
    "start_time": "2021-08-03T18:06:54.241Z"
   },
   {
    "duration": 170,
    "start_time": "2021-08-03T18:08:30.558Z"
   },
   {
    "duration": 194,
    "start_time": "2021-08-03T18:08:45.253Z"
   },
   {
    "duration": 184,
    "start_time": "2021-08-03T18:09:21.143Z"
   },
   {
    "duration": 182,
    "start_time": "2021-08-03T18:13:53.927Z"
   },
   {
    "duration": 234,
    "start_time": "2021-08-03T18:14:29.617Z"
   },
   {
    "duration": 182,
    "start_time": "2021-08-03T18:14:42.880Z"
   },
   {
    "duration": 437,
    "start_time": "2021-08-03T18:17:19.941Z"
   },
   {
    "duration": 421,
    "start_time": "2021-08-03T18:17:39.978Z"
   },
   {
    "duration": 192,
    "start_time": "2021-08-03T18:17:48.414Z"
   },
   {
    "duration": 186,
    "start_time": "2021-08-03T18:18:07.689Z"
   },
   {
    "duration": 215,
    "start_time": "2021-08-03T18:26:53.184Z"
   },
   {
    "duration": 7,
    "start_time": "2021-08-03T18:27:59.809Z"
   },
   {
    "duration": 73,
    "start_time": "2021-08-03T18:28:10.868Z"
   },
   {
    "duration": 64,
    "start_time": "2021-08-03T18:28:10.943Z"
   },
   {
    "duration": 44,
    "start_time": "2021-08-03T18:28:11.008Z"
   },
   {
    "duration": 16,
    "start_time": "2021-08-03T18:28:11.053Z"
   },
   {
    "duration": 16,
    "start_time": "2021-08-03T18:28:11.070Z"
   },
   {
    "duration": 27,
    "start_time": "2021-08-03T18:28:11.088Z"
   },
   {
    "duration": 25,
    "start_time": "2021-08-03T18:28:11.117Z"
   },
   {
    "duration": 15,
    "start_time": "2021-08-03T18:28:11.144Z"
   },
   {
    "duration": 20,
    "start_time": "2021-08-03T18:28:11.161Z"
   },
   {
    "duration": 492,
    "start_time": "2021-08-03T18:28:11.182Z"
   },
   {
    "duration": 248,
    "start_time": "2021-08-03T18:28:11.675Z"
   },
   {
    "duration": 357,
    "start_time": "2021-08-03T18:28:11.925Z"
   },
   {
    "duration": 5,
    "start_time": "2021-08-03T18:28:12.283Z"
   },
   {
    "duration": 192,
    "start_time": "2021-08-03T18:28:12.289Z"
   },
   {
    "duration": 194,
    "start_time": "2021-08-03T18:28:12.482Z"
   },
   {
    "duration": 473,
    "start_time": "2021-08-03T18:28:12.677Z"
   },
   {
    "duration": 10,
    "start_time": "2021-08-03T18:28:13.151Z"
   },
   {
    "duration": 18,
    "start_time": "2021-08-03T18:28:13.163Z"
   },
   {
    "duration": 21,
    "start_time": "2021-08-03T18:28:13.183Z"
   },
   {
    "duration": 36,
    "start_time": "2021-08-03T18:28:13.206Z"
   },
   {
    "duration": 5,
    "start_time": "2021-08-03T18:28:13.244Z"
   },
   {
    "duration": 211,
    "start_time": "2021-08-03T18:28:13.251Z"
   },
   {
    "duration": 20,
    "start_time": "2021-08-03T18:28:13.465Z"
   },
   {
    "duration": 5,
    "start_time": "2021-08-03T18:28:13.487Z"
   },
   {
    "duration": 214,
    "start_time": "2021-08-03T18:28:13.494Z"
   },
   {
    "duration": 185,
    "start_time": "2021-08-03T18:28:13.710Z"
   },
   {
    "duration": 179,
    "start_time": "2021-08-03T18:28:13.898Z"
   },
   {
    "duration": 180,
    "start_time": "2021-08-03T18:28:14.079Z"
   },
   {
    "duration": 21,
    "start_time": "2021-08-03T18:28:14.261Z"
   },
   {
    "duration": 8,
    "start_time": "2021-08-03T18:28:14.284Z"
   },
   {
    "duration": 12,
    "start_time": "2021-08-03T18:28:14.294Z"
   },
   {
    "duration": 239,
    "start_time": "2021-08-03T18:28:14.308Z"
   },
   {
    "duration": 8,
    "start_time": "2021-08-03T18:28:14.549Z"
   },
   {
    "duration": 11,
    "start_time": "2021-08-03T18:28:14.559Z"
   },
   {
    "duration": 12,
    "start_time": "2021-08-03T18:28:14.571Z"
   },
   {
    "duration": 193,
    "start_time": "2021-08-03T18:33:02.272Z"
   },
   {
    "duration": 215,
    "start_time": "2021-08-03T18:36:51.148Z"
   },
   {
    "duration": 382,
    "start_time": "2021-08-03T18:37:24.707Z"
   },
   {
    "duration": 490,
    "start_time": "2021-08-03T18:45:54.661Z"
   },
   {
    "duration": 478,
    "start_time": "2021-08-03T18:47:27.204Z"
   },
   {
    "duration": 303,
    "start_time": "2021-08-03T18:52:59.125Z"
   },
   {
    "duration": 253,
    "start_time": "2021-08-03T18:53:13.237Z"
   },
   {
    "duration": 75,
    "start_time": "2021-08-03T18:53:17.775Z"
   },
   {
    "duration": 64,
    "start_time": "2021-08-03T18:53:17.852Z"
   },
   {
    "duration": 32,
    "start_time": "2021-08-03T18:53:17.918Z"
   },
   {
    "duration": 7,
    "start_time": "2021-08-03T18:53:17.952Z"
   },
   {
    "duration": 13,
    "start_time": "2021-08-03T18:53:17.961Z"
   },
   {
    "duration": 11,
    "start_time": "2021-08-03T18:53:17.975Z"
   },
   {
    "duration": 13,
    "start_time": "2021-08-03T18:53:17.988Z"
   },
   {
    "duration": 11,
    "start_time": "2021-08-03T18:53:18.003Z"
   },
   {
    "duration": 21,
    "start_time": "2021-08-03T18:53:18.041Z"
   },
   {
    "duration": 486,
    "start_time": "2021-08-03T18:53:18.064Z"
   },
   {
    "duration": 256,
    "start_time": "2021-08-03T18:53:18.551Z"
   },
   {
    "duration": 1306,
    "start_time": "2021-08-03T18:53:18.809Z"
   },
   {
    "duration": 5,
    "start_time": "2021-08-03T18:53:20.116Z"
   },
   {
    "duration": 216,
    "start_time": "2021-08-03T18:53:20.122Z"
   },
   {
    "duration": 206,
    "start_time": "2021-08-03T18:53:20.341Z"
   },
   {
    "duration": 506,
    "start_time": "2021-08-03T18:53:20.549Z"
   },
   {
    "duration": 9,
    "start_time": "2021-08-03T18:53:21.057Z"
   },
   {
    "duration": 17,
    "start_time": "2021-08-03T18:53:21.068Z"
   },
   {
    "duration": 24,
    "start_time": "2021-08-03T18:53:21.087Z"
   },
   {
    "duration": 4,
    "start_time": "2021-08-03T18:53:21.113Z"
   },
   {
    "duration": 22,
    "start_time": "2021-08-03T18:53:21.119Z"
   },
   {
    "duration": 204,
    "start_time": "2021-08-03T18:53:21.143Z"
   },
   {
    "duration": 19,
    "start_time": "2021-08-03T18:53:21.349Z"
   },
   {
    "duration": 4,
    "start_time": "2021-08-03T18:53:21.369Z"
   },
   {
    "duration": 216,
    "start_time": "2021-08-03T18:53:21.375Z"
   },
   {
    "duration": 182,
    "start_time": "2021-08-03T18:53:21.592Z"
   },
   {
    "duration": 181,
    "start_time": "2021-08-03T18:53:21.777Z"
   },
   {
    "duration": 192,
    "start_time": "2021-08-03T18:53:21.960Z"
   },
   {
    "duration": 22,
    "start_time": "2021-08-03T18:53:22.153Z"
   },
   {
    "duration": 9,
    "start_time": "2021-08-03T18:53:22.176Z"
   },
   {
    "duration": 12,
    "start_time": "2021-08-03T18:53:22.187Z"
   },
   {
    "duration": 233,
    "start_time": "2021-08-03T18:53:22.201Z"
   },
   {
    "duration": 11,
    "start_time": "2021-08-03T18:53:22.436Z"
   },
   {
    "duration": 15,
    "start_time": "2021-08-03T18:53:22.449Z"
   },
   {
    "duration": 322,
    "start_time": "2021-08-03T18:53:22.465Z"
   },
   {
    "duration": -40,
    "start_time": "2021-08-03T18:53:22.829Z"
   },
   {
    "duration": 260,
    "start_time": "2021-08-03T18:54:19.385Z"
   },
   {
    "duration": 158,
    "start_time": "2021-08-03T18:55:40.078Z"
   },
   {
    "duration": 177,
    "start_time": "2021-08-03T18:55:54.255Z"
   },
   {
    "duration": 194,
    "start_time": "2021-08-03T18:56:03.410Z"
   },
   {
    "duration": 181,
    "start_time": "2021-08-03T18:56:36.562Z"
   },
   {
    "duration": 178,
    "start_time": "2021-08-03T18:56:44.061Z"
   },
   {
    "duration": 181,
    "start_time": "2021-08-03T18:56:51.059Z"
   },
   {
    "duration": 177,
    "start_time": "2021-08-03T18:57:08.577Z"
   },
   {
    "duration": 182,
    "start_time": "2021-08-03T18:57:49.804Z"
   },
   {
    "duration": 868,
    "start_time": "2021-08-04T16:55:37.959Z"
   },
   {
    "duration": 119,
    "start_time": "2021-08-04T16:55:38.829Z"
   },
   {
    "duration": 37,
    "start_time": "2021-08-04T16:55:38.951Z"
   },
   {
    "duration": 13,
    "start_time": "2021-08-04T16:55:38.990Z"
   },
   {
    "duration": 28,
    "start_time": "2021-08-04T16:55:39.006Z"
   },
   {
    "duration": 20,
    "start_time": "2021-08-04T16:55:39.037Z"
   },
   {
    "duration": 21,
    "start_time": "2021-08-04T16:55:39.060Z"
   },
   {
    "duration": 22,
    "start_time": "2021-08-04T16:55:39.085Z"
   },
   {
    "duration": 34,
    "start_time": "2021-08-04T16:55:39.110Z"
   },
   {
    "duration": 903,
    "start_time": "2021-08-04T16:55:39.146Z"
   },
   {
    "duration": 725,
    "start_time": "2021-08-04T16:55:40.051Z"
   },
   {
    "duration": 733,
    "start_time": "2021-08-04T16:55:40.778Z"
   },
   {
    "duration": 7,
    "start_time": "2021-08-04T16:55:41.513Z"
   },
   {
    "duration": 348,
    "start_time": "2021-08-04T16:55:41.523Z"
   },
   {
    "duration": 365,
    "start_time": "2021-08-04T16:55:41.873Z"
   },
   {
    "duration": 897,
    "start_time": "2021-08-04T16:55:42.241Z"
   },
   {
    "duration": 12,
    "start_time": "2021-08-04T16:55:43.140Z"
   },
   {
    "duration": 59,
    "start_time": "2021-08-04T16:55:43.154Z"
   },
   {
    "duration": 43,
    "start_time": "2021-08-04T16:55:43.215Z"
   },
   {
    "duration": 7,
    "start_time": "2021-08-04T16:55:43.261Z"
   },
   {
    "duration": 34,
    "start_time": "2021-08-04T16:55:43.270Z"
   },
   {
    "duration": 354,
    "start_time": "2021-08-04T16:55:43.307Z"
   },
   {
    "duration": 45,
    "start_time": "2021-08-04T16:55:43.665Z"
   },
   {
    "duration": 7,
    "start_time": "2021-08-04T16:55:43.713Z"
   },
   {
    "duration": 360,
    "start_time": "2021-08-04T16:55:43.723Z"
   },
   {
    "duration": 391,
    "start_time": "2021-08-04T16:55:44.085Z"
   },
   {
    "duration": 319,
    "start_time": "2021-08-04T16:55:44.479Z"
   },
   {
    "duration": 334,
    "start_time": "2021-08-04T16:55:44.800Z"
   },
   {
    "duration": 65,
    "start_time": "2021-08-04T16:55:45.137Z"
   },
   {
    "duration": 18,
    "start_time": "2021-08-04T16:55:45.206Z"
   },
   {
    "duration": 20,
    "start_time": "2021-08-04T16:55:45.226Z"
   },
   {
    "duration": 396,
    "start_time": "2021-08-04T16:55:45.249Z"
   },
   {
    "duration": 11,
    "start_time": "2021-08-04T16:55:45.648Z"
   },
   {
    "duration": 40,
    "start_time": "2021-08-04T16:55:45.661Z"
   },
   {
    "duration": 323,
    "start_time": "2021-08-04T16:55:45.703Z"
   },
   {
    "duration": 16,
    "start_time": "2021-08-04T16:55:46.029Z"
   },
   {
    "duration": 713,
    "start_time": "2021-08-04T16:57:14.230Z"
   },
   {
    "duration": 332,
    "start_time": "2021-08-04T16:57:57.599Z"
   },
   {
    "duration": 325,
    "start_time": "2021-08-04T16:58:11.822Z"
   },
   {
    "duration": 331,
    "start_time": "2021-08-04T16:59:21.238Z"
   },
   {
    "duration": 327,
    "start_time": "2021-08-04T16:59:42.261Z"
   },
   {
    "duration": 317,
    "start_time": "2021-08-04T17:00:31.566Z"
   },
   {
    "duration": 407,
    "start_time": "2021-08-04T17:01:23.485Z"
   },
   {
    "duration": 360,
    "start_time": "2021-08-04T17:02:26.532Z"
   },
   {
    "duration": 1242,
    "start_time": "2021-08-04T17:03:21.828Z"
   },
   {
    "duration": 807,
    "start_time": "2021-08-04T17:03:34.747Z"
   },
   {
    "duration": 360,
    "start_time": "2021-08-04T17:04:04.315Z"
   },
   {
    "duration": 403,
    "start_time": "2021-08-04T17:05:03.190Z"
   },
   {
    "duration": 324,
    "start_time": "2021-08-04T17:05:40.545Z"
   },
   {
    "duration": 134,
    "start_time": "2021-08-04T17:06:44.576Z"
   },
   {
    "duration": 124,
    "start_time": "2021-08-04T17:06:44.714Z"
   },
   {
    "duration": 35,
    "start_time": "2021-08-04T17:06:44.841Z"
   },
   {
    "duration": 28,
    "start_time": "2021-08-04T17:06:44.880Z"
   },
   {
    "duration": 20,
    "start_time": "2021-08-04T17:06:44.911Z"
   },
   {
    "duration": 21,
    "start_time": "2021-08-04T17:06:44.934Z"
   },
   {
    "duration": 62,
    "start_time": "2021-08-04T17:06:44.957Z"
   },
   {
    "duration": 21,
    "start_time": "2021-08-04T17:06:45.025Z"
   },
   {
    "duration": 65,
    "start_time": "2021-08-04T17:06:45.050Z"
   },
   {
    "duration": 833,
    "start_time": "2021-08-04T17:06:45.118Z"
   },
   {
    "duration": 422,
    "start_time": "2021-08-04T17:06:45.954Z"
   },
   {
    "duration": 667,
    "start_time": "2021-08-04T17:06:46.378Z"
   },
   {
    "duration": 6,
    "start_time": "2021-08-04T17:06:47.048Z"
   },
   {
    "duration": 325,
    "start_time": "2021-08-04T17:06:47.056Z"
   },
   {
    "duration": 336,
    "start_time": "2021-08-04T17:06:47.384Z"
   },
   {
    "duration": 864,
    "start_time": "2021-08-04T17:06:47.722Z"
   },
   {
    "duration": 20,
    "start_time": "2021-08-04T17:06:48.589Z"
   },
   {
    "duration": 28,
    "start_time": "2021-08-04T17:06:48.612Z"
   },
   {
    "duration": 60,
    "start_time": "2021-08-04T17:06:48.643Z"
   },
   {
    "duration": 7,
    "start_time": "2021-08-04T17:06:48.706Z"
   },
   {
    "duration": 10,
    "start_time": "2021-08-04T17:06:48.716Z"
   },
   {
    "duration": 361,
    "start_time": "2021-08-04T17:06:48.728Z"
   },
   {
    "duration": 28,
    "start_time": "2021-08-04T17:06:49.101Z"
   },
   {
    "duration": 5,
    "start_time": "2021-08-04T17:06:49.132Z"
   },
   {
    "duration": 354,
    "start_time": "2021-08-04T17:06:49.140Z"
   },
   {
    "duration": 307,
    "start_time": "2021-08-04T17:06:49.496Z"
   },
   {
    "duration": 309,
    "start_time": "2021-08-04T17:06:49.805Z"
   },
   {
    "duration": 389,
    "start_time": "2021-08-04T17:06:50.117Z"
   },
   {
    "duration": 34,
    "start_time": "2021-08-04T17:06:50.508Z"
   },
   {
    "duration": 13,
    "start_time": "2021-08-04T17:06:50.544Z"
   },
   {
    "duration": 50,
    "start_time": "2021-08-04T17:06:50.559Z"
   },
   {
    "duration": 355,
    "start_time": "2021-08-04T17:06:50.611Z"
   },
   {
    "duration": 11,
    "start_time": "2021-08-04T17:06:50.968Z"
   },
   {
    "duration": 29,
    "start_time": "2021-08-04T17:06:50.981Z"
   },
   {
    "duration": 379,
    "start_time": "2021-08-04T17:06:51.013Z"
   },
   {
    "duration": 348,
    "start_time": "2021-08-04T17:06:51.395Z"
   },
   {
    "duration": 14,
    "start_time": "2021-08-04T17:06:51.746Z"
   },
   {
    "duration": 229,
    "start_time": "2021-08-04T17:12:37.982Z"
   },
   {
    "duration": 128,
    "start_time": "2021-08-04T17:12:43.477Z"
   },
   {
    "duration": 337,
    "start_time": "2021-08-04T17:13:07.466Z"
   },
   {
    "duration": 1042,
    "start_time": "2021-08-04T17:15:45.983Z"
   },
   {
    "duration": 141,
    "start_time": "2021-08-04T17:15:47.029Z"
   },
   {
    "duration": 54,
    "start_time": "2021-08-04T17:15:47.174Z"
   },
   {
    "duration": 8,
    "start_time": "2021-08-04T17:15:47.231Z"
   },
   {
    "duration": 30,
    "start_time": "2021-08-04T17:15:47.242Z"
   },
   {
    "duration": 45,
    "start_time": "2021-08-04T17:15:47.274Z"
   },
   {
    "duration": 29,
    "start_time": "2021-08-04T17:15:47.321Z"
   },
   {
    "duration": 53,
    "start_time": "2021-08-04T17:15:47.354Z"
   },
   {
    "duration": 41,
    "start_time": "2021-08-04T17:15:47.411Z"
   },
   {
    "duration": 955,
    "start_time": "2021-08-04T17:15:47.456Z"
   },
   {
    "duration": 738,
    "start_time": "2021-08-04T17:15:48.414Z"
   },
   {
    "duration": 825,
    "start_time": "2021-08-04T17:15:49.155Z"
   },
   {
    "duration": 19,
    "start_time": "2021-08-04T17:15:49.982Z"
   },
   {
    "duration": 405,
    "start_time": "2021-08-04T17:15:50.004Z"
   },
   {
    "duration": 402,
    "start_time": "2021-08-04T17:15:50.413Z"
   },
   {
    "duration": 1169,
    "start_time": "2021-08-04T17:15:50.818Z"
   },
   {
    "duration": 19,
    "start_time": "2021-08-04T17:15:51.990Z"
   },
   {
    "duration": 29,
    "start_time": "2021-08-04T17:15:52.012Z"
   },
   {
    "duration": 68,
    "start_time": "2021-08-04T17:15:52.044Z"
   },
   {
    "duration": 7,
    "start_time": "2021-08-04T17:15:52.115Z"
   },
   {
    "duration": 21,
    "start_time": "2021-08-04T17:15:52.124Z"
   },
   {
    "duration": 513,
    "start_time": "2021-08-04T17:15:52.148Z"
   },
   {
    "duration": 47,
    "start_time": "2021-08-04T17:15:52.666Z"
   },
   {
    "duration": 8,
    "start_time": "2021-08-04T17:15:52.716Z"
   },
   {
    "duration": 416,
    "start_time": "2021-08-04T17:15:52.727Z"
   },
   {
    "duration": 450,
    "start_time": "2021-08-04T17:15:53.146Z"
   },
   {
    "duration": 362,
    "start_time": "2021-08-04T17:15:53.601Z"
   },
   {
    "duration": 341,
    "start_time": "2021-08-04T17:15:53.966Z"
   },
   {
    "duration": 33,
    "start_time": "2021-08-04T17:15:54.309Z"
   },
   {
    "duration": 15,
    "start_time": "2021-08-04T17:15:54.345Z"
   },
   {
    "duration": 51,
    "start_time": "2021-08-04T17:15:54.363Z"
   },
   {
    "duration": 447,
    "start_time": "2021-08-04T17:15:54.418Z"
   },
   {
    "duration": 14,
    "start_time": "2021-08-04T17:15:54.868Z"
   },
   {
    "duration": 30,
    "start_time": "2021-08-04T17:15:54.884Z"
   },
   {
    "duration": 366,
    "start_time": "2021-08-04T17:15:54.917Z"
   },
   {
    "duration": 866,
    "start_time": "2021-08-05T10:23:01.644Z"
   },
   {
    "duration": 106,
    "start_time": "2021-08-05T10:23:02.513Z"
   },
   {
    "duration": 33,
    "start_time": "2021-08-05T10:23:02.622Z"
   },
   {
    "duration": 33,
    "start_time": "2021-08-05T10:23:02.659Z"
   },
   {
    "duration": 27,
    "start_time": "2021-08-05T10:23:02.695Z"
   },
   {
    "duration": 23,
    "start_time": "2021-08-05T10:23:02.725Z"
   },
   {
    "duration": 58,
    "start_time": "2021-08-05T10:23:02.751Z"
   },
   {
    "duration": 21,
    "start_time": "2021-08-05T10:23:02.812Z"
   },
   {
    "duration": 63,
    "start_time": "2021-08-05T10:23:02.837Z"
   },
   {
    "duration": 1140,
    "start_time": "2021-08-05T10:23:02.903Z"
   },
   {
    "duration": 547,
    "start_time": "2021-08-05T10:23:04.046Z"
   },
   {
    "duration": 589,
    "start_time": "2021-08-05T10:23:04.596Z"
   },
   {
    "duration": 8,
    "start_time": "2021-08-05T10:23:05.188Z"
   },
   {
    "duration": 322,
    "start_time": "2021-08-05T10:23:05.199Z"
   },
   {
    "duration": 331,
    "start_time": "2021-08-05T10:23:05.524Z"
   },
   {
    "duration": 825,
    "start_time": "2021-08-05T10:23:05.857Z"
   },
   {
    "duration": 11,
    "start_time": "2021-08-05T10:23:06.684Z"
   },
   {
    "duration": 26,
    "start_time": "2021-08-05T10:23:06.698Z"
   },
   {
    "duration": 58,
    "start_time": "2021-08-05T10:23:06.726Z"
   },
   {
    "duration": 6,
    "start_time": "2021-08-05T10:23:06.786Z"
   },
   {
    "duration": 10,
    "start_time": "2021-08-05T10:23:06.794Z"
   },
   {
    "duration": 342,
    "start_time": "2021-08-05T10:23:06.806Z"
   },
   {
    "duration": 41,
    "start_time": "2021-08-05T10:23:07.150Z"
   },
   {
    "duration": 6,
    "start_time": "2021-08-05T10:23:07.193Z"
   },
   {
    "duration": 333,
    "start_time": "2021-08-05T10:23:07.201Z"
   },
   {
    "duration": 358,
    "start_time": "2021-08-05T10:23:07.537Z"
   },
   {
    "duration": 293,
    "start_time": "2021-08-05T10:23:07.899Z"
   },
   {
    "duration": 331,
    "start_time": "2021-08-05T10:23:08.194Z"
   },
   {
    "duration": 30,
    "start_time": "2021-08-05T10:23:08.528Z"
   },
   {
    "duration": 24,
    "start_time": "2021-08-05T10:23:08.560Z"
   },
   {
    "duration": 19,
    "start_time": "2021-08-05T10:23:08.586Z"
   },
   {
    "duration": 355,
    "start_time": "2021-08-05T10:23:08.608Z"
   },
   {
    "duration": 18,
    "start_time": "2021-08-05T10:23:08.965Z"
   },
   {
    "duration": 17,
    "start_time": "2021-08-05T10:23:08.986Z"
   },
   {
    "duration": 331,
    "start_time": "2021-08-05T10:23:09.005Z"
   },
   {
    "duration": 912,
    "start_time": "2021-08-05T15:54:19.518Z"
   },
   {
    "duration": 132,
    "start_time": "2021-08-05T15:54:20.434Z"
   },
   {
    "duration": 52,
    "start_time": "2021-08-05T15:54:20.569Z"
   },
   {
    "duration": 8,
    "start_time": "2021-08-05T15:54:20.624Z"
   },
   {
    "duration": 24,
    "start_time": "2021-08-05T15:54:20.635Z"
   },
   {
    "duration": 42,
    "start_time": "2021-08-05T15:54:20.662Z"
   },
   {
    "duration": 17,
    "start_time": "2021-08-05T15:54:20.707Z"
   },
   {
    "duration": 66,
    "start_time": "2021-08-05T15:54:20.729Z"
   },
   {
    "duration": 22,
    "start_time": "2021-08-05T15:54:20.799Z"
   },
   {
    "duration": 71,
    "start_time": "2021-08-05T15:54:20.824Z"
   },
   {
    "duration": 862,
    "start_time": "2021-08-05T15:54:20.898Z"
   },
   {
    "duration": 611,
    "start_time": "2021-08-05T15:54:21.762Z"
   },
   {
    "duration": 643,
    "start_time": "2021-08-05T15:54:22.375Z"
   },
   {
    "duration": 7,
    "start_time": "2021-08-05T15:54:23.021Z"
   },
   {
    "duration": 342,
    "start_time": "2021-08-05T15:54:23.031Z"
   },
   {
    "duration": 359,
    "start_time": "2021-08-05T15:54:23.376Z"
   },
   {
    "duration": 921,
    "start_time": "2021-08-05T15:54:23.738Z"
   },
   {
    "duration": 27,
    "start_time": "2021-08-05T15:54:24.662Z"
   },
   {
    "duration": 34,
    "start_time": "2021-08-05T15:54:24.695Z"
   },
   {
    "duration": 72,
    "start_time": "2021-08-05T15:54:24.733Z"
   },
   {
    "duration": 7,
    "start_time": "2021-08-05T15:54:24.808Z"
   },
   {
    "duration": 6,
    "start_time": "2021-08-05T15:54:24.817Z"
   },
   {
    "duration": 452,
    "start_time": "2021-08-05T15:54:24.828Z"
   },
   {
    "duration": 37,
    "start_time": "2021-08-05T15:54:25.286Z"
   },
   {
    "duration": 7,
    "start_time": "2021-08-05T15:54:25.326Z"
   },
   {
    "duration": 426,
    "start_time": "2021-08-05T15:54:25.336Z"
   },
   {
    "duration": 420,
    "start_time": "2021-08-05T15:54:25.766Z"
   },
   {
    "duration": 338,
    "start_time": "2021-08-05T15:54:26.188Z"
   },
   {
    "duration": 351,
    "start_time": "2021-08-05T15:54:26.529Z"
   },
   {
    "duration": 42,
    "start_time": "2021-08-05T15:54:26.886Z"
   },
   {
    "duration": 14,
    "start_time": "2021-08-05T15:54:26.931Z"
   },
   {
    "duration": 57,
    "start_time": "2021-08-05T15:54:26.947Z"
   },
   {
    "duration": 410,
    "start_time": "2021-08-05T15:54:27.006Z"
   },
   {
    "duration": 11,
    "start_time": "2021-08-05T15:54:27.419Z"
   },
   {
    "duration": 24,
    "start_time": "2021-08-05T15:54:27.432Z"
   },
   {
    "duration": 426,
    "start_time": "2021-08-05T15:54:27.486Z"
   },
   {
    "duration": 12,
    "start_time": "2021-08-05T15:57:23.767Z"
   },
   {
    "duration": 36,
    "start_time": "2021-08-05T16:04:39.513Z"
   },
   {
    "duration": 40,
    "start_time": "2021-08-05T16:07:24.565Z"
   },
   {
    "duration": 36,
    "start_time": "2021-08-05T16:07:44.508Z"
   },
   {
    "duration": 38,
    "start_time": "2021-08-05T16:12:19.825Z"
   },
   {
    "duration": 106,
    "start_time": "2021-08-05T16:23:39.479Z"
   },
   {
    "duration": 124,
    "start_time": "2021-08-05T16:23:39.588Z"
   },
   {
    "duration": 34,
    "start_time": "2021-08-05T16:23:39.715Z"
   },
   {
    "duration": 15,
    "start_time": "2021-08-05T16:23:39.752Z"
   },
   {
    "duration": 21,
    "start_time": "2021-08-05T16:23:39.786Z"
   },
   {
    "duration": 32,
    "start_time": "2021-08-05T16:23:39.809Z"
   },
   {
    "duration": 46,
    "start_time": "2021-08-05T16:23:39.844Z"
   },
   {
    "duration": 156,
    "start_time": "2021-08-05T16:23:39.892Z"
   },
   {
    "duration": -70,
    "start_time": "2021-08-05T16:23:40.124Z"
   },
   {
    "duration": -73,
    "start_time": "2021-08-05T16:23:40.129Z"
   },
   {
    "duration": -76,
    "start_time": "2021-08-05T16:23:40.133Z"
   },
   {
    "duration": -78,
    "start_time": "2021-08-05T16:23:40.137Z"
   },
   {
    "duration": -82,
    "start_time": "2021-08-05T16:23:40.143Z"
   },
   {
    "duration": -83,
    "start_time": "2021-08-05T16:23:40.146Z"
   },
   {
    "duration": -85,
    "start_time": "2021-08-05T16:23:40.150Z"
   },
   {
    "duration": -85,
    "start_time": "2021-08-05T16:23:40.153Z"
   },
   {
    "duration": -87,
    "start_time": "2021-08-05T16:23:40.157Z"
   },
   {
    "duration": -89,
    "start_time": "2021-08-05T16:23:40.161Z"
   },
   {
    "duration": -90,
    "start_time": "2021-08-05T16:23:40.164Z"
   },
   {
    "duration": -92,
    "start_time": "2021-08-05T16:23:40.168Z"
   },
   {
    "duration": -94,
    "start_time": "2021-08-05T16:23:40.172Z"
   },
   {
    "duration": -96,
    "start_time": "2021-08-05T16:23:40.176Z"
   },
   {
    "duration": -98,
    "start_time": "2021-08-05T16:23:40.180Z"
   },
   {
    "duration": -105,
    "start_time": "2021-08-05T16:23:40.189Z"
   },
   {
    "duration": -107,
    "start_time": "2021-08-05T16:23:40.193Z"
   },
   {
    "duration": -110,
    "start_time": "2021-08-05T16:23:40.197Z"
   },
   {
    "duration": -112,
    "start_time": "2021-08-05T16:23:40.201Z"
   },
   {
    "duration": -113,
    "start_time": "2021-08-05T16:23:40.204Z"
   },
   {
    "duration": -114,
    "start_time": "2021-08-05T16:23:40.207Z"
   },
   {
    "duration": -116,
    "start_time": "2021-08-05T16:23:40.211Z"
   },
   {
    "duration": -118,
    "start_time": "2021-08-05T16:23:40.214Z"
   },
   {
    "duration": -121,
    "start_time": "2021-08-05T16:23:40.218Z"
   },
   {
    "duration": -123,
    "start_time": "2021-08-05T16:23:40.222Z"
   },
   {
    "duration": -124,
    "start_time": "2021-08-05T16:23:40.225Z"
   },
   {
    "duration": -126,
    "start_time": "2021-08-05T16:23:40.229Z"
   },
   {
    "duration": -128,
    "start_time": "2021-08-05T16:23:40.233Z"
   },
   {
    "duration": -128,
    "start_time": "2021-08-05T16:23:40.236Z"
   },
   {
    "duration": -129,
    "start_time": "2021-08-05T16:23:40.239Z"
   },
   {
    "duration": 195,
    "start_time": "2021-08-05T16:26:03.213Z"
   },
   {
    "duration": 230,
    "start_time": "2021-08-05T16:26:09.057Z"
   },
   {
    "duration": 171,
    "start_time": "2021-08-05T16:26:14.084Z"
   },
   {
    "duration": 4,
    "start_time": "2021-08-05T16:26:18.396Z"
   },
   {
    "duration": 139,
    "start_time": "2021-08-05T16:26:23.278Z"
   },
   {
    "duration": 127,
    "start_time": "2021-08-05T16:26:23.419Z"
   },
   {
    "duration": 51,
    "start_time": "2021-08-05T16:26:23.549Z"
   },
   {
    "duration": 13,
    "start_time": "2021-08-05T16:26:23.603Z"
   },
   {
    "duration": 36,
    "start_time": "2021-08-05T16:26:23.618Z"
   },
   {
    "duration": 28,
    "start_time": "2021-08-05T16:26:23.657Z"
   },
   {
    "duration": 39,
    "start_time": "2021-08-05T16:26:23.688Z"
   },
   {
    "duration": 3,
    "start_time": "2021-08-05T16:26:23.731Z"
   },
   {
    "duration": 622,
    "start_time": "2021-08-05T16:26:23.737Z"
   },
   {
    "duration": -67,
    "start_time": "2021-08-05T16:26:24.430Z"
   },
   {
    "duration": -68,
    "start_time": "2021-08-05T16:26:24.433Z"
   },
   {
    "duration": -71,
    "start_time": "2021-08-05T16:26:24.437Z"
   },
   {
    "duration": -74,
    "start_time": "2021-08-05T16:26:24.441Z"
   },
   {
    "duration": -75,
    "start_time": "2021-08-05T16:26:24.444Z"
   },
   {
    "duration": -78,
    "start_time": "2021-08-05T16:26:24.448Z"
   },
   {
    "duration": -80,
    "start_time": "2021-08-05T16:26:24.451Z"
   },
   {
    "duration": -82,
    "start_time": "2021-08-05T16:26:24.455Z"
   },
   {
    "duration": -85,
    "start_time": "2021-08-05T16:26:24.459Z"
   },
   {
    "duration": -88,
    "start_time": "2021-08-05T16:26:24.463Z"
   },
   {
    "duration": -89,
    "start_time": "2021-08-05T16:26:24.466Z"
   },
   {
    "duration": -92,
    "start_time": "2021-08-05T16:26:24.470Z"
   },
   {
    "duration": -95,
    "start_time": "2021-08-05T16:26:24.474Z"
   },
   {
    "duration": -100,
    "start_time": "2021-08-05T16:26:24.480Z"
   },
   {
    "duration": -103,
    "start_time": "2021-08-05T16:26:24.484Z"
   },
   {
    "duration": -114,
    "start_time": "2021-08-05T16:26:24.496Z"
   },
   {
    "duration": -116,
    "start_time": "2021-08-05T16:26:24.500Z"
   },
   {
    "duration": -120,
    "start_time": "2021-08-05T16:26:24.505Z"
   },
   {
    "duration": -121,
    "start_time": "2021-08-05T16:26:24.508Z"
   },
   {
    "duration": -123,
    "start_time": "2021-08-05T16:26:24.512Z"
   },
   {
    "duration": -126,
    "start_time": "2021-08-05T16:26:24.516Z"
   },
   {
    "duration": -129,
    "start_time": "2021-08-05T16:26:24.521Z"
   },
   {
    "duration": -132,
    "start_time": "2021-08-05T16:26:24.525Z"
   },
   {
    "duration": -134,
    "start_time": "2021-08-05T16:26:24.529Z"
   },
   {
    "duration": -137,
    "start_time": "2021-08-05T16:26:24.533Z"
   },
   {
    "duration": -138,
    "start_time": "2021-08-05T16:26:24.537Z"
   },
   {
    "duration": -140,
    "start_time": "2021-08-05T16:26:24.540Z"
   },
   {
    "duration": -141,
    "start_time": "2021-08-05T16:26:24.543Z"
   },
   {
    "duration": -143,
    "start_time": "2021-08-05T16:26:24.546Z"
   },
   {
    "duration": 19,
    "start_time": "2021-08-05T16:30:18.960Z"
   },
   {
    "duration": 16,
    "start_time": "2021-08-05T16:31:05.474Z"
   },
   {
    "duration": 136,
    "start_time": "2021-08-05T16:33:03.953Z"
   },
   {
    "duration": 151,
    "start_time": "2021-08-05T16:33:04.093Z"
   },
   {
    "duration": 82,
    "start_time": "2021-08-05T16:33:04.247Z"
   },
   {
    "duration": 7,
    "start_time": "2021-08-05T16:33:04.332Z"
   },
   {
    "duration": 45,
    "start_time": "2021-08-05T16:33:04.342Z"
   },
   {
    "duration": 23,
    "start_time": "2021-08-05T16:33:04.390Z"
   },
   {
    "duration": 17,
    "start_time": "2021-08-05T16:33:04.416Z"
   },
   {
    "duration": 67,
    "start_time": "2021-08-05T16:33:04.437Z"
   },
   {
    "duration": 26,
    "start_time": "2021-08-05T16:33:04.507Z"
   },
   {
    "duration": 67,
    "start_time": "2021-08-05T16:33:04.536Z"
   },
   {
    "duration": 1551,
    "start_time": "2021-08-05T16:33:04.606Z"
   },
   {
    "duration": 702,
    "start_time": "2021-08-05T16:33:06.160Z"
   },
   {
    "duration": 1134,
    "start_time": "2021-08-05T16:33:06.866Z"
   },
   {
    "duration": 9,
    "start_time": "2021-08-05T16:33:08.003Z"
   },
   {
    "duration": 354,
    "start_time": "2021-08-05T16:33:08.015Z"
   },
   {
    "duration": 336,
    "start_time": "2021-08-05T16:33:08.372Z"
   },
   {
    "duration": 951,
    "start_time": "2021-08-05T16:33:08.711Z"
   },
   {
    "duration": 22,
    "start_time": "2021-08-05T16:33:09.665Z"
   },
   {
    "duration": 28,
    "start_time": "2021-08-05T16:33:09.690Z"
   },
   {
    "duration": 68,
    "start_time": "2021-08-05T16:33:09.721Z"
   },
   {
    "duration": 8,
    "start_time": "2021-08-05T16:33:09.792Z"
   },
   {
    "duration": 11,
    "start_time": "2021-08-05T16:33:09.803Z"
   },
   {
    "duration": 384,
    "start_time": "2021-08-05T16:33:09.821Z"
   },
   {
    "duration": 35,
    "start_time": "2021-08-05T16:33:10.209Z"
   },
   {
    "duration": 7,
    "start_time": "2021-08-05T16:33:10.246Z"
   },
   {
    "duration": 382,
    "start_time": "2021-08-05T16:33:10.255Z"
   },
   {
    "duration": 312,
    "start_time": "2021-08-05T16:33:10.640Z"
   },
   {
    "duration": 308,
    "start_time": "2021-08-05T16:33:10.955Z"
   },
   {
    "duration": 320,
    "start_time": "2021-08-05T16:33:11.266Z"
   },
   {
    "duration": 35,
    "start_time": "2021-08-05T16:33:11.588Z"
   },
   {
    "duration": 12,
    "start_time": "2021-08-05T16:33:11.626Z"
   },
   {
    "duration": 134,
    "start_time": "2021-08-05T16:33:11.641Z"
   },
   {
    "duration": 377,
    "start_time": "2021-08-05T16:33:11.778Z"
   },
   {
    "duration": 29,
    "start_time": "2021-08-05T16:33:12.159Z"
   },
   {
    "duration": 23,
    "start_time": "2021-08-05T16:33:12.191Z"
   },
   {
    "duration": 504,
    "start_time": "2021-08-05T16:33:12.217Z"
   },
   {
    "duration": 920,
    "start_time": "2021-08-05T16:34:56.782Z"
   },
   {
    "duration": 47,
    "start_time": "2021-08-05T16:35:11.580Z"
   },
   {
    "duration": 9,
    "start_time": "2021-08-05T16:37:56.422Z"
   },
   {
    "duration": 9,
    "start_time": "2021-08-05T16:38:18.522Z"
   },
   {
    "duration": 521,
    "start_time": "2021-08-05T16:38:56.395Z"
   },
   {
    "duration": 743,
    "start_time": "2021-08-05T16:39:07.619Z"
   },
   {
    "duration": 848,
    "start_time": "2021-08-05T16:39:12.314Z"
   },
   {
    "duration": 70,
    "start_time": "2021-08-05T16:39:18.657Z"
   },
   {
    "duration": 97,
    "start_time": "2021-08-05T16:39:29.139Z"
   },
   {
    "duration": 54,
    "start_time": "2021-08-05T16:40:10.764Z"
   },
   {
    "duration": 184,
    "start_time": "2021-08-05T16:40:29.524Z"
   },
   {
    "duration": 124,
    "start_time": "2021-08-05T16:40:32.498Z"
   },
   {
    "duration": 44,
    "start_time": "2021-08-05T16:40:40.089Z"
   },
   {
    "duration": 144,
    "start_time": "2021-08-05T16:42:21.564Z"
   },
   {
    "duration": 133,
    "start_time": "2021-08-05T16:42:21.711Z"
   },
   {
    "duration": 49,
    "start_time": "2021-08-05T16:42:21.848Z"
   },
   {
    "duration": 11,
    "start_time": "2021-08-05T16:42:21.901Z"
   },
   {
    "duration": 22,
    "start_time": "2021-08-05T16:42:21.914Z"
   },
   {
    "duration": 57,
    "start_time": "2021-08-05T16:42:21.939Z"
   },
   {
    "duration": 18,
    "start_time": "2021-08-05T16:42:21.999Z"
   },
   {
    "duration": 37,
    "start_time": "2021-08-05T16:42:22.023Z"
   },
   {
    "duration": 40,
    "start_time": "2021-08-05T16:42:22.065Z"
   },
   {
    "duration": 34,
    "start_time": "2021-08-05T16:42:22.108Z"
   },
   {
    "duration": 854,
    "start_time": "2021-08-05T16:42:22.145Z"
   },
   {
    "duration": 438,
    "start_time": "2021-08-05T16:42:23.002Z"
   },
   {
    "duration": 710,
    "start_time": "2021-08-05T16:42:23.444Z"
   },
   {
    "duration": 6,
    "start_time": "2021-08-05T16:42:24.157Z"
   },
   {
    "duration": 355,
    "start_time": "2021-08-05T16:42:24.165Z"
   },
   {
    "duration": 343,
    "start_time": "2021-08-05T16:42:24.522Z"
   },
   {
    "duration": 1014,
    "start_time": "2021-08-05T16:42:24.867Z"
   },
   {
    "duration": 12,
    "start_time": "2021-08-05T16:42:25.883Z"
   },
   {
    "duration": 56,
    "start_time": "2021-08-05T16:42:25.897Z"
   },
   {
    "duration": 38,
    "start_time": "2021-08-05T16:42:25.955Z"
   },
   {
    "duration": 44,
    "start_time": "2021-08-05T16:42:25.995Z"
   },
   {
    "duration": 70,
    "start_time": "2021-08-05T16:42:26.042Z"
   },
   {
    "duration": 372,
    "start_time": "2021-08-05T16:42:26.119Z"
   },
   {
    "duration": 17,
    "start_time": "2021-08-05T16:42:26.495Z"
   },
   {
    "duration": 336,
    "start_time": "2021-08-05T16:42:26.515Z"
   },
   {
    "duration": 51,
    "start_time": "2021-08-05T16:42:26.854Z"
   },
   {
    "duration": 8,
    "start_time": "2021-08-05T16:42:26.909Z"
   },
   {
    "duration": 369,
    "start_time": "2021-08-05T16:42:26.920Z"
   },
   {
    "duration": 310,
    "start_time": "2021-08-05T16:42:27.292Z"
   },
   {
    "duration": 306,
    "start_time": "2021-08-05T16:42:27.605Z"
   },
   {
    "duration": 323,
    "start_time": "2021-08-05T16:42:27.914Z"
   },
   {
    "duration": 48,
    "start_time": "2021-08-05T16:42:28.240Z"
   },
   {
    "duration": 12,
    "start_time": "2021-08-05T16:42:28.291Z"
   },
   {
    "duration": 26,
    "start_time": "2021-08-05T16:42:28.305Z"
   },
   {
    "duration": 381,
    "start_time": "2021-08-05T16:42:28.334Z"
   },
   {
    "duration": 11,
    "start_time": "2021-08-05T16:42:28.717Z"
   },
   {
    "duration": 23,
    "start_time": "2021-08-05T16:42:28.730Z"
   },
   {
    "duration": 359,
    "start_time": "2021-08-05T16:42:28.755Z"
   },
   {
    "duration": 43,
    "start_time": "2021-08-05T16:45:23.188Z"
   },
   {
    "duration": 121,
    "start_time": "2021-08-05T16:46:23.474Z"
   },
   {
    "duration": 119,
    "start_time": "2021-08-05T16:46:23.598Z"
   },
   {
    "duration": 35,
    "start_time": "2021-08-05T16:46:23.720Z"
   },
   {
    "duration": 33,
    "start_time": "2021-08-05T16:46:23.758Z"
   },
   {
    "duration": 48,
    "start_time": "2021-08-05T16:46:23.794Z"
   },
   {
    "duration": 19,
    "start_time": "2021-08-05T16:46:23.844Z"
   },
   {
    "duration": 31,
    "start_time": "2021-08-05T16:46:23.865Z"
   },
   {
    "duration": 23,
    "start_time": "2021-08-05T16:46:23.903Z"
   },
   {
    "duration": 26,
    "start_time": "2021-08-05T16:46:23.929Z"
   },
   {
    "duration": 61,
    "start_time": "2021-08-05T16:46:23.958Z"
   },
   {
    "duration": 923,
    "start_time": "2021-08-05T16:46:24.022Z"
   },
   {
    "duration": 441,
    "start_time": "2021-08-05T16:46:24.948Z"
   },
   {
    "duration": 618,
    "start_time": "2021-08-05T16:46:25.392Z"
   },
   {
    "duration": 6,
    "start_time": "2021-08-05T16:46:26.012Z"
   },
   {
    "duration": 359,
    "start_time": "2021-08-05T16:46:26.020Z"
   },
   {
    "duration": 339,
    "start_time": "2021-08-05T16:46:26.385Z"
   },
   {
    "duration": 838,
    "start_time": "2021-08-05T16:46:26.726Z"
   },
   {
    "duration": 20,
    "start_time": "2021-08-05T16:46:27.567Z"
   },
   {
    "duration": 32,
    "start_time": "2021-08-05T16:46:27.590Z"
   },
   {
    "duration": 35,
    "start_time": "2021-08-05T16:46:27.625Z"
   },
   {
    "duration": 60,
    "start_time": "2021-08-05T16:46:27.663Z"
   },
   {
    "duration": 62,
    "start_time": "2021-08-05T16:46:27.725Z"
   },
   {
    "duration": 39,
    "start_time": "2021-08-05T16:46:27.792Z"
   },
   {
    "duration": 65,
    "start_time": "2021-08-05T16:46:27.834Z"
   },
   {
    "duration": 128,
    "start_time": "2021-08-05T16:46:27.902Z"
   },
   {
    "duration": 17,
    "start_time": "2021-08-05T16:46:28.032Z"
   },
   {
    "duration": 354,
    "start_time": "2021-08-05T16:46:28.051Z"
   },
   {
    "duration": 31,
    "start_time": "2021-08-05T16:46:28.407Z"
   },
   {
    "duration": 7,
    "start_time": "2021-08-05T16:46:28.440Z"
   },
   {
    "duration": 386,
    "start_time": "2021-08-05T16:46:28.449Z"
   },
   {
    "duration": 414,
    "start_time": "2021-08-05T16:46:28.838Z"
   },
   {
    "duration": 315,
    "start_time": "2021-08-05T16:46:29.255Z"
   },
   {
    "duration": 328,
    "start_time": "2021-08-05T16:46:29.573Z"
   },
   {
    "duration": 36,
    "start_time": "2021-08-05T16:46:29.904Z"
   },
   {
    "duration": 102,
    "start_time": "2021-08-05T16:46:29.942Z"
   },
   {
    "duration": 64,
    "start_time": "2021-08-05T16:46:30.047Z"
   },
   {
    "duration": 540,
    "start_time": "2021-08-05T16:46:30.114Z"
   },
   {
    "duration": 11,
    "start_time": "2021-08-05T16:46:30.657Z"
   },
   {
    "duration": 29,
    "start_time": "2021-08-05T16:46:30.685Z"
   },
   {
    "duration": 346,
    "start_time": "2021-08-05T16:46:30.717Z"
   },
   {
    "duration": 354,
    "start_time": "2021-08-05T16:49:19.095Z"
   },
   {
    "duration": 661,
    "start_time": "2021-08-05T16:50:40.905Z"
   },
   {
    "duration": 336,
    "start_time": "2021-08-05T16:50:51.073Z"
   },
   {
    "duration": 336,
    "start_time": "2021-08-05T16:51:55.872Z"
   },
   {
    "duration": 993,
    "start_time": "2021-08-05T16:53:12.616Z"
   },
   {
    "duration": 332,
    "start_time": "2021-08-05T16:53:49.088Z"
   },
   {
    "duration": 414,
    "start_time": "2021-08-05T16:54:19.528Z"
   },
   {
    "duration": 350,
    "start_time": "2021-08-05T16:55:09.157Z"
   },
   {
    "duration": 358,
    "start_time": "2021-08-05T16:55:20.558Z"
   },
   {
    "duration": 757,
    "start_time": "2021-08-05T16:55:46.972Z"
   },
   {
    "duration": 346,
    "start_time": "2021-08-05T16:57:02.127Z"
   },
   {
    "duration": 347,
    "start_time": "2021-08-05T17:04:40.670Z"
   },
   {
    "duration": 141,
    "start_time": "2021-08-05T17:09:44.573Z"
   },
   {
    "duration": 127,
    "start_time": "2021-08-05T17:10:01.162Z"
   },
   {
    "duration": 137,
    "start_time": "2021-08-05T17:10:12.851Z"
   },
   {
    "duration": 126,
    "start_time": "2021-08-05T17:10:24.187Z"
   },
   {
    "duration": 132,
    "start_time": "2021-08-05T17:10:35.385Z"
   },
   {
    "duration": 506,
    "start_time": "2021-08-05T17:11:35.552Z"
   },
   {
    "duration": 1773,
    "start_time": "2021-08-05T17:12:19.992Z"
   },
   {
    "duration": 332,
    "start_time": "2021-08-05T17:14:31.302Z"
   },
   {
    "duration": 336,
    "start_time": "2021-08-05T17:16:23.484Z"
   },
   {
    "duration": 936,
    "start_time": "2021-08-05T17:17:54.400Z"
   },
   {
    "duration": 119,
    "start_time": "2021-08-05T17:17:55.340Z"
   },
   {
    "duration": 43,
    "start_time": "2021-08-05T17:17:55.462Z"
   },
   {
    "duration": 7,
    "start_time": "2021-08-05T17:17:55.508Z"
   },
   {
    "duration": 30,
    "start_time": "2021-08-05T17:17:55.517Z"
   },
   {
    "duration": 38,
    "start_time": "2021-08-05T17:17:55.550Z"
   },
   {
    "duration": 17,
    "start_time": "2021-08-05T17:17:55.591Z"
   },
   {
    "duration": 22,
    "start_time": "2021-08-05T17:17:55.612Z"
   },
   {
    "duration": 50,
    "start_time": "2021-08-05T17:17:55.637Z"
   },
   {
    "duration": 35,
    "start_time": "2021-08-05T17:17:55.689Z"
   },
   {
    "duration": 848,
    "start_time": "2021-08-05T17:17:55.726Z"
   },
   {
    "duration": 561,
    "start_time": "2021-08-05T17:17:56.577Z"
   },
   {
    "duration": 645,
    "start_time": "2021-08-05T17:17:57.140Z"
   },
   {
    "duration": 7,
    "start_time": "2021-08-05T17:17:57.787Z"
   },
   {
    "duration": 428,
    "start_time": "2021-08-05T17:17:57.796Z"
   },
   {
    "duration": 347,
    "start_time": "2021-08-05T17:17:58.226Z"
   },
   {
    "duration": 867,
    "start_time": "2021-08-05T17:17:58.576Z"
   },
   {
    "duration": 11,
    "start_time": "2021-08-05T17:17:59.446Z"
   },
   {
    "duration": 49,
    "start_time": "2021-08-05T17:17:59.460Z"
   },
   {
    "duration": 35,
    "start_time": "2021-08-05T17:17:59.511Z"
   },
   {
    "duration": 71,
    "start_time": "2021-08-05T17:17:59.548Z"
   },
   {
    "duration": 64,
    "start_time": "2021-08-05T17:17:59.622Z"
   },
   {
    "duration": 39,
    "start_time": "2021-08-05T17:17:59.693Z"
   },
   {
    "duration": 62,
    "start_time": "2021-08-05T17:17:59.735Z"
   },
   {
    "duration": 7,
    "start_time": "2021-08-05T17:17:59.799Z"
   },
   {
    "duration": 8,
    "start_time": "2021-08-05T17:17:59.808Z"
   },
   {
    "duration": 382,
    "start_time": "2021-08-05T17:17:59.819Z"
   },
   {
    "duration": 32,
    "start_time": "2021-08-05T17:18:00.203Z"
   },
   {
    "duration": 7,
    "start_time": "2021-08-05T17:18:00.238Z"
   },
   {
    "duration": 380,
    "start_time": "2021-08-05T17:18:00.247Z"
   },
   {
    "duration": 408,
    "start_time": "2021-08-05T17:18:00.630Z"
   },
   {
    "duration": 317,
    "start_time": "2021-08-05T17:18:01.041Z"
   },
   {
    "duration": 327,
    "start_time": "2021-08-05T17:18:01.361Z"
   },
   {
    "duration": 34,
    "start_time": "2021-08-05T17:18:01.691Z"
   },
   {
    "duration": 12,
    "start_time": "2021-08-05T17:18:01.727Z"
   },
   {
    "duration": 58,
    "start_time": "2021-08-05T17:18:01.742Z"
   },
   {
    "duration": 378,
    "start_time": "2021-08-05T17:18:01.802Z"
   },
   {
    "duration": 11,
    "start_time": "2021-08-05T17:18:02.185Z"
   },
   {
    "duration": 39,
    "start_time": "2021-08-05T17:18:02.198Z"
   },
   {
    "duration": 345,
    "start_time": "2021-08-05T17:18:02.240Z"
   },
   {
    "duration": 348,
    "start_time": "2021-08-05T17:18:02.587Z"
   },
   {
    "duration": 352,
    "start_time": "2021-08-05T17:18:02.937Z"
   },
   {
    "duration": 376,
    "start_time": "2021-08-05T17:30:23.524Z"
   },
   {
    "duration": 868,
    "start_time": "2021-08-05T17:30:27.119Z"
   },
   {
    "duration": 122,
    "start_time": "2021-08-05T17:30:27.989Z"
   },
   {
    "duration": 33,
    "start_time": "2021-08-05T17:30:28.115Z"
   },
   {
    "duration": 26,
    "start_time": "2021-08-05T17:30:28.151Z"
   },
   {
    "duration": 22,
    "start_time": "2021-08-05T17:30:28.186Z"
   },
   {
    "duration": 18,
    "start_time": "2021-08-05T17:30:28.211Z"
   },
   {
    "duration": 17,
    "start_time": "2021-08-05T17:30:28.232Z"
   },
   {
    "duration": 23,
    "start_time": "2021-08-05T17:30:28.285Z"
   },
   {
    "duration": 31,
    "start_time": "2021-08-05T17:30:28.311Z"
   },
   {
    "duration": 62,
    "start_time": "2021-08-05T17:30:28.344Z"
   },
   {
    "duration": 886,
    "start_time": "2021-08-05T17:30:28.408Z"
   },
   {
    "duration": 591,
    "start_time": "2021-08-05T17:30:29.297Z"
   },
   {
    "duration": 649,
    "start_time": "2021-08-05T17:30:29.891Z"
   },
   {
    "duration": 7,
    "start_time": "2021-08-05T17:30:30.543Z"
   },
   {
    "duration": 345,
    "start_time": "2021-08-05T17:30:30.552Z"
   },
   {
    "duration": 353,
    "start_time": "2021-08-05T17:30:30.900Z"
   },
   {
    "duration": 858,
    "start_time": "2021-08-05T17:30:31.256Z"
   },
   {
    "duration": 11,
    "start_time": "2021-08-05T17:30:32.116Z"
   },
   {
    "duration": 31,
    "start_time": "2021-08-05T17:30:32.130Z"
   },
   {
    "duration": 35,
    "start_time": "2021-08-05T17:30:32.186Z"
   },
   {
    "duration": 65,
    "start_time": "2021-08-05T17:30:32.224Z"
   },
   {
    "duration": 42,
    "start_time": "2021-08-05T17:30:32.291Z"
   },
   {
    "duration": 64,
    "start_time": "2021-08-05T17:30:32.339Z"
   },
   {
    "duration": 41,
    "start_time": "2021-08-05T17:30:32.406Z"
   },
   {
    "duration": 6,
    "start_time": "2021-08-05T17:30:32.449Z"
   },
   {
    "duration": 32,
    "start_time": "2021-08-05T17:30:32.458Z"
   },
   {
    "duration": 356,
    "start_time": "2021-08-05T17:30:32.492Z"
   },
   {
    "duration": 45,
    "start_time": "2021-08-05T17:30:32.851Z"
   },
   {
    "duration": 7,
    "start_time": "2021-08-05T17:30:32.898Z"
   },
   {
    "duration": 378,
    "start_time": "2021-08-05T17:30:32.907Z"
   },
   {
    "duration": 401,
    "start_time": "2021-08-05T17:30:33.287Z"
   },
   {
    "duration": 330,
    "start_time": "2021-08-05T17:30:33.691Z"
   },
   {
    "duration": 330,
    "start_time": "2021-08-05T17:30:34.023Z"
   },
   {
    "duration": 51,
    "start_time": "2021-08-05T17:30:34.355Z"
   },
   {
    "duration": 13,
    "start_time": "2021-08-05T17:30:34.408Z"
   },
   {
    "duration": 55,
    "start_time": "2021-08-05T17:30:34.424Z"
   },
   {
    "duration": 370,
    "start_time": "2021-08-05T17:30:34.482Z"
   },
   {
    "duration": 11,
    "start_time": "2021-08-05T17:30:34.855Z"
   },
   {
    "duration": 26,
    "start_time": "2021-08-05T17:30:34.869Z"
   },
   {
    "duration": 369,
    "start_time": "2021-08-05T17:30:34.898Z"
   },
   {
    "duration": 370,
    "start_time": "2021-08-05T17:30:35.269Z"
   },
   {
    "duration": 368,
    "start_time": "2021-08-05T17:30:35.642Z"
   },
   {
    "duration": 10,
    "start_time": "2021-08-05T17:31:24.781Z"
   },
   {
    "duration": 9,
    "start_time": "2021-08-05T17:31:43.763Z"
   }
  ],
  "celltoolbar": "Необработанный формат ячейки",
  "kernelspec": {
   "display_name": "Python 3",
   "language": "python",
   "name": "python3"
  },
  "language_info": {
   "codemirror_mode": {
    "name": "ipython",
    "version": 3
   },
   "file_extension": ".py",
   "mimetype": "text/x-python",
   "name": "python",
   "nbconvert_exporter": "python",
   "pygments_lexer": "ipython3",
   "version": "3.8.8"
  },
  "toc": {
   "base_numbering": 1,
   "nav_menu": {},
   "number_sections": true,
   "sideBar": true,
   "skip_h1_title": true,
   "title_cell": "Содержание",
   "title_sidebar": "Contents",
   "toc_cell": true,
   "toc_position": {
    "height": "calc(100% - 180px)",
    "left": "10px",
    "top": "150px",
    "width": "312px"
   },
   "toc_section_display": true,
   "toc_window_display": false
  },
  "widgets": {
   "application/vnd.jupyter.widget-state+json": {
    "state": {},
    "version_major": 2,
    "version_minor": 0
   }
  }
 },
 "nbformat": 4,
 "nbformat_minor": 2
}
